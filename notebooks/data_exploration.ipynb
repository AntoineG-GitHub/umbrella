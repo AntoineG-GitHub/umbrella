{
 "cells": [
  {
   "cell_type": "code",
   "execution_count": 1,
   "id": "d06e1e0f",
   "metadata": {},
   "outputs": [],
   "source": [
    "import os\n",
    "import sys\n",
    "import requests\n",
    "import pandas as pd\n",
    "import matplotlib.pyplot as plt\n",
    "# Plot portfolio_total_value with formatted y-axis ticks for readability\n",
    "import matplotlib.ticker as mticker\n",
    "\n",
    "# Set the notebook to the root directory\n",
    "ROOT_DIR = os.path.abspath(os.path.join(\"..\"))\n",
    "sys.path.insert(0, ROOT_DIR)\n",
    "\n",
    "# Define the local endpoint\n",
    "endpoint = f\"http://127.0.0.1:8000/portfolio_valuation/get_daily_portfolio_snapshot/?start_date=2025-01-01&end_date=2025-06-30\"\n",
    "# endpoint = f\"http://127.0.0.1:8000/portfolio_valuation/get_daily_portfolio_snapshot/?start_date=2024-06-01&end_date=2024-12-31\"\n",
    "\n",
    "# Make a GET request to the local endpoint\n",
    "response = requests.get(endpoint)\n",
    "\n",
    "# Check if the request was successful\n",
    "if response.status_code == 200:\n",
    "    data = response.json()\n",
    "    # Extract the 'data' part\n",
    "    df = pd.DataFrame(data[\"data\"])\n",
    "    # Convert numeric columns from strings to float (if needed)\n",
    "    numeric_columns = [\"nav_per_unit\"]\n",
    "    df[numeric_columns] = df[numeric_columns].astype(float)\n",
    "else:\n",
    "    print(f\"Failed to fetch data. Status code: {response.status_code}\")\n",
    "\n"
   ]
  },
  {
   "cell_type": "code",
   "execution_count": 2,
   "id": "b6f04d2c",
   "metadata": {},
   "outputs": [
    {
     "data": {
      "application/vnd.plotly.v1+json": {
       "config": {
        "plotlyServerURL": "https://plot.ly"
       },
       "data": [
        {
         "line": {
          "color": "blue"
         },
         "mode": "lines",
         "name": "Fund Total Value",
         "type": "scatter",
         "x": [
          "2025-01-01",
          "2025-01-02",
          "2025-01-03",
          "2025-01-06",
          "2025-01-07",
          "2025-01-08",
          "2025-01-09",
          "2025-01-10",
          "2025-01-13",
          "2025-01-14",
          "2025-01-15",
          "2025-01-16",
          "2025-01-17",
          "2025-01-20",
          "2025-01-21",
          "2025-01-22",
          "2025-01-23",
          "2025-01-24",
          "2025-01-27",
          "2025-01-28",
          "2025-01-29",
          "2025-01-30",
          "2025-01-31",
          "2025-02-03",
          "2025-02-04",
          "2025-02-05",
          "2025-02-06",
          "2025-02-07",
          "2025-02-10",
          "2025-02-11",
          "2025-02-12",
          "2025-02-13",
          "2025-02-14",
          "2025-02-17",
          "2025-02-18",
          "2025-02-19",
          "2025-02-20",
          "2025-02-21",
          "2025-02-24",
          "2025-02-25",
          "2025-02-26",
          "2025-02-27",
          "2025-02-28",
          "2025-03-03",
          "2025-03-04",
          "2025-03-05",
          "2025-03-06",
          "2025-03-07",
          "2025-03-10",
          "2025-03-11",
          "2025-03-12",
          "2025-03-13",
          "2025-03-14",
          "2025-03-17",
          "2025-03-18",
          "2025-03-19",
          "2025-03-20",
          "2025-03-21",
          "2025-03-24",
          "2025-03-25",
          "2025-03-26",
          "2025-03-27",
          "2025-03-28",
          "2025-03-31",
          "2025-04-01",
          "2025-04-02",
          "2025-04-03",
          "2025-04-04",
          "2025-04-07",
          "2025-04-08",
          "2025-04-09",
          "2025-04-10",
          "2025-04-11",
          "2025-04-14",
          "2025-04-15",
          "2025-04-16",
          "2025-04-17",
          "2025-04-18",
          "2025-04-21",
          "2025-04-22",
          "2025-04-23",
          "2025-04-24",
          "2025-04-25",
          "2025-04-28",
          "2025-04-29",
          "2025-04-30",
          "2025-05-01",
          "2025-05-02",
          "2025-05-05",
          "2025-05-06",
          "2025-05-07",
          "2025-05-08",
          "2025-05-09",
          "2025-05-12",
          "2025-05-13",
          "2025-05-14",
          "2025-05-15",
          "2025-05-16",
          "2025-05-19",
          "2025-05-20",
          "2025-05-21",
          "2025-05-22",
          "2025-05-23",
          "2025-05-26",
          "2025-05-27",
          "2025-05-28",
          "2025-05-29",
          "2025-05-30",
          "2025-06-02",
          "2025-06-03",
          "2025-06-04",
          "2025-06-05",
          "2025-06-06",
          "2025-06-09",
          "2025-06-10",
          "2025-06-11",
          "2025-06-12",
          "2025-06-13",
          "2025-06-16",
          "2025-06-17",
          "2025-06-18",
          "2025-06-19",
          "2025-06-20",
          "2025-06-23",
          "2025-06-24",
          "2025-06-25",
          "2025-06-26",
          "2025-06-27",
          "2025-06-30"
         ],
         "xaxis": "x",
         "y": {
          "bdata": "KVyPwhVnxkDNzMzM3FzQQAAAAADwmtBArkfhepSP0EBI4XoUXmvQQEjhehQ+dNBA7FG4HgX9xkDsUbgehVjQQD0K16OgUdBAFK5H4dpF0ECPwvUonGnQQMP1KFw/YdBA9ihcj4KL0EBSuB6Fa/vGQJqZmZlph9BArkfhevSz0ECF61G4TrfQQNejcD3aiNBAuB6F6wFI0EDsUbgeBbLQQEjhehT+iNBACtejcE1l0EC4HoXr4VPQQFyPwvV4VtBA7FG4HvVx0EA9CtejwI/QQKRwPQqng9BAw/UoXF+I0ECF61G4/qLQQClcj8IliNBAexSuR/F70ECkcD0Kp5jQQKRwPQo3hdBA9ihcj0JRx0CF61G4/qXQQAAAAADAqtBAUrgehfuN0EBmZmZmBnXQQIXrUbheYdBAhetRuG4y0ECuR+F6dEjQQDMzMzOTE9BAAAAAAIAy0EAzMzMzU87PQB+F61EYfc9APQrXoxCNz0DD9Shcb0fPQDMzMzMzSM9A9ihcj6INz0AzMzMzc9zOQM3MzMyMCc9Aw/UoXK/6zkBI4XoULlDPQJqZmZkZVc9ApHA9CvcQz0ApXI/CdU/PQMP1KFyPV89Aj8L1KPxGz0CkcD0Kl5PPQJqZmZl5h89AhetRuD5Qz0DsUbgepUXPQBSuR+H68s5Aw/UoXE/+zkC4HoXr0TbPQOxRuB5FMs9A4XoUridYzkAK16Nw3cDNQAAAAAAAp81AMzMzM/PczUDXo3A9KnbOQOxRuB4FGs5AUrgehWsczkD2KFyPgk7OQArXo3Bdfs5AXI/C9WgRzkB7FK5Hoe3NQEjhehSOi8lAUrgehcubzUBmZmZmBtjNQFK4HoXrDM5Aj8L1KPxXzkAAAAAAIHHOQHE9CteDeM5AAAAAAGCGzkApXI/C1ZPOQFyPwvXI/c5AcT0K10Maz0B7FK5H4eHPQM3MzMxM2M9A4XoUrmf5z0CF61G4LhnQQM3MzMwcFdBAAAAAAJBd0EDXo3A9ymbQQKRwPQqnbdBACtejcM150EDNzMzMPJPQQJqZmZmJhdBApHA9CteF0EAUrkfhClTQQK5H4XqUXNBArkfheoQ90EB7FK5H4WDLQI/C9SicY9BAw/UoXP9a0EAzMzMz82HQQOxRuB4FVtBAXI/C9ahL0EBSuB6F23PQQOF6FK5HddBAhetRuP5f0ECF61G4/n/QQIXrUbi+g9BAmpmZmemM0EDsUbgelXTQQD0K16NAbtBAexSuR2Fr0EC4HoXrUWbQQBSuR+GqbdBAhetRuH500EAAAAAAYKDLQHE9Ctcza9BAmpmZmRlj0ECuR+F6pHTQQFyPwvW4g9BAFK5H4cp90EApXI/CZYfQQMP1KFxfi9BA",
          "dtype": "f8"
         },
         "yaxis": "y"
        },
        {
         "line": {
          "color": "orange"
         },
         "mode": "lines",
         "name": "NAV per Unit",
         "type": "scatter",
         "x": [
          "2025-01-01",
          "2025-01-02",
          "2025-01-03",
          "2025-01-06",
          "2025-01-07",
          "2025-01-08",
          "2025-01-09",
          "2025-01-10",
          "2025-01-13",
          "2025-01-14",
          "2025-01-15",
          "2025-01-16",
          "2025-01-17",
          "2025-01-20",
          "2025-01-21",
          "2025-01-22",
          "2025-01-23",
          "2025-01-24",
          "2025-01-27",
          "2025-01-28",
          "2025-01-29",
          "2025-01-30",
          "2025-01-31",
          "2025-02-03",
          "2025-02-04",
          "2025-02-05",
          "2025-02-06",
          "2025-02-07",
          "2025-02-10",
          "2025-02-11",
          "2025-02-12",
          "2025-02-13",
          "2025-02-14",
          "2025-02-17",
          "2025-02-18",
          "2025-02-19",
          "2025-02-20",
          "2025-02-21",
          "2025-02-24",
          "2025-02-25",
          "2025-02-26",
          "2025-02-27",
          "2025-02-28",
          "2025-03-03",
          "2025-03-04",
          "2025-03-05",
          "2025-03-06",
          "2025-03-07",
          "2025-03-10",
          "2025-03-11",
          "2025-03-12",
          "2025-03-13",
          "2025-03-14",
          "2025-03-17",
          "2025-03-18",
          "2025-03-19",
          "2025-03-20",
          "2025-03-21",
          "2025-03-24",
          "2025-03-25",
          "2025-03-26",
          "2025-03-27",
          "2025-03-28",
          "2025-03-31",
          "2025-04-01",
          "2025-04-02",
          "2025-04-03",
          "2025-04-04",
          "2025-04-07",
          "2025-04-08",
          "2025-04-09",
          "2025-04-10",
          "2025-04-11",
          "2025-04-14",
          "2025-04-15",
          "2025-04-16",
          "2025-04-17",
          "2025-04-18",
          "2025-04-21",
          "2025-04-22",
          "2025-04-23",
          "2025-04-24",
          "2025-04-25",
          "2025-04-28",
          "2025-04-29",
          "2025-04-30",
          "2025-05-01",
          "2025-05-02",
          "2025-05-05",
          "2025-05-06",
          "2025-05-07",
          "2025-05-08",
          "2025-05-09",
          "2025-05-12",
          "2025-05-13",
          "2025-05-14",
          "2025-05-15",
          "2025-05-16",
          "2025-05-19",
          "2025-05-20",
          "2025-05-21",
          "2025-05-22",
          "2025-05-23",
          "2025-05-26",
          "2025-05-27",
          "2025-05-28",
          "2025-05-29",
          "2025-05-30",
          "2025-06-02",
          "2025-06-03",
          "2025-06-04",
          "2025-06-05",
          "2025-06-06",
          "2025-06-09",
          "2025-06-10",
          "2025-06-11",
          "2025-06-12",
          "2025-06-13",
          "2025-06-16",
          "2025-06-17",
          "2025-06-18",
          "2025-06-19",
          "2025-06-20",
          "2025-06-23",
          "2025-06-24",
          "2025-06-25",
          "2025-06-26",
          "2025-06-27",
          "2025-06-30"
         ],
         "xaxis": "x2",
         "y": {
          "bdata": "Xqj0+jCuAEABNyjtTwr3P66rlxkV1ABAsD/kiBDyAEA/tdFreeYAQIxFNgSFwQBAl9qclJPKAECmmIOgo3X3P43KEylJrgBAbloAhUCnAEDtgwv9PJsAQFllCd+5vwBAZDPRMTG3AEB96OUkUuIAQMSVFqIBdPc/U7ExryPeAED0KAlHmAsBQGlMbxwEDwFAe1zI4ZvfAEDBGPRSb50AQN4FpcOeCQFAtbXPdMDfAEBYKMqMVLsAQOfFaKGNqQBAk1HIQjKsAECOLdu59qYAQCSLqEcixQBAaWEFruG4AEBWz+41qb0AQBRd1WGe2ABAjION4269AEAavFQRE7EAQO1zCF4lzgBAyaiVtna6AEBeHXTHapz3P/2vpQ2o2wBAIjDeqHjgAECwG1t0V8MAQJ74g+QRqgBA3ulK2yqWAEBNE5WRo2YAQDLhXU/wfABAW1oul2RHAEB0i20QtWYAQIGv6NZrGgBAcVwA+Zbi/z8xs41HwrH/PxOLEAXQa/8/usTswJRs/z+ePV3+vzH/Pz4q1XBXAP8/4ar8fKUt/z/qf/PBth7/P2R+RemYdP8/KrWLJ4p5/z87supaGDX/P6tK8MDfc/8/nzdXxQJ8/z82F4dMXGv/P8VYZENQuP8/mhH3uySs/z/x8yGgqXT/P5NB5rEDav8/FUnkUPkW/z/75h/5WiL/P5FZ5kIfW/8/dnR1Ko1W/z+iO5AOcnv+P0C7Cd934/0/9jJAWHzJ/T/aTPATKL79P/aGbx/BVv4/3zvFBfv6/T+sd1XzXv39P0kMZVVCL/4/EP803ute/j8BIau+Z/L9P/U2kfTEzv0/tLWVyTZx+T/pHyuVQ339P1zvDltAuf0/btE07u7t/T+94zUrsjj+P6yXGRW8Uf4/d+zSTBhZ/j/po0Ir5mb+P64Mqg1OdP4/z6fIANTd/j+3Y4eEMfr+P58a1COyBP8/Ri5RIGD7/j8HoGpXlRv/P337Y+//Uv8/6q/bkBRL/z9kWnq4Ddj/P88DqywC6v8/VJCfjVz3/z9lrmdjgAcAQKSdw0o/IABATCn5IusSAECXkA96NhMAQPaX3ZOHxf8/4vmYUSTW/z9pK6NPs5n/P/ZiBxnxovo/9En2IdLj/z9F898HENP/PwxTIT+X4P8/8jvRnmDJ/z9+SAkLOLX/P95fubW3AQBAjSyyABoDAEDg48Bpydz/P4ttELWGDQBAGSaNsCwRAEC+Vhn4FxoAQKXdpkdsAgBAkQTIbYf4/z8UdCCQ8PL/P9A/ZgwY6f8/026RB2T3/z+2ijh8VgIAQEns4k+34Po/0CymJZjy/z/5qBoY1OL/P8do2zh7AgBAsIvDFScRAEBpLA4lYgsAQMpiamS6FABA",
          "dtype": "f8"
         },
         "yaxis": "y2"
        },
        {
         "line": {
          "color": "green"
         },
         "mode": "lines",
         "name": "Portfolio Total Value",
         "type": "scatter",
         "x": [
          "2025-01-01",
          "2025-01-02",
          "2025-01-03",
          "2025-01-06",
          "2025-01-07",
          "2025-01-08",
          "2025-01-09",
          "2025-01-10",
          "2025-01-13",
          "2025-01-14",
          "2025-01-15",
          "2025-01-16",
          "2025-01-17",
          "2025-01-20",
          "2025-01-21",
          "2025-01-22",
          "2025-01-23",
          "2025-01-24",
          "2025-01-27",
          "2025-01-28",
          "2025-01-29",
          "2025-01-30",
          "2025-01-31",
          "2025-02-03",
          "2025-02-04",
          "2025-02-05",
          "2025-02-06",
          "2025-02-07",
          "2025-02-10",
          "2025-02-11",
          "2025-02-12",
          "2025-02-13",
          "2025-02-14",
          "2025-02-17",
          "2025-02-18",
          "2025-02-19",
          "2025-02-20",
          "2025-02-21",
          "2025-02-24",
          "2025-02-25",
          "2025-02-26",
          "2025-02-27",
          "2025-02-28",
          "2025-03-03",
          "2025-03-04",
          "2025-03-05",
          "2025-03-06",
          "2025-03-07",
          "2025-03-10",
          "2025-03-11",
          "2025-03-12",
          "2025-03-13",
          "2025-03-14",
          "2025-03-17",
          "2025-03-18",
          "2025-03-19",
          "2025-03-20",
          "2025-03-21",
          "2025-03-24",
          "2025-03-25",
          "2025-03-26",
          "2025-03-27",
          "2025-03-28",
          "2025-03-31",
          "2025-04-01",
          "2025-04-02",
          "2025-04-03",
          "2025-04-04",
          "2025-04-07",
          "2025-04-08",
          "2025-04-09",
          "2025-04-10",
          "2025-04-11",
          "2025-04-14",
          "2025-04-15",
          "2025-04-16",
          "2025-04-17",
          "2025-04-18",
          "2025-04-21",
          "2025-04-22",
          "2025-04-23",
          "2025-04-24",
          "2025-04-25",
          "2025-04-28",
          "2025-04-29",
          "2025-04-30",
          "2025-05-01",
          "2025-05-02",
          "2025-05-05",
          "2025-05-06",
          "2025-05-07",
          "2025-05-08",
          "2025-05-09",
          "2025-05-12",
          "2025-05-13",
          "2025-05-14",
          "2025-05-15",
          "2025-05-16",
          "2025-05-19",
          "2025-05-20",
          "2025-05-21",
          "2025-05-22",
          "2025-05-23",
          "2025-05-26",
          "2025-05-27",
          "2025-05-28",
          "2025-05-29",
          "2025-05-30",
          "2025-06-02",
          "2025-06-03",
          "2025-06-04",
          "2025-06-05",
          "2025-06-06",
          "2025-06-09",
          "2025-06-10",
          "2025-06-11",
          "2025-06-12",
          "2025-06-13",
          "2025-06-16",
          "2025-06-17",
          "2025-06-18",
          "2025-06-19",
          "2025-06-20",
          "2025-06-23",
          "2025-06-24",
          "2025-06-25",
          "2025-06-26",
          "2025-06-27",
          "2025-06-30"
         ],
         "xaxis": "x3",
         "y": {
          "bdata": "zczMzAyhuEBI4XoUDpLGQD0K16PQzMZAmpmZmRm2xkDNzMzMrG3GQM3MzMxsf8ZAUrgehesnuUAfhetROEXGQMP1KFxvN8ZAcT0K1+MfxkBmZmZmZmfGQM3MzMysVsZAMzMzMzOrxkAzMzMzMx+5QHsUrkcBo8ZApHA9Chf8xkBSuB6FywLHQPYoXI/ipcZAuB6F6zEkxkAfhetROPjGQNejcD0qpsZAXI/C9chexkC4HoXr8TvGQKRwPQoXNsZAexSuR8ErxkAfhetRWGfGQOxRuB7lUsZAKVyPwlVcxkCuR+F6lJHGQPYoXI/iW8ZAmpmZmXlDxkDsUbge5XzGQOxRuB4FVsZAMzMzM7M5uUCuR+F6lJfGQKRwPQoXocZASOF6FI5nxkBxPQrXozXGQK5H4XpUDsZArkfhenSwxUAAAAAAgNzFQArXo3C9csVApHA9CpewxUDXo3A96hnFQFK4HoXLGsFAw/UoXC/qwEBI4XoUjqTAQLgehetRpcBAexSuR8FqwEC4HoXrkTnAQFK4HoWrZsBASOF6FM5XwEApXI/C9arAQHsUrkfhr8BAhetRuL5rwEAK16NwParAQKRwPQpXssBAcT0K18OhwECF61G4Xu7AQHsUrkdB4sBAZmZmZgarwEDNzMzMbKDAQPYoXI/CTcBApHA9ChdZwECamZmZmZHAQClcj8J1ecBAH4XrUXg+v0BxPQrX4w++QFyPwvUo3L1AXI/C9WjFvUCkcD0K1/e+QM3MzMyMP75AmpmZmVlEvkDhehSuh6i+QArXo3A9CL9ArkfhelQuvkDsUbgexea9QIXrUbieIrVAmpmZmRlDvUDD9Shcj7u9QJqZmZlZJb5AFK5H4Xq7vkBxPQrXo+y+QFK4HoVr+75AcT0K1yMXv0DD9ShcDzK/QMP1KFzP8b9A9ihcj2IVwEBI4XoULiDAQJqZmZmZFsBArkfherQ3wEDXo3A9qnDAQGZmZmaGaMBAzczMzGz5wEB7FK5H4QvBQBSuR+GaGcFA4XoUrucxwUBmZmZmxmTBQAAAAABgScFAFK5H4fpJwUD2KFyPYubAQClcj8J198BAKVyPwlW5wECPwvUoXD63QOxRuB6FBcFAUrgehUv0wEAzMzMzMwLBQKRwPQpX6sBAhetRuJ7VwEBxPQrXAybBQI/C9SjcKMFA16NwPUr+wEDXo3A9Sj7BQNejcD3KRcFAAAAAACBYwUCkcD0KdyfBQEjhehTOGsFAw/UoXA8VwUA9Ctej8ArBQPYoXI+iGcFA16NwPUonwUCamZmZWb23QK5H4Xq0FMFAAAAAAIAEwUApXI/ClSfBQIXrUbi+RcFA9ihcj+I5wUAfhetRGE3BQFK4HoULVcFA",
          "dtype": "f8"
         },
         "yaxis": "y3"
        },
        {
         "line": {
          "color": "green"
         },
         "mode": "lines",
         "name": "Cash Total Value",
         "type": "scatter",
         "x": [
          "2025-01-01",
          "2025-01-02",
          "2025-01-03",
          "2025-01-06",
          "2025-01-07",
          "2025-01-08",
          "2025-01-09",
          "2025-01-10",
          "2025-01-13",
          "2025-01-14",
          "2025-01-15",
          "2025-01-16",
          "2025-01-17",
          "2025-01-20",
          "2025-01-21",
          "2025-01-22",
          "2025-01-23",
          "2025-01-24",
          "2025-01-27",
          "2025-01-28",
          "2025-01-29",
          "2025-01-30",
          "2025-01-31",
          "2025-02-03",
          "2025-02-04",
          "2025-02-05",
          "2025-02-06",
          "2025-02-07",
          "2025-02-10",
          "2025-02-11",
          "2025-02-12",
          "2025-02-13",
          "2025-02-14",
          "2025-02-17",
          "2025-02-18",
          "2025-02-19",
          "2025-02-20",
          "2025-02-21",
          "2025-02-24",
          "2025-02-25",
          "2025-02-26",
          "2025-02-27",
          "2025-02-28",
          "2025-03-03",
          "2025-03-04",
          "2025-03-05",
          "2025-03-06",
          "2025-03-07",
          "2025-03-10",
          "2025-03-11",
          "2025-03-12",
          "2025-03-13",
          "2025-03-14",
          "2025-03-17",
          "2025-03-18",
          "2025-03-19",
          "2025-03-20",
          "2025-03-21",
          "2025-03-24",
          "2025-03-25",
          "2025-03-26",
          "2025-03-27",
          "2025-03-28",
          "2025-03-31",
          "2025-04-01",
          "2025-04-02",
          "2025-04-03",
          "2025-04-04",
          "2025-04-07",
          "2025-04-08",
          "2025-04-09",
          "2025-04-10",
          "2025-04-11",
          "2025-04-14",
          "2025-04-15",
          "2025-04-16",
          "2025-04-17",
          "2025-04-18",
          "2025-04-21",
          "2025-04-22",
          "2025-04-23",
          "2025-04-24",
          "2025-04-25",
          "2025-04-28",
          "2025-04-29",
          "2025-04-30",
          "2025-05-01",
          "2025-05-02",
          "2025-05-05",
          "2025-05-06",
          "2025-05-07",
          "2025-05-08",
          "2025-05-09",
          "2025-05-12",
          "2025-05-13",
          "2025-05-14",
          "2025-05-15",
          "2025-05-16",
          "2025-05-19",
          "2025-05-20",
          "2025-05-21",
          "2025-05-22",
          "2025-05-23",
          "2025-05-26",
          "2025-05-27",
          "2025-05-28",
          "2025-05-29",
          "2025-05-30",
          "2025-06-02",
          "2025-06-03",
          "2025-06-04",
          "2025-06-05",
          "2025-06-06",
          "2025-06-09",
          "2025-06-10",
          "2025-06-11",
          "2025-06-12",
          "2025-06-13",
          "2025-06-16",
          "2025-06-17",
          "2025-06-18",
          "2025-06-19",
          "2025-06-20",
          "2025-06-23",
          "2025-06-24",
          "2025-06-25",
          "2025-06-26",
          "2025-06-27",
          "2025-06-30"
         ],
         "xaxis": "x4",
         "y": {
          "bdata": "hetRuB4ttECkcD0KV0+0QIXrUbge0rRAhetRuB7StECF61G4HtK0QIXrUbge0rRAhetRuB7StEBxPQrXo9e0QHE9Ctej17RAcT0K16PXtEBxPQrXo9e0QHE9Ctej17RAcT0K16PXtEBxPQrXo9e0QHE9Ctej17RAcT0K16PXtEBxPQrXo9e0QHE9Ctej17RAcT0K16PXtEBxPQrXo9e0QHE9Ctej17RAcT0K16PXtEBxPQrXo9e0QClcj8K17bRAuB6F61FwtUC4HoXrUXC1QLgehevRaLVAuB6F69FotUC4HoXr0Wi1QLgehevRaLVAuB6F69FotUC4HoXr0Wi1QLgehevRaLVAuB6F69FotUC4HoXr0Wi1QLgehevRaLVAuB6F69FotUC4HoXr0Wi1QLgehevRaLVAuB6F69FotUC4HoXr0Wi1QLgehevRaLVAuB6F69FotUC4HoXr0Wi1QJqZmZmZxLxA9ihcj8JFvUD2KFyPwkW9QPYoXI/CRb1A9ihcj8JFvUD2KFyPwkW9QPYoXI/CRb1A9ihcj8JFvUA9CtejcEq9QD0K16NwSr1APQrXo3BKvUA9CtejcEq9QD0K16NwSr1APQrXo3BKvUA9CtejcEq9QD0K16NwSr1APQrXo3BKvUA9CtejcEq9QD0K16NwSr1APQrXo3BKvUA9CtejcEq9QIXrUbiecb1ApHA9CtdxvUCkcD0K13G9QKRwPQrXcb1ACtejcH30vUAK16NwffS9QArXo3B99L1ACtejcH30vUAK16NwffS9QArXo3B99L1ACtejcH30vUAK16NwffS9QArXo3B99L1ACtejcH30vUAK16NwffS9QArXo3B99L1ACtejcH30vUCPwvUonPW9QI/C9Sic9b1Aj8L1KJz1vUCPwvUonPW9QPYoXI/CCb5A9ihcj8IJvkBmZmZmZoO/QGZmZmZmg79AZmZmZmaDv0BmZmZmZoO/QGZmZmZmg79AZmZmZmaDv0BmZmZmZoO/QGZmZmZmg79AZmZmZmaDv0BmZmZmZoO/QGZmZmZmg79AZmZmZmaDv0BmZmZmZoO/QGZmZmZmg79AZmZmZmaDv0BmZmZmZoO/QGZmZmZmg79AZmZmZmaDv0BmZmZmZoO/QGZmZmZmg79AZmZmZmaDv0BmZmZmZoO/QGZmZmZmg79AZmZmZmaDv0BmZmZmZoO/QGZmZmZmg79AZmZmZmaDv0BmZmZmZoO/QGZmZmZmg79AZmZmZmaDv0BmZmZmZoO/QGZmZmZmg79AZmZmZmaDv0BmZmZmZoO/QGZmZmZmg79AZmZmZmaDv0BmZmZmZoO/QGZmZmZmg79AZmZmZmaDv0BmZmZmZoO/QGZmZmZmg79A",
          "dtype": "f8"
         },
         "yaxis": "y4"
        }
       ],
       "layout": {
        "height": 800,
        "hovermode": "x unified",
        "template": {
         "data": {
          "bar": [
           {
            "error_x": {
             "color": "#2a3f5f"
            },
            "error_y": {
             "color": "#2a3f5f"
            },
            "marker": {
             "line": {
              "color": "#E5ECF6",
              "width": 0.5
             },
             "pattern": {
              "fillmode": "overlay",
              "size": 10,
              "solidity": 0.2
             }
            },
            "type": "bar"
           }
          ],
          "barpolar": [
           {
            "marker": {
             "line": {
              "color": "#E5ECF6",
              "width": 0.5
             },
             "pattern": {
              "fillmode": "overlay",
              "size": 10,
              "solidity": 0.2
             }
            },
            "type": "barpolar"
           }
          ],
          "carpet": [
           {
            "aaxis": {
             "endlinecolor": "#2a3f5f",
             "gridcolor": "white",
             "linecolor": "white",
             "minorgridcolor": "white",
             "startlinecolor": "#2a3f5f"
            },
            "baxis": {
             "endlinecolor": "#2a3f5f",
             "gridcolor": "white",
             "linecolor": "white",
             "minorgridcolor": "white",
             "startlinecolor": "#2a3f5f"
            },
            "type": "carpet"
           }
          ],
          "choropleth": [
           {
            "colorbar": {
             "outlinewidth": 0,
             "ticks": ""
            },
            "type": "choropleth"
           }
          ],
          "contour": [
           {
            "colorbar": {
             "outlinewidth": 0,
             "ticks": ""
            },
            "colorscale": [
             [
              0,
              "#0d0887"
             ],
             [
              0.1111111111111111,
              "#46039f"
             ],
             [
              0.2222222222222222,
              "#7201a8"
             ],
             [
              0.3333333333333333,
              "#9c179e"
             ],
             [
              0.4444444444444444,
              "#bd3786"
             ],
             [
              0.5555555555555556,
              "#d8576b"
             ],
             [
              0.6666666666666666,
              "#ed7953"
             ],
             [
              0.7777777777777778,
              "#fb9f3a"
             ],
             [
              0.8888888888888888,
              "#fdca26"
             ],
             [
              1,
              "#f0f921"
             ]
            ],
            "type": "contour"
           }
          ],
          "contourcarpet": [
           {
            "colorbar": {
             "outlinewidth": 0,
             "ticks": ""
            },
            "type": "contourcarpet"
           }
          ],
          "heatmap": [
           {
            "colorbar": {
             "outlinewidth": 0,
             "ticks": ""
            },
            "colorscale": [
             [
              0,
              "#0d0887"
             ],
             [
              0.1111111111111111,
              "#46039f"
             ],
             [
              0.2222222222222222,
              "#7201a8"
             ],
             [
              0.3333333333333333,
              "#9c179e"
             ],
             [
              0.4444444444444444,
              "#bd3786"
             ],
             [
              0.5555555555555556,
              "#d8576b"
             ],
             [
              0.6666666666666666,
              "#ed7953"
             ],
             [
              0.7777777777777778,
              "#fb9f3a"
             ],
             [
              0.8888888888888888,
              "#fdca26"
             ],
             [
              1,
              "#f0f921"
             ]
            ],
            "type": "heatmap"
           }
          ],
          "histogram": [
           {
            "marker": {
             "pattern": {
              "fillmode": "overlay",
              "size": 10,
              "solidity": 0.2
             }
            },
            "type": "histogram"
           }
          ],
          "histogram2d": [
           {
            "colorbar": {
             "outlinewidth": 0,
             "ticks": ""
            },
            "colorscale": [
             [
              0,
              "#0d0887"
             ],
             [
              0.1111111111111111,
              "#46039f"
             ],
             [
              0.2222222222222222,
              "#7201a8"
             ],
             [
              0.3333333333333333,
              "#9c179e"
             ],
             [
              0.4444444444444444,
              "#bd3786"
             ],
             [
              0.5555555555555556,
              "#d8576b"
             ],
             [
              0.6666666666666666,
              "#ed7953"
             ],
             [
              0.7777777777777778,
              "#fb9f3a"
             ],
             [
              0.8888888888888888,
              "#fdca26"
             ],
             [
              1,
              "#f0f921"
             ]
            ],
            "type": "histogram2d"
           }
          ],
          "histogram2dcontour": [
           {
            "colorbar": {
             "outlinewidth": 0,
             "ticks": ""
            },
            "colorscale": [
             [
              0,
              "#0d0887"
             ],
             [
              0.1111111111111111,
              "#46039f"
             ],
             [
              0.2222222222222222,
              "#7201a8"
             ],
             [
              0.3333333333333333,
              "#9c179e"
             ],
             [
              0.4444444444444444,
              "#bd3786"
             ],
             [
              0.5555555555555556,
              "#d8576b"
             ],
             [
              0.6666666666666666,
              "#ed7953"
             ],
             [
              0.7777777777777778,
              "#fb9f3a"
             ],
             [
              0.8888888888888888,
              "#fdca26"
             ],
             [
              1,
              "#f0f921"
             ]
            ],
            "type": "histogram2dcontour"
           }
          ],
          "mesh3d": [
           {
            "colorbar": {
             "outlinewidth": 0,
             "ticks": ""
            },
            "type": "mesh3d"
           }
          ],
          "parcoords": [
           {
            "line": {
             "colorbar": {
              "outlinewidth": 0,
              "ticks": ""
             }
            },
            "type": "parcoords"
           }
          ],
          "pie": [
           {
            "automargin": true,
            "type": "pie"
           }
          ],
          "scatter": [
           {
            "fillpattern": {
             "fillmode": "overlay",
             "size": 10,
             "solidity": 0.2
            },
            "type": "scatter"
           }
          ],
          "scatter3d": [
           {
            "line": {
             "colorbar": {
              "outlinewidth": 0,
              "ticks": ""
             }
            },
            "marker": {
             "colorbar": {
              "outlinewidth": 0,
              "ticks": ""
             }
            },
            "type": "scatter3d"
           }
          ],
          "scattercarpet": [
           {
            "marker": {
             "colorbar": {
              "outlinewidth": 0,
              "ticks": ""
             }
            },
            "type": "scattercarpet"
           }
          ],
          "scattergeo": [
           {
            "marker": {
             "colorbar": {
              "outlinewidth": 0,
              "ticks": ""
             }
            },
            "type": "scattergeo"
           }
          ],
          "scattergl": [
           {
            "marker": {
             "colorbar": {
              "outlinewidth": 0,
              "ticks": ""
             }
            },
            "type": "scattergl"
           }
          ],
          "scattermap": [
           {
            "marker": {
             "colorbar": {
              "outlinewidth": 0,
              "ticks": ""
             }
            },
            "type": "scattermap"
           }
          ],
          "scattermapbox": [
           {
            "marker": {
             "colorbar": {
              "outlinewidth": 0,
              "ticks": ""
             }
            },
            "type": "scattermapbox"
           }
          ],
          "scatterpolar": [
           {
            "marker": {
             "colorbar": {
              "outlinewidth": 0,
              "ticks": ""
             }
            },
            "type": "scatterpolar"
           }
          ],
          "scatterpolargl": [
           {
            "marker": {
             "colorbar": {
              "outlinewidth": 0,
              "ticks": ""
             }
            },
            "type": "scatterpolargl"
           }
          ],
          "scatterternary": [
           {
            "marker": {
             "colorbar": {
              "outlinewidth": 0,
              "ticks": ""
             }
            },
            "type": "scatterternary"
           }
          ],
          "surface": [
           {
            "colorbar": {
             "outlinewidth": 0,
             "ticks": ""
            },
            "colorscale": [
             [
              0,
              "#0d0887"
             ],
             [
              0.1111111111111111,
              "#46039f"
             ],
             [
              0.2222222222222222,
              "#7201a8"
             ],
             [
              0.3333333333333333,
              "#9c179e"
             ],
             [
              0.4444444444444444,
              "#bd3786"
             ],
             [
              0.5555555555555556,
              "#d8576b"
             ],
             [
              0.6666666666666666,
              "#ed7953"
             ],
             [
              0.7777777777777778,
              "#fb9f3a"
             ],
             [
              0.8888888888888888,
              "#fdca26"
             ],
             [
              1,
              "#f0f921"
             ]
            ],
            "type": "surface"
           }
          ],
          "table": [
           {
            "cells": {
             "fill": {
              "color": "#EBF0F8"
             },
             "line": {
              "color": "white"
             }
            },
            "header": {
             "fill": {
              "color": "#C8D4E3"
             },
             "line": {
              "color": "white"
             }
            },
            "type": "table"
           }
          ]
         },
         "layout": {
          "annotationdefaults": {
           "arrowcolor": "#2a3f5f",
           "arrowhead": 0,
           "arrowwidth": 1
          },
          "autotypenumbers": "strict",
          "coloraxis": {
           "colorbar": {
            "outlinewidth": 0,
            "ticks": ""
           }
          },
          "colorscale": {
           "diverging": [
            [
             0,
             "#8e0152"
            ],
            [
             0.1,
             "#c51b7d"
            ],
            [
             0.2,
             "#de77ae"
            ],
            [
             0.3,
             "#f1b6da"
            ],
            [
             0.4,
             "#fde0ef"
            ],
            [
             0.5,
             "#f7f7f7"
            ],
            [
             0.6,
             "#e6f5d0"
            ],
            [
             0.7,
             "#b8e186"
            ],
            [
             0.8,
             "#7fbc41"
            ],
            [
             0.9,
             "#4d9221"
            ],
            [
             1,
             "#276419"
            ]
           ],
           "sequential": [
            [
             0,
             "#0d0887"
            ],
            [
             0.1111111111111111,
             "#46039f"
            ],
            [
             0.2222222222222222,
             "#7201a8"
            ],
            [
             0.3333333333333333,
             "#9c179e"
            ],
            [
             0.4444444444444444,
             "#bd3786"
            ],
            [
             0.5555555555555556,
             "#d8576b"
            ],
            [
             0.6666666666666666,
             "#ed7953"
            ],
            [
             0.7777777777777778,
             "#fb9f3a"
            ],
            [
             0.8888888888888888,
             "#fdca26"
            ],
            [
             1,
             "#f0f921"
            ]
           ],
           "sequentialminus": [
            [
             0,
             "#0d0887"
            ],
            [
             0.1111111111111111,
             "#46039f"
            ],
            [
             0.2222222222222222,
             "#7201a8"
            ],
            [
             0.3333333333333333,
             "#9c179e"
            ],
            [
             0.4444444444444444,
             "#bd3786"
            ],
            [
             0.5555555555555556,
             "#d8576b"
            ],
            [
             0.6666666666666666,
             "#ed7953"
            ],
            [
             0.7777777777777778,
             "#fb9f3a"
            ],
            [
             0.8888888888888888,
             "#fdca26"
            ],
            [
             1,
             "#f0f921"
            ]
           ]
          },
          "colorway": [
           "#636efa",
           "#EF553B",
           "#00cc96",
           "#ab63fa",
           "#FFA15A",
           "#19d3f3",
           "#FF6692",
           "#B6E880",
           "#FF97FF",
           "#FECB52"
          ],
          "font": {
           "color": "#2a3f5f"
          },
          "geo": {
           "bgcolor": "white",
           "lakecolor": "white",
           "landcolor": "#E5ECF6",
           "showlakes": true,
           "showland": true,
           "subunitcolor": "white"
          },
          "hoverlabel": {
           "align": "left"
          },
          "hovermode": "closest",
          "mapbox": {
           "style": "light"
          },
          "paper_bgcolor": "white",
          "plot_bgcolor": "#E5ECF6",
          "polar": {
           "angularaxis": {
            "gridcolor": "white",
            "linecolor": "white",
            "ticks": ""
           },
           "bgcolor": "#E5ECF6",
           "radialaxis": {
            "gridcolor": "white",
            "linecolor": "white",
            "ticks": ""
           }
          },
          "scene": {
           "xaxis": {
            "backgroundcolor": "#E5ECF6",
            "gridcolor": "white",
            "gridwidth": 2,
            "linecolor": "white",
            "showbackground": true,
            "ticks": "",
            "zerolinecolor": "white"
           },
           "yaxis": {
            "backgroundcolor": "#E5ECF6",
            "gridcolor": "white",
            "gridwidth": 2,
            "linecolor": "white",
            "showbackground": true,
            "ticks": "",
            "zerolinecolor": "white"
           },
           "zaxis": {
            "backgroundcolor": "#E5ECF6",
            "gridcolor": "white",
            "gridwidth": 2,
            "linecolor": "white",
            "showbackground": true,
            "ticks": "",
            "zerolinecolor": "white"
           }
          },
          "shapedefaults": {
           "line": {
            "color": "#2a3f5f"
           }
          },
          "ternary": {
           "aaxis": {
            "gridcolor": "white",
            "linecolor": "white",
            "ticks": ""
           },
           "baxis": {
            "gridcolor": "white",
            "linecolor": "white",
            "ticks": ""
           },
           "bgcolor": "#E5ECF6",
           "caxis": {
            "gridcolor": "white",
            "linecolor": "white",
            "ticks": ""
           }
          },
          "title": {
           "x": 0.05
          },
          "xaxis": {
           "automargin": true,
           "gridcolor": "white",
           "linecolor": "white",
           "ticks": "",
           "title": {
            "standoff": 15
           },
           "zerolinecolor": "white",
           "zerolinewidth": 2
          },
          "yaxis": {
           "automargin": true,
           "gridcolor": "white",
           "linecolor": "white",
           "ticks": "",
           "title": {
            "standoff": 15
           },
           "zerolinecolor": "white",
           "zerolinewidth": 2
          }
         }
        },
        "title": {
         "text": "Fund Performance Overview"
        },
        "xaxis": {
         "anchor": "y",
         "domain": [
          0,
          1
         ],
         "matches": "x4",
         "showticklabels": false
        },
        "xaxis2": {
         "anchor": "y2",
         "domain": [
          0,
          1
         ],
         "matches": "x4",
         "showticklabels": false,
         "title": {
          "text": "Date"
         }
        },
        "xaxis3": {
         "anchor": "y3",
         "domain": [
          0,
          1
         ],
         "matches": "x4",
         "showticklabels": false,
         "title": {
          "text": "Date"
         }
        },
        "xaxis4": {
         "anchor": "y4",
         "domain": [
          0,
          1
         ],
         "title": {
          "text": "Date"
         }
        },
        "yaxis": {
         "anchor": "x",
         "domain": [
          0.825,
          1
         ],
         "title": {
          "text": "Fund Value"
         }
        },
        "yaxis2": {
         "anchor": "x2",
         "domain": [
          0.55,
          0.7250000000000001
         ],
         "title": {
          "text": "NAV per Unit"
         }
        },
        "yaxis3": {
         "anchor": "x3",
         "domain": [
          0.275,
          0.45
         ],
         "tickformat": ",.0f",
         "title": {
          "text": "Portfolio Total Value"
         }
        },
        "yaxis4": {
         "anchor": "x4",
         "domain": [
          0,
          0.175
         ],
         "tickformat": ",.0f",
         "title": {
          "text": "Cash Total Value"
         }
        }
       }
      }
     },
     "metadata": {},
     "output_type": "display_data"
    }
   ],
   "source": [
    "import plotly.graph_objects as go\n",
    "from plotly.subplots import make_subplots\n",
    "import pandas as pd\n",
    "\n",
    "\n",
    "\n",
    "# Create subplots\n",
    "fig = make_subplots(rows=4, cols=1, shared_xaxes=True, vertical_spacing=0.1)\n",
    "\n",
    "# Plot total_value\n",
    "fig.add_trace(go.Scatter(x=df['date'], y=pd.to_numeric(df['total_value']), mode='lines',\n",
    "                         name='Fund Total Value', line=dict(color='blue')),\n",
    "              row=1, col=1)\n",
    "fig.update_yaxes(title_text='Fund Value', row=1, col=1)\n",
    "\n",
    "# Plot nav_per_unit\n",
    "fig.add_trace(go.Scatter(x=df['date'], y=df['nav_per_unit'], mode='lines',\n",
    "                         name='NAV per Unit', line=dict(color='orange')),\n",
    "              row=2, col=1)\n",
    "fig.update_yaxes(title_text='NAV per Unit', row=2, col=1)\n",
    "fig.update_xaxes(title_text='Date', row=2, col=1)\n",
    "\n",
    "\n",
    "# Plot portfolio_total_value\n",
    "fig.add_trace(go.Scatter(x=df['date'], y=pd.to_numeric(df['portfolio_total_value']), mode='lines',\n",
    "                         name='Portfolio Total Value', line=dict(color='green')), # Changed color for distinction\n",
    "              row=3, col=1)\n",
    "fig.update_yaxes(title_text='Portfolio Total Value', row=3, col=1, tickformat=\",.0f\") # Format with thousands separator\n",
    "fig.update_xaxes(title_text='Date', row=3, col=1)\n",
    "\n",
    "# Plot cash\n",
    "fig.add_trace(go.Scatter(x=df['date'], y=pd.to_numeric(df['cash']), mode='lines',\n",
    "                         name='Cash Total Value', line=dict(color='green')), # Changed color for distinction\n",
    "              row=4, col=1)\n",
    "fig.update_yaxes(title_text='Cash Total Value', row=4, col=1, tickformat=\",.0f\") # Format with thousands separator\n",
    "fig.update_xaxes(title_text='Date', row=4, col=1)\n",
    "\n",
    "# Update layout for overall chart\n",
    "fig.update_layout(height=800, title_text=\"Fund Performance Overview\",\n",
    "                  hovermode=\"x unified\") # 'x unified' shows all traces at a given x-value on hover\n",
    "\n",
    "fig.show()\n",
    "\n",
    "# Check on drops and spikes in portfolio_total_value\n",
    "# check on when nvda splitted"
   ]
  },
  {
   "cell_type": "code",
   "execution_count": 3,
   "id": "61ebde10",
   "metadata": {},
   "outputs": [
    {
     "data": {
      "text/html": [
       "<div>\n",
       "<style scoped>\n",
       "    .dataframe tbody tr th:only-of-type {\n",
       "        vertical-align: middle;\n",
       "    }\n",
       "\n",
       "    .dataframe tbody tr th {\n",
       "        vertical-align: top;\n",
       "    }\n",
       "\n",
       "    .dataframe thead th {\n",
       "        text-align: right;\n",
       "    }\n",
       "</style>\n",
       "<table border=\"1\" class=\"dataframe\">\n",
       "  <thead>\n",
       "    <tr style=\"text-align: right;\">\n",
       "      <th></th>\n",
       "      <th>id</th>\n",
       "      <th>date</th>\n",
       "      <th>total_value</th>\n",
       "      <th>total_units</th>\n",
       "      <th>nav_per_unit</th>\n",
       "      <th>gain_or_loss</th>\n",
       "      <th>cash</th>\n",
       "      <th>portfolio_total_value</th>\n",
       "      <th>net_inflows</th>\n",
       "    </tr>\n",
       "  </thead>\n",
       "  <tbody>\n",
       "    <tr>\n",
       "      <th>114</th>\n",
       "      <td>897</td>\n",
       "      <td>2025-06-10</td>\n",
       "      <td>16947.65</td>\n",
       "      <td>8420.18407812</td>\n",
       "      <td>2.008386</td>\n",
       "      <td>6439.76</td>\n",
       "      <td>8067.40</td>\n",
       "      <td>8880.25</td>\n",
       "      <td>10507.89</td>\n",
       "    </tr>\n",
       "    <tr>\n",
       "      <th>115</th>\n",
       "      <td>898</td>\n",
       "      <td>2025-06-11</td>\n",
       "      <td>16850.33</td>\n",
       "      <td>8420.18407812</td>\n",
       "      <td>2.012741</td>\n",
       "      <td>6342.44</td>\n",
       "      <td>8067.40</td>\n",
       "      <td>8782.93</td>\n",
       "      <td>10507.89</td>\n",
       "    </tr>\n",
       "    <tr>\n",
       "      <th>116</th>\n",
       "      <td>899</td>\n",
       "      <td>2025-06-12</td>\n",
       "      <td>16825.01</td>\n",
       "      <td>8420.18407812</td>\n",
       "      <td>2.001183</td>\n",
       "      <td>6317.12</td>\n",
       "      <td>8067.40</td>\n",
       "      <td>8757.61</td>\n",
       "      <td>10507.89</td>\n",
       "    </tr>\n",
       "    <tr>\n",
       "      <th>117</th>\n",
       "      <td>900</td>\n",
       "      <td>2025-06-13</td>\n",
       "      <td>16813.52</td>\n",
       "      <td>8420.18407812</td>\n",
       "      <td>1.998176</td>\n",
       "      <td>6305.63</td>\n",
       "      <td>8067.40</td>\n",
       "      <td>8746.12</td>\n",
       "      <td>10507.89</td>\n",
       "    </tr>\n",
       "    <tr>\n",
       "      <th>118</th>\n",
       "      <td>901</td>\n",
       "      <td>2025-06-16</td>\n",
       "      <td>16793.28</td>\n",
       "      <td>8420.18407812</td>\n",
       "      <td>1.996811</td>\n",
       "      <td>6285.39</td>\n",
       "      <td>8067.40</td>\n",
       "      <td>8725.88</td>\n",
       "      <td>10507.89</td>\n",
       "    </tr>\n",
       "    <tr>\n",
       "      <th>119</th>\n",
       "      <td>902</td>\n",
       "      <td>2025-06-17</td>\n",
       "      <td>16822.67</td>\n",
       "      <td>8420.18407812</td>\n",
       "      <td>1.994408</td>\n",
       "      <td>6314.78</td>\n",
       "      <td>8067.40</td>\n",
       "      <td>8755.27</td>\n",
       "      <td>10507.89</td>\n",
       "    </tr>\n",
       "    <tr>\n",
       "      <th>120</th>\n",
       "      <td>903</td>\n",
       "      <td>2025-06-18</td>\n",
       "      <td>16849.98</td>\n",
       "      <td>8420.18407812</td>\n",
       "      <td>1.997898</td>\n",
       "      <td>6342.09</td>\n",
       "      <td>8067.40</td>\n",
       "      <td>8782.58</td>\n",
       "      <td>10507.89</td>\n",
       "    </tr>\n",
       "    <tr>\n",
       "      <th>121</th>\n",
       "      <td>904</td>\n",
       "      <td>2025-06-19</td>\n",
       "      <td>14144.75</td>\n",
       "      <td>8420.18407812</td>\n",
       "      <td>2.001142</td>\n",
       "      <td>3636.86</td>\n",
       "      <td>8067.40</td>\n",
       "      <td>6077.35</td>\n",
       "      <td>10507.89</td>\n",
       "    </tr>\n",
       "    <tr>\n",
       "      <th>122</th>\n",
       "      <td>905</td>\n",
       "      <td>2025-06-20</td>\n",
       "      <td>16812.81</td>\n",
       "      <td>8420.18407812</td>\n",
       "      <td>1.679862</td>\n",
       "      <td>6304.92</td>\n",
       "      <td>8067.40</td>\n",
       "      <td>8745.41</td>\n",
       "      <td>10507.89</td>\n",
       "    </tr>\n",
       "    <tr>\n",
       "      <th>123</th>\n",
       "      <td>906</td>\n",
       "      <td>2025-06-23</td>\n",
       "      <td>16780.40</td>\n",
       "      <td>8420.18407812</td>\n",
       "      <td>1.996727</td>\n",
       "      <td>6272.51</td>\n",
       "      <td>8067.40</td>\n",
       "      <td>8713.00</td>\n",
       "      <td>10507.89</td>\n",
       "    </tr>\n",
       "    <tr>\n",
       "      <th>124</th>\n",
       "      <td>907</td>\n",
       "      <td>2025-06-24</td>\n",
       "      <td>16850.57</td>\n",
       "      <td>8420.18407812</td>\n",
       "      <td>1.992878</td>\n",
       "      <td>6342.68</td>\n",
       "      <td>8067.40</td>\n",
       "      <td>8783.17</td>\n",
       "      <td>10507.89</td>\n",
       "    </tr>\n",
       "    <tr>\n",
       "      <th>125</th>\n",
       "      <td>908</td>\n",
       "      <td>2025-06-25</td>\n",
       "      <td>16910.89</td>\n",
       "      <td>8420.18407812</td>\n",
       "      <td>2.001212</td>\n",
       "      <td>6403.00</td>\n",
       "      <td>8067.40</td>\n",
       "      <td>8843.49</td>\n",
       "      <td>10507.89</td>\n",
       "    </tr>\n",
       "    <tr>\n",
       "      <th>126</th>\n",
       "      <td>909</td>\n",
       "      <td>2025-06-26</td>\n",
       "      <td>16887.17</td>\n",
       "      <td>8420.18407812</td>\n",
       "      <td>2.008375</td>\n",
       "      <td>6379.28</td>\n",
       "      <td>8067.40</td>\n",
       "      <td>8819.77</td>\n",
       "      <td>10507.89</td>\n",
       "    </tr>\n",
       "    <tr>\n",
       "      <th>127</th>\n",
       "      <td>910</td>\n",
       "      <td>2025-06-27</td>\n",
       "      <td>16925.59</td>\n",
       "      <td>8420.18407812</td>\n",
       "      <td>2.005558</td>\n",
       "      <td>6417.70</td>\n",
       "      <td>8067.40</td>\n",
       "      <td>8858.19</td>\n",
       "      <td>10507.89</td>\n",
       "    </tr>\n",
       "    <tr>\n",
       "      <th>128</th>\n",
       "      <td>911</td>\n",
       "      <td>2025-06-30</td>\n",
       "      <td>16941.49</td>\n",
       "      <td>8420.18407812</td>\n",
       "      <td>2.010121</td>\n",
       "      <td>6433.60</td>\n",
       "      <td>8067.40</td>\n",
       "      <td>8874.09</td>\n",
       "      <td>10507.89</td>\n",
       "    </tr>\n",
       "  </tbody>\n",
       "</table>\n",
       "</div>"
      ],
      "text/plain": [
       "      id        date total_value    total_units  nav_per_unit gain_or_loss  \\\n",
       "114  897  2025-06-10    16947.65  8420.18407812      2.008386      6439.76   \n",
       "115  898  2025-06-11    16850.33  8420.18407812      2.012741      6342.44   \n",
       "116  899  2025-06-12    16825.01  8420.18407812      2.001183      6317.12   \n",
       "117  900  2025-06-13    16813.52  8420.18407812      1.998176      6305.63   \n",
       "118  901  2025-06-16    16793.28  8420.18407812      1.996811      6285.39   \n",
       "119  902  2025-06-17    16822.67  8420.18407812      1.994408      6314.78   \n",
       "120  903  2025-06-18    16849.98  8420.18407812      1.997898      6342.09   \n",
       "121  904  2025-06-19    14144.75  8420.18407812      2.001142      3636.86   \n",
       "122  905  2025-06-20    16812.81  8420.18407812      1.679862      6304.92   \n",
       "123  906  2025-06-23    16780.40  8420.18407812      1.996727      6272.51   \n",
       "124  907  2025-06-24    16850.57  8420.18407812      1.992878      6342.68   \n",
       "125  908  2025-06-25    16910.89  8420.18407812      2.001212      6403.00   \n",
       "126  909  2025-06-26    16887.17  8420.18407812      2.008375      6379.28   \n",
       "127  910  2025-06-27    16925.59  8420.18407812      2.005558      6417.70   \n",
       "128  911  2025-06-30    16941.49  8420.18407812      2.010121      6433.60   \n",
       "\n",
       "        cash portfolio_total_value net_inflows  \n",
       "114  8067.40               8880.25    10507.89  \n",
       "115  8067.40               8782.93    10507.89  \n",
       "116  8067.40               8757.61    10507.89  \n",
       "117  8067.40               8746.12    10507.89  \n",
       "118  8067.40               8725.88    10507.89  \n",
       "119  8067.40               8755.27    10507.89  \n",
       "120  8067.40               8782.58    10507.89  \n",
       "121  8067.40               6077.35    10507.89  \n",
       "122  8067.40               8745.41    10507.89  \n",
       "123  8067.40               8713.00    10507.89  \n",
       "124  8067.40               8783.17    10507.89  \n",
       "125  8067.40               8843.49    10507.89  \n",
       "126  8067.40               8819.77    10507.89  \n",
       "127  8067.40               8858.19    10507.89  \n",
       "128  8067.40               8874.09    10507.89  "
      ]
     },
     "execution_count": 3,
     "metadata": {},
     "output_type": "execute_result"
    }
   ],
   "source": [
    "df.tail(15)"
   ]
  },
  {
   "cell_type": "code",
   "execution_count": 4,
   "id": "4423451a",
   "metadata": {},
   "outputs": [
    {
     "name": "stdout",
     "output_type": "stream",
     "text": [
      "         date  units_held  value_held\n",
      "0  2022-02-17      2100.0      2100.0\n",
      "1  2022-02-18      2100.0      2100.0\n",
      "2  2022-02-21      2100.0      2100.0\n",
      "3  2022-02-22      2100.0      2100.0\n",
      "4  2022-02-23      2100.0      2100.0\n"
     ]
    }
   ],
   "source": [
    "# Define the local endpoint\n",
    "endpoint = \"http://127.0.0.1:8000/portfolio_valuation/user_snapshots/1/?start_date=2022-02-01&end_date=2025-05-01\"\n",
    "\n",
    "# Make a GET request to the local endpoint\n",
    "response = requests.get(endpoint)\n",
    "\n",
    "# Check if the request was successful\n",
    "if response.status_code == 200:\n",
    "    data = response.json()\n",
    "    # Extract the 'data' part\n",
    "    df = pd.DataFrame(data[\"snapshots\"])\n",
    "    # Convert numeric columns from strings to float (if needed)\n",
    "    print(df.head())\n",
    "else:\n",
    "    print(f\"Failed to fetch data. Status code: {response.status_code}\")\n",
    "\n"
   ]
  },
  {
   "cell_type": "code",
   "execution_count": 5,
   "id": "1bd947ce",
   "metadata": {},
   "outputs": [
    {
     "data": {
      "text/plain": [
       "<Axes: >"
      ]
     },
     "execution_count": 5,
     "metadata": {},
     "output_type": "execute_result"
    },
    {
     "data": {
      "image/png": "[encoded data removed]",
      "text/plain": [
       "<Figure size 640x480 with 1 Axes>"
      ]
     },
     "metadata": {},
     "output_type": "display_data"
    }
   ],
   "source": [
    "df.value_held.plot()"
   ]
  },
  {
   "cell_type": "code",
   "execution_count": 6,
   "id": "2dc3fb40",
   "metadata": {},
   "outputs": [
    {
     "name": "stdout",
     "output_type": "stream",
     "text": [
      "    id     type  user        date   amount currency ticker shares metadata\n",
      "0  306  deposit   1.0  2022-02-17  2100.00      EUR   None   None       {}\n",
      "1  308  deposit   2.0  2022-02-18   400.00      EUR   None   None       {}\n",
      "2  294      fee   1.0  2022-02-25    -1.34      EUR   None   None       {}\n",
      "3  295      fee   1.0  2022-02-25    -0.50      EUR   None   None       {}\n",
      "4  297      fee   1.0  2022-02-25    -0.37      EUR   None   None       {}\n"
     ]
    }
   ],
   "source": [
    "# Define the local endpoint\n",
    "endpoint = \"http://127.0.0.1:8000/transactions/list/?=\"\n",
    "\n",
    "# Make a GET request to the local endpoint\n",
    "response = requests.get(endpoint)\n",
    "\n",
    "# Check if the request was successful\n",
    "if response.status_code == 200:\n",
    "    data = response.json()\n",
    "    # Extract the 'data' part\n",
    "    df = pd.DataFrame(data[\"data\"])\n",
    "    # Convert numeric columns from strings to float (if needed)\n",
    "    print(df.head())\n",
    "else:\n",
    "    print(f\"Failed to fetch data. Status code: {response.status_code}\")"
   ]
  },
  {
   "cell_type": "code",
   "execution_count": null,
   "id": "f089eafa",
   "metadata": {},
   "outputs": [],
   "source": [
    "# df.to_excel(\"transactions.xlsx\", index=False)"
   ]
  }
 ],
 "metadata": {
  "kernelspec": {
   "display_name": "umbrella",
   "language": "python",
   "name": "python3"
  },
  "language_info": {
   "codemirror_mode": {
    "name": "ipython",
    "version": 3
   },
   "file_extension": ".py",
   "mimetype": "text/x-python",
   "name": "python",
   "nbconvert_exporter": "python",
   "pygments_lexer": "ipython3",
   "version": "3.10.16"
  }
 },
 "nbformat": 4,
 "nbformat_minor": 5
}
