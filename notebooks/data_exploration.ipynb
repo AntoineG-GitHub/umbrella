{
 "cells": [
  {
   "cell_type": "code",
   "execution_count": null,
   "id": "d06e1e0f",
   "metadata": {},
   "outputs": [],
   "source": [
    "import os\n",
    "import sys\n",
    "import requests\n",
    "import pandas as pd\n",
    "import matplotlib.pyplot as plt\n",
    "# Plot portfolio_total_value with formatted y-axis ticks for readability\n",
    "import matplotlib.ticker as mticker\n",
    "\n",
    "# Set the notebook to the root directory\n",
    "ROOT_DIR = os.path.abspath(os.path.join(\"..\"))\n",
    "sys.path.insert(0, ROOT_DIR)\n",
    "\n",
    "# Define the local endpoint\n",
    "endpoint = f\"http://127.0.0.1:8000/portfolio_valuation/get_daily_portfolio_snapshot/?start_date=2023-01-01&end_date=2023-06-30\"\n",
    "\n",
    "# Make a GET request to the local endpoint\n",
    "response = requests.get(endpoint)\n",
    "\n",
    "# Check if the request was successful\n",
    "if response.status_code == 200:\n",
    "    data = response.json()\n",
    "    # Extract the 'data' part\n",
    "    df = pd.DataFrame(data[\"data\"])\n",
    "    # Convert numeric columns from strings to float (if needed)\n",
    "    numeric_columns = [\"nav_per_unit\"]\n",
    "    df[numeric_columns] = df[numeric_columns].astype(float)\n",
    "else:\n",
    "    print(f\"Failed to fetch data. Status code: {response.status_code}\")\n",
    "\n"
   ]
  },
  {
   "cell_type": "code",
   "execution_count": 109,
   "id": "b6f04d2c",
   "metadata": {},
   "outputs": [
    {
     "data": {
      "application/vnd.plotly.v1+json": {
       "config": {
        "plotlyServerURL": "https://plot.ly"
       },
       "data": [
        {
         "line": {
          "color": "blue"
         },
         "mode": "lines",
         "name": "Fund Total Value",
         "type": "scatter",
         "x": [
          "2023-01-02",
          "2023-01-03",
          "2023-01-04",
          "2023-01-05",
          "2023-01-06",
          "2023-01-09",
          "2023-01-10",
          "2023-01-11",
          "2023-01-12",
          "2023-01-13",
          "2023-01-16",
          "2023-01-17",
          "2023-01-18",
          "2023-01-19",
          "2023-01-20",
          "2023-01-23",
          "2023-01-24",
          "2023-01-25",
          "2023-01-26",
          "2023-01-27",
          "2023-01-30",
          "2023-01-31",
          "2023-02-01",
          "2023-02-02",
          "2023-02-03",
          "2023-02-06",
          "2023-02-07",
          "2023-02-08",
          "2023-02-09",
          "2023-02-10",
          "2023-02-13",
          "2023-02-14",
          "2023-02-15",
          "2023-02-16",
          "2023-02-17",
          "2023-02-20",
          "2023-02-21",
          "2023-02-22",
          "2023-02-23",
          "2023-02-24",
          "2023-02-27",
          "2023-02-28",
          "2023-03-01",
          "2023-03-02",
          "2023-03-03",
          "2023-03-06",
          "2023-03-07",
          "2023-03-08",
          "2023-03-09",
          "2023-03-10",
          "2023-03-13",
          "2023-03-14",
          "2023-03-15",
          "2023-03-16",
          "2023-03-17",
          "2023-03-20",
          "2023-03-21",
          "2023-03-22",
          "2023-03-23",
          "2023-03-24",
          "2023-03-27",
          "2023-03-28",
          "2023-03-29",
          "2023-03-30",
          "2023-03-31",
          "2023-04-03",
          "2023-04-04",
          "2023-04-05",
          "2023-04-06",
          "2023-04-07",
          "2023-04-10",
          "2023-04-11",
          "2023-04-12",
          "2023-04-13",
          "2023-04-14",
          "2023-04-17",
          "2023-04-18",
          "2023-04-19",
          "2023-04-20",
          "2023-04-21",
          "2023-04-24",
          "2023-04-25",
          "2023-04-26",
          "2023-04-27",
          "2023-04-28",
          "2023-05-01",
          "2023-05-02",
          "2023-05-03",
          "2023-05-04",
          "2023-05-05",
          "2023-05-08",
          "2023-05-09",
          "2023-05-10",
          "2023-05-11",
          "2023-05-12",
          "2023-05-15",
          "2023-05-16",
          "2023-05-17",
          "2023-05-18",
          "2023-05-19",
          "2023-05-22",
          "2023-05-23",
          "2023-05-24",
          "2023-05-25",
          "2023-05-26",
          "2023-05-29",
          "2023-05-30",
          "2023-05-31",
          "2023-06-01",
          "2023-06-02",
          "2023-06-05",
          "2023-06-06",
          "2023-06-07",
          "2023-06-08",
          "2023-06-09",
          "2023-06-12",
          "2023-06-13",
          "2023-06-14",
          "2023-06-15",
          "2023-06-16",
          "2023-06-19",
          "2023-06-20",
          "2023-06-21",
          "2023-06-22",
          "2023-06-23",
          "2023-06-26",
          "2023-06-27",
          "2023-06-28",
          "2023-06-29",
          "2023-06-30"
         ],
         "xaxis": "x",
         "y": {
          "bdata": "XI/C9Wjks0A9CtejcBy0QKRwPQoXf7RAMzMzM/MltEBI4XoUbqK0QHE9CtfjCLVA4XoUrkcStUBSuB6FqyO1QDMzMzNzb7VA16NwPYqctUA9Ctej8Ke1QBSuR+F6A7ZAj8L1KJywtUBmZmZmpka1QK5H4XpU1rVAcT0K1+OltkAK16Nw/am2QMP1KFyPorZAKVyPwvULt0AK16NwvVG3QGZmZmamy7ZA7FG4HoUIt0CamZmZmcy3QGZmZmZmNrlAhetRuN7huECuR+F6VNi4QB+F61E4WrlASOF6FC5ZuUAzMzMzs2C5QHsUrkeh07hA4XoUrgcrukAfhetROKa6QClcj8I1o7pAUrgehas6ukBcj8L1qOW5QLgeheuR57lAw/UoXE9nuUAAAAAAQIW5QFK4HoWr27pAFK5H4TqhukAzMzMzc8i6QB+F61G4m7pAUrgehSs7ukC4HoXrkbC7QLgeheuRDrxAexSuRyHYu0AUrkfh+qi7QM3MzMxMDLxAAAAAAACRu0B7FK5H4RW7QBSuR+E68bpA9ihcj4Kru0DhehSuh7S7QLgehetRaLxAMzMzM3NUvEDhehSuR3O8QB+F61H4pLxAPQrXo7C3vEC4HoXrUeC8QIXrUbiezrxAFK5H4TrSvEAzMzMzM8i8QFyPwvWoLr1AUrgehatZvUD2KFyPwq29QClcj8L1vb1AzczMzIxHvkAK16NwPQi+QHE9CtejCr5AcT0K16MKvkCkcD0Kl0e+QArXo3B9Lr5AXI/C9SiCw0ApXI/CFXnDQGZmZmbGosNAhetRuB7Rw0BxPQrX4xjEQArXo3A9O8RAuB6F6zHew0A9Ctej0OHDQB+F61F40MNAUrgehWtrw0C4HoXrkajDQI/C9Sg82MNApHA9ClcsxEApXI/CNarEQK5H4XrUOsRA16NwPUqrxECamZmZWYHEQIXrUbjeHcVA4XoUrodPxUA9CtejsBrFQArXo3A9QMVAuB6F6zEaxUDsUbgeRQLFQDMzMzPTTcVAUrgehatixUAzMzMzc9/FQIXrUbj+mcZAXI/C9chdxkAK16NwvVLGQHE9CtdDGcZAZmZmZub6xUC4HoXrESHJQNejcD2KpclApHA9CpesyUCPwvUofCvKQEjhehROOclApHA9Cpf1yUDhehSuJ+PJQArXo3C9+8lAZmZmZubTyUAUrkfh2krJQClcj8IVvslACtejcP3qyUDD9ShcTzjKQPYoXI9C2MpAMzMzM/Oyy0DNzMzMbIzLQGZmZmaGlctAmpmZmXmUy0CuR+F69BTMQFK4HoXLqstA4XoUrmely0DhehSuZ0PLQLgehesxjcpAZmZmZuYhy0CamZmZud/KQFyPwvXIxMpAuB6F63Fpy0A=",
          "dtype": "f8"
         },
         "yaxis": "y"
        },
        {
         "line": {
          "color": "orange"
         },
         "mode": "lines",
         "name": "NAV per Unit",
         "type": "scatter",
         "x": [
          "2023-01-02",
          "2023-01-03",
          "2023-01-04",
          "2023-01-05",
          "2023-01-06",
          "2023-01-09",
          "2023-01-10",
          "2023-01-11",
          "2023-01-12",
          "2023-01-13",
          "2023-01-16",
          "2023-01-17",
          "2023-01-18",
          "2023-01-19",
          "2023-01-20",
          "2023-01-23",
          "2023-01-24",
          "2023-01-25",
          "2023-01-26",
          "2023-01-27",
          "2023-01-30",
          "2023-01-31",
          "2023-02-01",
          "2023-02-02",
          "2023-02-03",
          "2023-02-06",
          "2023-02-07",
          "2023-02-08",
          "2023-02-09",
          "2023-02-10",
          "2023-02-13",
          "2023-02-14",
          "2023-02-15",
          "2023-02-16",
          "2023-02-17",
          "2023-02-20",
          "2023-02-21",
          "2023-02-22",
          "2023-02-23",
          "2023-02-24",
          "2023-02-27",
          "2023-02-28",
          "2023-03-01",
          "2023-03-02",
          "2023-03-03",
          "2023-03-06",
          "2023-03-07",
          "2023-03-08",
          "2023-03-09",
          "2023-03-10",
          "2023-03-13",
          "2023-03-14",
          "2023-03-15",
          "2023-03-16",
          "2023-03-17",
          "2023-03-20",
          "2023-03-21",
          "2023-03-22",
          "2023-03-23",
          "2023-03-24",
          "2023-03-27",
          "2023-03-28",
          "2023-03-29",
          "2023-03-30",
          "2023-03-31",
          "2023-04-03",
          "2023-04-04",
          "2023-04-05",
          "2023-04-06",
          "2023-04-07",
          "2023-04-10",
          "2023-04-11",
          "2023-04-12",
          "2023-04-13",
          "2023-04-14",
          "2023-04-17",
          "2023-04-18",
          "2023-04-19",
          "2023-04-20",
          "2023-04-21",
          "2023-04-24",
          "2023-04-25",
          "2023-04-26",
          "2023-04-27",
          "2023-04-28",
          "2023-05-01",
          "2023-05-02",
          "2023-05-03",
          "2023-05-04",
          "2023-05-05",
          "2023-05-08",
          "2023-05-09",
          "2023-05-10",
          "2023-05-11",
          "2023-05-12",
          "2023-05-15",
          "2023-05-16",
          "2023-05-17",
          "2023-05-18",
          "2023-05-19",
          "2023-05-22",
          "2023-05-23",
          "2023-05-24",
          "2023-05-25",
          "2023-05-26",
          "2023-05-29",
          "2023-05-30",
          "2023-05-31",
          "2023-06-01",
          "2023-06-02",
          "2023-06-05",
          "2023-06-06",
          "2023-06-07",
          "2023-06-08",
          "2023-06-09",
          "2023-06-12",
          "2023-06-13",
          "2023-06-14",
          "2023-06-15",
          "2023-06-16",
          "2023-06-19",
          "2023-06-20",
          "2023-06-21",
          "2023-06-22",
          "2023-06-23",
          "2023-06-26",
          "2023-06-27",
          "2023-06-28",
          "2023-06-29",
          "2023-06-30"
         ],
         "xaxis": "x2",
         "y": {
          "bdata": "q8yU1t/y8z+e6WfiBCP0Pz6y2niH5vM/27jNbSVI9D+16UKL8O/zP/Hp+7oda/Q/a+n604DQ9D90f3GAy9n0P/QvD7oA6/Q/lqkPRf019T/+VIlwm2L1P548NEXjbfU/LtpOIXjI9T8WCgGOd3b1P8F8aNWdDfU/IcWEwcqb9T9a1fW4LWn2P1iKR1Y8bfY/M2KwLOJl9j+V7aYILs72P/qtxqc6E/c/cec+EIuO9j9fyV2dxsr2P95DmXjNjPc/J+/Ky+0Q+D9jPqQIPsD3P3GQ79Yit/c/DssTxh4z+D9VaQ+kIDL4P7qcdTpOOfg/2+NDWKay9z+kATjNbQj4P9NeKz6Refg/l1NljM12+D8zBq3yyhb4Pwe9LxW4yPc/adhaJXnK9z/LhamxrVT3P93FJPEscPc/S3v/9qeq+D8soXkI/HT4PwVLtx0Bmfg/veY0j+xv+D+jj/mAQBf4P4p5NcShnPg/xDEe5y7w+D8DDEdny7/4PxVRl7Xilfg/SvTPXyru+D8spPQzkoD4PxjlgPoiE/g/FkxffI/y9z9UPVdjIpj4PxZr2dYmoPg/rEy++vQ/+T8PiVKtSy75P2nLNdyySfk/KejVhN11+T9lQDAmgYb5P2JS+EOeqvk/FSfOvOKa+T+O1sUrGJ75P3HxQ+ctlfk/dNW4DkDw+T/NDV27ehb6P4QN0+c4Yfo/W4s/H59v+j84t2whhiX6PyvWV/Ta7vk/M0nyfe3w+T8zSfJ97fD5P28ZBfuOJfo/sI9va+IP+j9+0O0Ef9gAQOWBROqo0ABAno3H0qj0AED0sMTBrRwBQPK32hanWgFAiXZXblB4AUBLjKcW+CcBQPRp21EYKwFASssOEh4cAUBsiQko3MQAQEp9Wdqp+QBAEZ2OldIiAUCKh0GqcmsBQAYExjwj2AFAyn0fzPV3AUB/ZN+6B1UBQHFswXvcMQFA68gNlhy1AUB0WAoWwd4BQFtx3O9xsgFA2eNLye7RAUCdq5ysB7IBQLE9q7P3nQFAuGRNE1PdAUBnK+3cze4BQNhIr1lwVwJAKZzV6d3zAkCH0d6mYMECQME3TZ8duAJAHNe3euuHAkCmsmoIdW4CQBuPpVF5EgVAyRS9nY6BBUB7pagKeIcFQEz+SI3g8QVAVpTY1ssmBUBTgWrursQFQCrC0X45tQVAZVc5OAGjBUAE5VNT1IEFQERBvr61DwVAwfVy6alvBUDbZFyKDpUFQEkk2Txx1QVA0SlEl6JaBkBG3JTZvRAHQANTOEip8AZA1UWGLD34BkDcK/NWXfcGQPwmRRJaYgdAYC/BZ/MJB0CyXjVkdgUHQNFY+zvbswZAllRUmiAcBkD6lXPO9JcGQGek9/DZYAZAmrOAAWtKBkA=",
          "dtype": "f8"
         },
         "yaxis": "y2"
        },
        {
         "line": {
          "color": "green"
         },
         "mode": "lines",
         "name": "Portfolio Total Value",
         "type": "scatter",
         "x": [
          "2023-01-02",
          "2023-01-03",
          "2023-01-04",
          "2023-01-05",
          "2023-01-06",
          "2023-01-09",
          "2023-01-10",
          "2023-01-11",
          "2023-01-12",
          "2023-01-13",
          "2023-01-16",
          "2023-01-17",
          "2023-01-18",
          "2023-01-19",
          "2023-01-20",
          "2023-01-23",
          "2023-01-24",
          "2023-01-25",
          "2023-01-26",
          "2023-01-27",
          "2023-01-30",
          "2023-01-31",
          "2023-02-01",
          "2023-02-02",
          "2023-02-03",
          "2023-02-06",
          "2023-02-07",
          "2023-02-08",
          "2023-02-09",
          "2023-02-10",
          "2023-02-13",
          "2023-02-14",
          "2023-02-15",
          "2023-02-16",
          "2023-02-17",
          "2023-02-20",
          "2023-02-21",
          "2023-02-22",
          "2023-02-23",
          "2023-02-24",
          "2023-02-27",
          "2023-02-28",
          "2023-03-01",
          "2023-03-02",
          "2023-03-03",
          "2023-03-06",
          "2023-03-07",
          "2023-03-08",
          "2023-03-09",
          "2023-03-10",
          "2023-03-13",
          "2023-03-14",
          "2023-03-15",
          "2023-03-16",
          "2023-03-17",
          "2023-03-20",
          "2023-03-21",
          "2023-03-22",
          "2023-03-23",
          "2023-03-24",
          "2023-03-27",
          "2023-03-28",
          "2023-03-29",
          "2023-03-30",
          "2023-03-31",
          "2023-04-03",
          "2023-04-04",
          "2023-04-05",
          "2023-04-06",
          "2023-04-07",
          "2023-04-10",
          "2023-04-11",
          "2023-04-12",
          "2023-04-13",
          "2023-04-14",
          "2023-04-17",
          "2023-04-18",
          "2023-04-19",
          "2023-04-20",
          "2023-04-21",
          "2023-04-24",
          "2023-04-25",
          "2023-04-26",
          "2023-04-27",
          "2023-04-28",
          "2023-05-01",
          "2023-05-02",
          "2023-05-03",
          "2023-05-04",
          "2023-05-05",
          "2023-05-08",
          "2023-05-09",
          "2023-05-10",
          "2023-05-11",
          "2023-05-12",
          "2023-05-15",
          "2023-05-16",
          "2023-05-17",
          "2023-05-18",
          "2023-05-19",
          "2023-05-22",
          "2023-05-23",
          "2023-05-24",
          "2023-05-25",
          "2023-05-26",
          "2023-05-29",
          "2023-05-30",
          "2023-05-31",
          "2023-06-01",
          "2023-06-02",
          "2023-06-05",
          "2023-06-06",
          "2023-06-07",
          "2023-06-08",
          "2023-06-09",
          "2023-06-12",
          "2023-06-13",
          "2023-06-14",
          "2023-06-15",
          "2023-06-16",
          "2023-06-19",
          "2023-06-20",
          "2023-06-21",
          "2023-06-22",
          "2023-06-23",
          "2023-06-26",
          "2023-06-27",
          "2023-06-28",
          "2023-06-29",
          "2023-06-30"
         ],
         "xaxis": "x3",
         "y": {
          "bdata": "H4XrUXjLskCkcD0K15qyQArXo3B9/bJAmpmZmVmkskCuR+F61CCzQNejcD1Kh7NASOF6FK6Qs0C4HoXrEaKzQJqZmZnZ7bNAPQrXo/AatECkcD0KVya0QHsUrkfhgbRA9ihcjwIvtEDNzMzMDMWzQBSuR+G6VLRA16NwPUoktUBxPQrXYyi1QClcj8L1ILVAj8L1KFyKtUBxPQrXI9C1QI/C9SicRLVAFK5H4XqBtUDD9Shcj0W2QBSuR+H6z7ZAMzMzM3N7tkBcj8L16HG2QM3MzMzM87ZA9ihcj8LytkDhehSuR/q2QClcj8I1bbZAj8L1KJzKtkDNzMzMzEW3QNejcD3KQrdAAAAAAEDatkAK16NwPYW2QGZmZmYmh7ZAcT0K1+MGtkCuR+F61CS2QAAAAABAe7dAw/UoXM9At0DhehSuB2i3QM3MzMxMO7dAAAAAAMDatkDD9Shcz3C3QMP1KFzPzrdAhetRuF6Yt0AfhetROGm3QNejcD2KzLdACtejcD1Rt0CF61G4Hta2QB+F61F4sbZAAAAAAMBrt0DsUbgexXS3QMP1KFyPKLhAPQrXo7AUuEDsUbgehTO4QClcj8I1ZbhASOF6FO53uEDD9Shcj6C4QI/C9SjcjrhAH4XrUXiSuEA9CtejcIi4QHsUrkfh5LhAw/UoXM8PuUBmZmZm5mO5QJqZmZkZdLlA16NwPUoeuUAUrkfh+t64QHsUrkdh4bhAexSuR2HhuECuR+F6VB65QBSuR+E6BblAMzMzM5OiwkAAAAAAgJnCQD0K16Mww8JAXI/C9YjxwkBI4XoUTjnDQOF6FK6nW8NAj8L1KJz+wkAUrkfhOgLDQPYoXI/i8MJAKVyPwtWLwkCPwvUo/MjCQGZmZmam+MJAexSuR8FMw0C4HoXr8cfDQD0K16OQWMNAXI/C9eguw0AfhetR+ATDQArXo3B9ocNAZmZmZibTw0DD9ShcT57DQI/C9Sjcw8NAPQrXo9Cdw0BxPQrX44XDQLgehetx0cNA16NwPUrmw0C4HoXrEWPEQArXo3CdHcVA4XoUrmfhxECPwvUoXNbEQPYoXI/inMRA7FG4HoV+xEA9CtejsKTHQFyPwvUoKchAKVyPwjUwyEAUrkfhGq/IQM3MzMzsvMdAKVyPwjV5yEBmZmZmxmbIQOxRuB7lUMhASOF6FA4pyED2KFyPAqDHQArXo3A9E8hA7FG4HiVAyECkcD0Kd43IQNejcD1qLclAFK5H4RoIykCuR+F6lOHJQEjhehSu6slAexSuR6HpyUCPwvUoHGrKQDMzMzPz/8lAw/UoXI/6yUDD9Shcj5jJQJqZmZlZ4shASOF6FA53yUDsUbgepS/JQK5H4Xq0FMlACtejcF25yUA=",
          "dtype": "f8"
         },
         "yaxis": "y3"
        },
        {
         "line": {
          "color": "green"
         },
         "mode": "lines",
         "name": "Cash Total Value",
         "type": "scatter",
         "x": [
          "2023-01-02",
          "2023-01-03",
          "2023-01-04",
          "2023-01-05",
          "2023-01-06",
          "2023-01-09",
          "2023-01-10",
          "2023-01-11",
          "2023-01-12",
          "2023-01-13",
          "2023-01-16",
          "2023-01-17",
          "2023-01-18",
          "2023-01-19",
          "2023-01-20",
          "2023-01-23",
          "2023-01-24",
          "2023-01-25",
          "2023-01-26",
          "2023-01-27",
          "2023-01-30",
          "2023-01-31",
          "2023-02-01",
          "2023-02-02",
          "2023-02-03",
          "2023-02-06",
          "2023-02-07",
          "2023-02-08",
          "2023-02-09",
          "2023-02-10",
          "2023-02-13",
          "2023-02-14",
          "2023-02-15",
          "2023-02-16",
          "2023-02-17",
          "2023-02-20",
          "2023-02-21",
          "2023-02-22",
          "2023-02-23",
          "2023-02-24",
          "2023-02-27",
          "2023-02-28",
          "2023-03-01",
          "2023-03-02",
          "2023-03-03",
          "2023-03-06",
          "2023-03-07",
          "2023-03-08",
          "2023-03-09",
          "2023-03-10",
          "2023-03-13",
          "2023-03-14",
          "2023-03-15",
          "2023-03-16",
          "2023-03-17",
          "2023-03-20",
          "2023-03-21",
          "2023-03-22",
          "2023-03-23",
          "2023-03-24",
          "2023-03-27",
          "2023-03-28",
          "2023-03-29",
          "2023-03-30",
          "2023-03-31",
          "2023-04-03",
          "2023-04-04",
          "2023-04-05",
          "2023-04-06",
          "2023-04-07",
          "2023-04-10",
          "2023-04-11",
          "2023-04-12",
          "2023-04-13",
          "2023-04-14",
          "2023-04-17",
          "2023-04-18",
          "2023-04-19",
          "2023-04-20",
          "2023-04-21",
          "2023-04-24",
          "2023-04-25",
          "2023-04-26",
          "2023-04-27",
          "2023-04-28",
          "2023-05-01",
          "2023-05-02",
          "2023-05-03",
          "2023-05-04",
          "2023-05-05",
          "2023-05-08",
          "2023-05-09",
          "2023-05-10",
          "2023-05-11",
          "2023-05-12",
          "2023-05-15",
          "2023-05-16",
          "2023-05-17",
          "2023-05-18",
          "2023-05-19",
          "2023-05-22",
          "2023-05-23",
          "2023-05-24",
          "2023-05-25",
          "2023-05-26",
          "2023-05-29",
          "2023-05-30",
          "2023-05-31",
          "2023-06-01",
          "2023-06-02",
          "2023-06-05",
          "2023-06-06",
          "2023-06-07",
          "2023-06-08",
          "2023-06-09",
          "2023-06-12",
          "2023-06-13",
          "2023-06-14",
          "2023-06-15",
          "2023-06-16",
          "2023-06-19",
          "2023-06-20",
          "2023-06-21",
          "2023-06-22",
          "2023-06-23",
          "2023-06-26",
          "2023-06-27",
          "2023-06-28",
          "2023-06-29",
          "2023-06-30"
         ],
         "xaxis": "x4",
         "y": {
          "bdata": "16NwPQqPcUCamZmZmRl4QJqZmZmZGXhAmpmZmZkZeECamZmZmRl4QJqZmZmZGXhAmpmZmZkZeECamZmZmRl4QJqZmZmZGXhAmpmZmZkZeECamZmZmRl4QJqZmZmZGXhAmpmZmZkZeECamZmZmRl4QJqZmZmZGXhAmpmZmZkZeECamZmZmRl4QJqZmZmZGXhAmpmZmZkZeECamZmZmRl4QHE9CtejcHhAcT0K16NweEBxPQrXo3B4QI/C9ShcM4NAj8L1KFwzg0CPwvUoXDODQI/C9ShcM4NAj8L1KFwzg0CPwvUoXDODQI/C9ShcM4NAj8L1KFwDi0CPwvUoXAOLQI/C9ShcA4tAj8L1KFwDi0CPwvUoXAOLQI/C9ShcA4tAj8L1KFwDi0CPwvUoXAOLQI/C9ShcA4tAj8L1KFwDi0CPwvUoXAOLQI/C9ShcA4tAj8L1KFwDi0DXo3A9Cv+QQNejcD0K/5BA16NwPQr/kEDXo3A9Cv+QQNejcD0K/5BA16NwPQr/kEDXo3A9Cv+QQNejcD0K/5BA16NwPQr/kEDXo3A9Cv+QQNejcD0K/5BA16NwPQr/kEDXo3A9Cv+QQNejcD0K/5BA16NwPQr/kEDXo3A9Cv+QQNejcD0K/5BA16NwPQr/kEDXo3A9Cv+QQIXrUbgeJ5FAPQrXo3AnkUA9CtejcCeRQD0K16NwJ5FA16NwPQqllEDXo3A9CqWUQNejcD0KpZRA16NwPQqllEDXo3A9CqWUQNejcD0KpZRAH4XrUbjye0AfhetRuPJ7QB+F61G48ntAH4XrUbjye0AfhetRuPJ7QB+F61G48ntAH4XrUbjye0AfhetRuPJ7QB+F61G48ntAH4XrUbjye0AfhetRuPJ7QB+F61G48ntAH4XrUbjye0AUrkfhekh8QBSuR+F6SHxArkfhehTGh0CuR+F6FMaHQK5H4XoUxodArkfhehTGh0CuR+F6FMaHQK5H4XoUxodArkfhehTGh0CuR+F6FMaHQK5H4XoUxodArkfhehTGh0CuR+F6FMaHQK5H4XoUxodArkfhehTGh0CuR+F6FMaHQK5H4XoUxodArkfhehTGh0CuR+F6FMaHQK5H4XoUxodArkfhehTGh0CuR+F6FMaHQK5H4XoUxodArkfhehTGh0CuR+F6FMaHQOxRuB6FrYpA7FG4HoWtikDsUbgeha2KQOxRuB6FrYpA7FG4HoWtikDsUbgeha2KQOxRuB6FrYpA7FG4HoWtikDsUbgeha2KQOxRuB6FrYpA7FG4HoWtikDsUbgeha2KQOxRuB6FrYpA7FG4HoWtikDsUbgeha2KQOxRuB6FrYpA7FG4HoWtikDhehSuRwGLQOF6FK5HAYtA4XoUrkcBi0A=",
          "dtype": "f8"
         },
         "yaxis": "y4"
        }
       ],
       "layout": {
        "height": 800,
        "hovermode": "x unified",
        "template": {
         "data": {
          "bar": [
           {
            "error_x": {
             "color": "#2a3f5f"
            },
            "error_y": {
             "color": "#2a3f5f"
            },
            "marker": {
             "line": {
              "color": "#E5ECF6",
              "width": 0.5
             },
             "pattern": {
              "fillmode": "overlay",
              "size": 10,
              "solidity": 0.2
             }
            },
            "type": "bar"
           }
          ],
          "barpolar": [
           {
            "marker": {
             "line": {
              "color": "#E5ECF6",
              "width": 0.5
             },
             "pattern": {
              "fillmode": "overlay",
              "size": 10,
              "solidity": 0.2
             }
            },
            "type": "barpolar"
           }
          ],
          "carpet": [
           {
            "aaxis": {
             "endlinecolor": "#2a3f5f",
             "gridcolor": "white",
             "linecolor": "white",
             "minorgridcolor": "white",
             "startlinecolor": "#2a3f5f"
            },
            "baxis": {
             "endlinecolor": "#2a3f5f",
             "gridcolor": "white",
             "linecolor": "white",
             "minorgridcolor": "white",
             "startlinecolor": "#2a3f5f"
            },
            "type": "carpet"
           }
          ],
          "choropleth": [
           {
            "colorbar": {
             "outlinewidth": 0,
             "ticks": ""
            },
            "type": "choropleth"
           }
          ],
          "contour": [
           {
            "colorbar": {
             "outlinewidth": 0,
             "ticks": ""
            },
            "colorscale": [
             [
              0,
              "#0d0887"
             ],
             [
              0.1111111111111111,
              "#46039f"
             ],
             [
              0.2222222222222222,
              "#7201a8"
             ],
             [
              0.3333333333333333,
              "#9c179e"
             ],
             [
              0.4444444444444444,
              "#bd3786"
             ],
             [
              0.5555555555555556,
              "#d8576b"
             ],
             [
              0.6666666666666666,
              "#ed7953"
             ],
             [
              0.7777777777777778,
              "#fb9f3a"
             ],
             [
              0.8888888888888888,
              "#fdca26"
             ],
             [
              1,
              "#f0f921"
             ]
            ],
            "type": "contour"
           }
          ],
          "contourcarpet": [
           {
            "colorbar": {
             "outlinewidth": 0,
             "ticks": ""
            },
            "type": "contourcarpet"
           }
          ],
          "heatmap": [
           {
            "colorbar": {
             "outlinewidth": 0,
             "ticks": ""
            },
            "colorscale": [
             [
              0,
              "#0d0887"
             ],
             [
              0.1111111111111111,
              "#46039f"
             ],
             [
              0.2222222222222222,
              "#7201a8"
             ],
             [
              0.3333333333333333,
              "#9c179e"
             ],
             [
              0.4444444444444444,
              "#bd3786"
             ],
             [
              0.5555555555555556,
              "#d8576b"
             ],
             [
              0.6666666666666666,
              "#ed7953"
             ],
             [
              0.7777777777777778,
              "#fb9f3a"
             ],
             [
              0.8888888888888888,
              "#fdca26"
             ],
             [
              1,
              "#f0f921"
             ]
            ],
            "type": "heatmap"
           }
          ],
          "histogram": [
           {
            "marker": {
             "pattern": {
              "fillmode": "overlay",
              "size": 10,
              "solidity": 0.2
             }
            },
            "type": "histogram"
           }
          ],
          "histogram2d": [
           {
            "colorbar": {
             "outlinewidth": 0,
             "ticks": ""
            },
            "colorscale": [
             [
              0,
              "#0d0887"
             ],
             [
              0.1111111111111111,
              "#46039f"
             ],
             [
              0.2222222222222222,
              "#7201a8"
             ],
             [
              0.3333333333333333,
              "#9c179e"
             ],
             [
              0.4444444444444444,
              "#bd3786"
             ],
             [
              0.5555555555555556,
              "#d8576b"
             ],
             [
              0.6666666666666666,
              "#ed7953"
             ],
             [
              0.7777777777777778,
              "#fb9f3a"
             ],
             [
              0.8888888888888888,
              "#fdca26"
             ],
             [
              1,
              "#f0f921"
             ]
            ],
            "type": "histogram2d"
           }
          ],
          "histogram2dcontour": [
           {
            "colorbar": {
             "outlinewidth": 0,
             "ticks": ""
            },
            "colorscale": [
             [
              0,
              "#0d0887"
             ],
             [
              0.1111111111111111,
              "#46039f"
             ],
             [
              0.2222222222222222,
              "#7201a8"
             ],
             [
              0.3333333333333333,
              "#9c179e"
             ],
             [
              0.4444444444444444,
              "#bd3786"
             ],
             [
              0.5555555555555556,
              "#d8576b"
             ],
             [
              0.6666666666666666,
              "#ed7953"
             ],
             [
              0.7777777777777778,
              "#fb9f3a"
             ],
             [
              0.8888888888888888,
              "#fdca26"
             ],
             [
              1,
              "#f0f921"
             ]
            ],
            "type": "histogram2dcontour"
           }
          ],
          "mesh3d": [
           {
            "colorbar": {
             "outlinewidth": 0,
             "ticks": ""
            },
            "type": "mesh3d"
           }
          ],
          "parcoords": [
           {
            "line": {
             "colorbar": {
              "outlinewidth": 0,
              "ticks": ""
             }
            },
            "type": "parcoords"
           }
          ],
          "pie": [
           {
            "automargin": true,
            "type": "pie"
           }
          ],
          "scatter": [
           {
            "fillpattern": {
             "fillmode": "overlay",
             "size": 10,
             "solidity": 0.2
            },
            "type": "scatter"
           }
          ],
          "scatter3d": [
           {
            "line": {
             "colorbar": {
              "outlinewidth": 0,
              "ticks": ""
             }
            },
            "marker": {
             "colorbar": {
              "outlinewidth": 0,
              "ticks": ""
             }
            },
            "type": "scatter3d"
           }
          ],
          "scattercarpet": [
           {
            "marker": {
             "colorbar": {
              "outlinewidth": 0,
              "ticks": ""
             }
            },
            "type": "scattercarpet"
           }
          ],
          "scattergeo": [
           {
            "marker": {
             "colorbar": {
              "outlinewidth": 0,
              "ticks": ""
             }
            },
            "type": "scattergeo"
           }
          ],
          "scattergl": [
           {
            "marker": {
             "colorbar": {
              "outlinewidth": 0,
              "ticks": ""
             }
            },
            "type": "scattergl"
           }
          ],
          "scattermap": [
           {
            "marker": {
             "colorbar": {
              "outlinewidth": 0,
              "ticks": ""
             }
            },
            "type": "scattermap"
           }
          ],
          "scattermapbox": [
           {
            "marker": {
             "colorbar": {
              "outlinewidth": 0,
              "ticks": ""
             }
            },
            "type": "scattermapbox"
           }
          ],
          "scatterpolar": [
           {
            "marker": {
             "colorbar": {
              "outlinewidth": 0,
              "ticks": ""
             }
            },
            "type": "scatterpolar"
           }
          ],
          "scatterpolargl": [
           {
            "marker": {
             "colorbar": {
              "outlinewidth": 0,
              "ticks": ""
             }
            },
            "type": "scatterpolargl"
           }
          ],
          "scatterternary": [
           {
            "marker": {
             "colorbar": {
              "outlinewidth": 0,
              "ticks": ""
             }
            },
            "type": "scatterternary"
           }
          ],
          "surface": [
           {
            "colorbar": {
             "outlinewidth": 0,
             "ticks": ""
            },
            "colorscale": [
             [
              0,
              "#0d0887"
             ],
             [
              0.1111111111111111,
              "#46039f"
             ],
             [
              0.2222222222222222,
              "#7201a8"
             ],
             [
              0.3333333333333333,
              "#9c179e"
             ],
             [
              0.4444444444444444,
              "#bd3786"
             ],
             [
              0.5555555555555556,
              "#d8576b"
             ],
             [
              0.6666666666666666,
              "#ed7953"
             ],
             [
              0.7777777777777778,
              "#fb9f3a"
             ],
             [
              0.8888888888888888,
              "#fdca26"
             ],
             [
              1,
              "#f0f921"
             ]
            ],
            "type": "surface"
           }
          ],
          "table": [
           {
            "cells": {
             "fill": {
              "color": "#EBF0F8"
             },
             "line": {
              "color": "white"
             }
            },
            "header": {
             "fill": {
              "color": "#C8D4E3"
             },
             "line": {
              "color": "white"
             }
            },
            "type": "table"
           }
          ]
         },
         "layout": {
          "annotationdefaults": {
           "arrowcolor": "#2a3f5f",
           "arrowhead": 0,
           "arrowwidth": 1
          },
          "autotypenumbers": "strict",
          "coloraxis": {
           "colorbar": {
            "outlinewidth": 0,
            "ticks": ""
           }
          },
          "colorscale": {
           "diverging": [
            [
             0,
             "#8e0152"
            ],
            [
             0.1,
             "#c51b7d"
            ],
            [
             0.2,
             "#de77ae"
            ],
            [
             0.3,
             "#f1b6da"
            ],
            [
             0.4,
             "#fde0ef"
            ],
            [
             0.5,
             "#f7f7f7"
            ],
            [
             0.6,
             "#e6f5d0"
            ],
            [
             0.7,
             "#b8e186"
            ],
            [
             0.8,
             "#7fbc41"
            ],
            [
             0.9,
             "#4d9221"
            ],
            [
             1,
             "#276419"
            ]
           ],
           "sequential": [
            [
             0,
             "#0d0887"
            ],
            [
             0.1111111111111111,
             "#46039f"
            ],
            [
             0.2222222222222222,
             "#7201a8"
            ],
            [
             0.3333333333333333,
             "#9c179e"
            ],
            [
             0.4444444444444444,
             "#bd3786"
            ],
            [
             0.5555555555555556,
             "#d8576b"
            ],
            [
             0.6666666666666666,
             "#ed7953"
            ],
            [
             0.7777777777777778,
             "#fb9f3a"
            ],
            [
             0.8888888888888888,
             "#fdca26"
            ],
            [
             1,
             "#f0f921"
            ]
           ],
           "sequentialminus": [
            [
             0,
             "#0d0887"
            ],
            [
             0.1111111111111111,
             "#46039f"
            ],
            [
             0.2222222222222222,
             "#7201a8"
            ],
            [
             0.3333333333333333,
             "#9c179e"
            ],
            [
             0.4444444444444444,
             "#bd3786"
            ],
            [
             0.5555555555555556,
             "#d8576b"
            ],
            [
             0.6666666666666666,
             "#ed7953"
            ],
            [
             0.7777777777777778,
             "#fb9f3a"
            ],
            [
             0.8888888888888888,
             "#fdca26"
            ],
            [
             1,
             "#f0f921"
            ]
           ]
          },
          "colorway": [
           "#636efa",
           "#EF553B",
           "#00cc96",
           "#ab63fa",
           "#FFA15A",
           "#19d3f3",
           "#FF6692",
           "#B6E880",
           "#FF97FF",
           "#FECB52"
          ],
          "font": {
           "color": "#2a3f5f"
          },
          "geo": {
           "bgcolor": "white",
           "lakecolor": "white",
           "landcolor": "#E5ECF6",
           "showlakes": true,
           "showland": true,
           "subunitcolor": "white"
          },
          "hoverlabel": {
           "align": "left"
          },
          "hovermode": "closest",
          "mapbox": {
           "style": "light"
          },
          "paper_bgcolor": "white",
          "plot_bgcolor": "#E5ECF6",
          "polar": {
           "angularaxis": {
            "gridcolor": "white",
            "linecolor": "white",
            "ticks": ""
           },
           "bgcolor": "#E5ECF6",
           "radialaxis": {
            "gridcolor": "white",
            "linecolor": "white",
            "ticks": ""
           }
          },
          "scene": {
           "xaxis": {
            "backgroundcolor": "#E5ECF6",
            "gridcolor": "white",
            "gridwidth": 2,
            "linecolor": "white",
            "showbackground": true,
            "ticks": "",
            "zerolinecolor": "white"
           },
           "yaxis": {
            "backgroundcolor": "#E5ECF6",
            "gridcolor": "white",
            "gridwidth": 2,
            "linecolor": "white",
            "showbackground": true,
            "ticks": "",
            "zerolinecolor": "white"
           },
           "zaxis": {
            "backgroundcolor": "#E5ECF6",
            "gridcolor": "white",
            "gridwidth": 2,
            "linecolor": "white",
            "showbackground": true,
            "ticks": "",
            "zerolinecolor": "white"
           }
          },
          "shapedefaults": {
           "line": {
            "color": "#2a3f5f"
           }
          },
          "ternary": {
           "aaxis": {
            "gridcolor": "white",
            "linecolor": "white",
            "ticks": ""
           },
           "baxis": {
            "gridcolor": "white",
            "linecolor": "white",
            "ticks": ""
           },
           "bgcolor": "#E5ECF6",
           "caxis": {
            "gridcolor": "white",
            "linecolor": "white",
            "ticks": ""
           }
          },
          "title": {
           "x": 0.05
          },
          "xaxis": {
           "automargin": true,
           "gridcolor": "white",
           "linecolor": "white",
           "ticks": "",
           "title": {
            "standoff": 15
           },
           "zerolinecolor": "white",
           "zerolinewidth": 2
          },
          "yaxis": {
           "automargin": true,
           "gridcolor": "white",
           "linecolor": "white",
           "ticks": "",
           "title": {
            "standoff": 15
           },
           "zerolinecolor": "white",
           "zerolinewidth": 2
          }
         }
        },
        "title": {
         "text": "Fund Performance Overview"
        },
        "xaxis": {
         "anchor": "y",
         "domain": [
          0,
          1
         ],
         "matches": "x4",
         "showticklabels": false
        },
        "xaxis2": {
         "anchor": "y2",
         "domain": [
          0,
          1
         ],
         "matches": "x4",
         "showticklabels": false,
         "title": {
          "text": "Date"
         }
        },
        "xaxis3": {
         "anchor": "y3",
         "domain": [
          0,
          1
         ],
         "matches": "x4",
         "showticklabels": false,
         "title": {
          "text": "Date"
         }
        },
        "xaxis4": {
         "anchor": "y4",
         "domain": [
          0,
          1
         ],
         "title": {
          "text": "Date"
         }
        },
        "yaxis": {
         "anchor": "x",
         "domain": [
          0.825,
          1
         ],
         "title": {
          "text": "Fund Value"
         }
        },
        "yaxis2": {
         "anchor": "x2",
         "domain": [
          0.55,
          0.7250000000000001
         ],
         "title": {
          "text": "NAV per Unit"
         }
        },
        "yaxis3": {
         "anchor": "x3",
         "domain": [
          0.275,
          0.45
         ],
         "tickformat": ",.0f",
         "title": {
          "text": "Portfolio Total Value"
         }
        },
        "yaxis4": {
         "anchor": "x4",
         "domain": [
          0,
          0.175
         ],
         "tickformat": ",.0f",
         "title": {
          "text": "Cash Total Value"
         }
        }
       }
      }
     },
     "metadata": {},
     "output_type": "display_data"
    }
   ],
   "source": [
    "import plotly.graph_objects as go\n",
    "from plotly.subplots import make_subplots\n",
    "import pandas as pd\n",
    "\n",
    "\n",
    "\n",
    "# Create subplots\n",
    "fig = make_subplots(rows=4, cols=1, shared_xaxes=True, vertical_spacing=0.1)\n",
    "\n",
    "# Plot total_value\n",
    "fig.add_trace(go.Scatter(x=df['date'], y=pd.to_numeric(df['total_value']), mode='lines',\n",
    "                         name='Fund Total Value', line=dict(color='blue')),\n",
    "              row=1, col=1)\n",
    "fig.update_yaxes(title_text='Fund Value', row=1, col=1)\n",
    "\n",
    "# Plot nav_per_unit\n",
    "fig.add_trace(go.Scatter(x=df['date'], y=df['nav_per_unit'], mode='lines',\n",
    "                         name='NAV per Unit', line=dict(color='orange')),\n",
    "              row=2, col=1)\n",
    "fig.update_yaxes(title_text='NAV per Unit', row=2, col=1)\n",
    "fig.update_xaxes(title_text='Date', row=2, col=1)\n",
    "\n",
    "\n",
    "# Plot portfolio_total_value\n",
    "fig.add_trace(go.Scatter(x=df['date'], y=pd.to_numeric(df['portfolio_total_value']), mode='lines',\n",
    "                         name='Portfolio Total Value', line=dict(color='green')), # Changed color for distinction\n",
    "              row=3, col=1)\n",
    "fig.update_yaxes(title_text='Portfolio Total Value', row=3, col=1, tickformat=\",.0f\") # Format with thousands separator\n",
    "fig.update_xaxes(title_text='Date', row=3, col=1)\n",
    "\n",
    "# Plot cash\n",
    "fig.add_trace(go.Scatter(x=df['date'], y=pd.to_numeric(df['cash']), mode='lines',\n",
    "                         name='Cash Total Value', line=dict(color='green')), # Changed color for distinction\n",
    "              row=4, col=1)\n",
    "fig.update_yaxes(title_text='Cash Total Value', row=4, col=1, tickformat=\",.0f\") # Format with thousands separator\n",
    "fig.update_xaxes(title_text='Date', row=4, col=1)\n",
    "\n",
    "# Update layout for overall chart\n",
    "fig.update_layout(height=800, title_text=\"Fund Performance Overview\",\n",
    "                  hovermode=\"x unified\") # 'x unified' shows all traces at a given x-value on hover\n",
    "\n",
    "fig.show()\n",
    "\n",
    "# Check on drops and spikes in portfolio_total_value\n",
    "# check on when nvda splitted"
   ]
  },
  {
   "cell_type": "code",
   "execution_count": 110,
   "id": "61ebde10",
   "metadata": {},
   "outputs": [
    {
     "data": {
      "text/html": [
       "<div>\n",
       "<style scoped>\n",
       "    .dataframe tbody tr th:only-of-type {\n",
       "        vertical-align: middle;\n",
       "    }\n",
       "\n",
       "    .dataframe tbody tr th {\n",
       "        vertical-align: top;\n",
       "    }\n",
       "\n",
       "    .dataframe thead th {\n",
       "        text-align: right;\n",
       "    }\n",
       "</style>\n",
       "<table border=\"1\" class=\"dataframe\">\n",
       "  <thead>\n",
       "    <tr style=\"text-align: right;\">\n",
       "      <th></th>\n",
       "      <th>id</th>\n",
       "      <th>date</th>\n",
       "      <th>total_value</th>\n",
       "      <th>total_units</th>\n",
       "      <th>nav_per_unit</th>\n",
       "      <th>gain_or_loss</th>\n",
       "      <th>cash</th>\n",
       "      <th>portfolio_total_value</th>\n",
       "      <th>net_inflows</th>\n",
       "    </tr>\n",
       "  </thead>\n",
       "  <tbody>\n",
       "    <tr>\n",
       "      <th>115</th>\n",
       "      <td>343</td>\n",
       "      <td>2023-06-12</td>\n",
       "      <td>13424.62</td>\n",
       "      <td>4918.84881004</td>\n",
       "      <td>2.697782</td>\n",
       "      <td>7973.57</td>\n",
       "      <td>853.69</td>\n",
       "      <td>12570.93</td>\n",
       "      <td>5451.05</td>\n",
       "    </tr>\n",
       "    <tr>\n",
       "      <th>116</th>\n",
       "      <td>344</td>\n",
       "      <td>2023-06-13</td>\n",
       "      <td>13744.52</td>\n",
       "      <td>4918.84881004</td>\n",
       "      <td>2.729220</td>\n",
       "      <td>8293.47</td>\n",
       "      <td>853.69</td>\n",
       "      <td>12890.83</td>\n",
       "      <td>5451.05</td>\n",
       "    </tr>\n",
       "    <tr>\n",
       "      <th>117</th>\n",
       "      <td>345</td>\n",
       "      <td>2023-06-14</td>\n",
       "      <td>14181.90</td>\n",
       "      <td>4918.84881004</td>\n",
       "      <td>2.794255</td>\n",
       "      <td>8730.85</td>\n",
       "      <td>853.69</td>\n",
       "      <td>13328.21</td>\n",
       "      <td>5451.05</td>\n",
       "    </tr>\n",
       "    <tr>\n",
       "      <th>118</th>\n",
       "      <td>346</td>\n",
       "      <td>2023-06-15</td>\n",
       "      <td>14104.85</td>\n",
       "      <td>4918.84881004</td>\n",
       "      <td>2.883175</td>\n",
       "      <td>8653.80</td>\n",
       "      <td>853.69</td>\n",
       "      <td>13251.16</td>\n",
       "      <td>5451.05</td>\n",
       "    </tr>\n",
       "    <tr>\n",
       "      <th>119</th>\n",
       "      <td>347</td>\n",
       "      <td>2023-06-16</td>\n",
       "      <td>14123.05</td>\n",
       "      <td>4918.84881004</td>\n",
       "      <td>2.867510</td>\n",
       "      <td>8672.00</td>\n",
       "      <td>853.69</td>\n",
       "      <td>13269.36</td>\n",
       "      <td>5451.05</td>\n",
       "    </tr>\n",
       "    <tr>\n",
       "      <th>120</th>\n",
       "      <td>348</td>\n",
       "      <td>2023-06-19</td>\n",
       "      <td>14120.95</td>\n",
       "      <td>4918.84881004</td>\n",
       "      <td>2.871210</td>\n",
       "      <td>8669.90</td>\n",
       "      <td>853.69</td>\n",
       "      <td>13267.26</td>\n",
       "      <td>5451.05</td>\n",
       "    </tr>\n",
       "    <tr>\n",
       "      <th>121</th>\n",
       "      <td>349</td>\n",
       "      <td>2023-06-20</td>\n",
       "      <td>14377.91</td>\n",
       "      <td>4918.84881004</td>\n",
       "      <td>2.870783</td>\n",
       "      <td>8926.86</td>\n",
       "      <td>853.69</td>\n",
       "      <td>13524.22</td>\n",
       "      <td>5451.05</td>\n",
       "    </tr>\n",
       "    <tr>\n",
       "      <th>122</th>\n",
       "      <td>350</td>\n",
       "      <td>2023-06-21</td>\n",
       "      <td>14165.59</td>\n",
       "      <td>4918.84881004</td>\n",
       "      <td>2.923023</td>\n",
       "      <td>8714.54</td>\n",
       "      <td>853.69</td>\n",
       "      <td>13311.90</td>\n",
       "      <td>5451.05</td>\n",
       "    </tr>\n",
       "    <tr>\n",
       "      <th>123</th>\n",
       "      <td>351</td>\n",
       "      <td>2023-06-22</td>\n",
       "      <td>14154.81</td>\n",
       "      <td>4918.84881004</td>\n",
       "      <td>2.879859</td>\n",
       "      <td>8703.76</td>\n",
       "      <td>853.69</td>\n",
       "      <td>13301.12</td>\n",
       "      <td>5451.05</td>\n",
       "    </tr>\n",
       "    <tr>\n",
       "      <th>124</th>\n",
       "      <td>352</td>\n",
       "      <td>2023-06-23</td>\n",
       "      <td>13958.81</td>\n",
       "      <td>4918.84881004</td>\n",
       "      <td>2.877667</td>\n",
       "      <td>8507.76</td>\n",
       "      <td>853.69</td>\n",
       "      <td>13105.12</td>\n",
       "      <td>5451.05</td>\n",
       "    </tr>\n",
       "    <tr>\n",
       "      <th>125</th>\n",
       "      <td>353</td>\n",
       "      <td>2023-06-26</td>\n",
       "      <td>13594.39</td>\n",
       "      <td>4918.84881004</td>\n",
       "      <td>2.837820</td>\n",
       "      <td>8143.34</td>\n",
       "      <td>853.69</td>\n",
       "      <td>12740.70</td>\n",
       "      <td>5451.05</td>\n",
       "    </tr>\n",
       "    <tr>\n",
       "      <th>126</th>\n",
       "      <td>354</td>\n",
       "      <td>2023-06-27</td>\n",
       "      <td>13891.80</td>\n",
       "      <td>4918.84881004</td>\n",
       "      <td>2.763734</td>\n",
       "      <td>8440.75</td>\n",
       "      <td>853.69</td>\n",
       "      <td>13038.11</td>\n",
       "      <td>5451.05</td>\n",
       "    </tr>\n",
       "    <tr>\n",
       "      <th>127</th>\n",
       "      <td>355</td>\n",
       "      <td>2023-06-28</td>\n",
       "      <td>13759.45</td>\n",
       "      <td>4918.84881004</td>\n",
       "      <td>2.824197</td>\n",
       "      <td>8308.40</td>\n",
       "      <td>864.16</td>\n",
       "      <td>12895.29</td>\n",
       "      <td>5451.05</td>\n",
       "    </tr>\n",
       "    <tr>\n",
       "      <th>128</th>\n",
       "      <td>356</td>\n",
       "      <td>2023-06-29</td>\n",
       "      <td>13705.57</td>\n",
       "      <td>4918.84881004</td>\n",
       "      <td>2.797291</td>\n",
       "      <td>8254.52</td>\n",
       "      <td>864.16</td>\n",
       "      <td>12841.41</td>\n",
       "      <td>5451.05</td>\n",
       "    </tr>\n",
       "    <tr>\n",
       "      <th>129</th>\n",
       "      <td>357</td>\n",
       "      <td>2023-06-30</td>\n",
       "      <td>14034.89</td>\n",
       "      <td>4918.84881004</td>\n",
       "      <td>2.786337</td>\n",
       "      <td>8583.84</td>\n",
       "      <td>864.16</td>\n",
       "      <td>13170.73</td>\n",
       "      <td>5451.05</td>\n",
       "    </tr>\n",
       "  </tbody>\n",
       "</table>\n",
       "</div>"
      ],
      "text/plain": [
       "      id        date total_value    total_units  nav_per_unit gain_or_loss  \\\n",
       "115  343  2023-06-12    13424.62  4918.84881004      2.697782      7973.57   \n",
       "116  344  2023-06-13    13744.52  4918.84881004      2.729220      8293.47   \n",
       "117  345  2023-06-14    14181.90  4918.84881004      2.794255      8730.85   \n",
       "118  346  2023-06-15    14104.85  4918.84881004      2.883175      8653.80   \n",
       "119  347  2023-06-16    14123.05  4918.84881004      2.867510      8672.00   \n",
       "120  348  2023-06-19    14120.95  4918.84881004      2.871210      8669.90   \n",
       "121  349  2023-06-20    14377.91  4918.84881004      2.870783      8926.86   \n",
       "122  350  2023-06-21    14165.59  4918.84881004      2.923023      8714.54   \n",
       "123  351  2023-06-22    14154.81  4918.84881004      2.879859      8703.76   \n",
       "124  352  2023-06-23    13958.81  4918.84881004      2.877667      8507.76   \n",
       "125  353  2023-06-26    13594.39  4918.84881004      2.837820      8143.34   \n",
       "126  354  2023-06-27    13891.80  4918.84881004      2.763734      8440.75   \n",
       "127  355  2023-06-28    13759.45  4918.84881004      2.824197      8308.40   \n",
       "128  356  2023-06-29    13705.57  4918.84881004      2.797291      8254.52   \n",
       "129  357  2023-06-30    14034.89  4918.84881004      2.786337      8583.84   \n",
       "\n",
       "       cash portfolio_total_value net_inflows  \n",
       "115  853.69              12570.93     5451.05  \n",
       "116  853.69              12890.83     5451.05  \n",
       "117  853.69              13328.21     5451.05  \n",
       "118  853.69              13251.16     5451.05  \n",
       "119  853.69              13269.36     5451.05  \n",
       "120  853.69              13267.26     5451.05  \n",
       "121  853.69              13524.22     5451.05  \n",
       "122  853.69              13311.90     5451.05  \n",
       "123  853.69              13301.12     5451.05  \n",
       "124  853.69              13105.12     5451.05  \n",
       "125  853.69              12740.70     5451.05  \n",
       "126  853.69              13038.11     5451.05  \n",
       "127  864.16              12895.29     5451.05  \n",
       "128  864.16              12841.41     5451.05  \n",
       "129  864.16              13170.73     5451.05  "
      ]
     },
     "execution_count": 110,
     "metadata": {},
     "output_type": "execute_result"
    }
   ],
   "source": [
    "df.tail(15)"
   ]
  },
  {
   "cell_type": "code",
   "execution_count": 111,
   "id": "4423451a",
   "metadata": {},
   "outputs": [
    {
     "name": "stdout",
     "output_type": "stream",
     "text": [
      "         date  units_held  value_held\n",
      "0  2022-02-17      2100.0     4200.00\n",
      "1  2022-02-18      2100.0     4200.00\n",
      "2  2022-02-21      2100.0     4356.72\n",
      "3  2022-02-22      2100.0     4314.85\n",
      "4  2022-02-23      2100.0     4316.96\n"
     ]
    }
   ],
   "source": [
    "# Define the local endpoint\n",
    "endpoint = \"http://127.0.0.1:8000/portfolio_valuation/user_snapshots/1/?start_date=2022-02-01&end_date=2025-05-01\"\n",
    "\n",
    "# Make a GET request to the local endpoint\n",
    "response = requests.get(endpoint)\n",
    "\n",
    "# Check if the request was successful\n",
    "if response.status_code == 200:\n",
    "    data = response.json()\n",
    "    # Extract the 'data' part\n",
    "    df = pd.DataFrame(data[\"snapshots\"])\n",
    "    # Convert numeric columns from strings to float (if needed)\n",
    "    print(df.head())\n",
    "else:\n",
    "    print(f\"Failed to fetch data. Status code: {response.status_code}\")\n",
    "\n"
   ]
  },
  {
   "cell_type": "code",
   "execution_count": 112,
   "id": "1bd947ce",
   "metadata": {},
   "outputs": [
    {
     "data": {
      "text/plain": [
       "<Axes: >"
      ]
     },
     "execution_count": 112,
     "metadata": {},
     "output_type": "execute_result"
    },
    {
     "data": {
      "image/png": "[encoded data removed]",
      "text/plain": [
       "<Figure size 640x480 with 1 Axes>"
      ]
     },
     "metadata": {},
     "output_type": "display_data"
    }
   ],
   "source": [
    "df.value_held.plot()"
   ]
  },
  {
   "cell_type": "code",
   "execution_count": 113,
   "id": "2dc3fb40",
   "metadata": {},
   "outputs": [
    {
     "name": "stdout",
     "output_type": "stream",
     "text": [
      "    id     type  user        date   amount currency ticker    shares metadata\n",
      "0  306  deposit   1.0  2022-02-17  2100.00      EUR   None      None       {}\n",
      "1  308  deposit   2.0  2022-02-18   400.00      EUR   None      None       {}\n",
      "2  318     sell   NaN  2022-02-21   186.57      EUR   NVDA  1.000000       {}\n",
      "3  294      fee   1.0  2022-02-25    -1.34      EUR   None      None       {}\n",
      "4  295      fee   1.0  2022-02-25    -0.50      EUR   None      None       {}\n"
     ]
    }
   ],
   "source": [
    "# Define the local endpoint\n",
    "endpoint = \"http://127.0.0.1:8000/transactions/list/?=\"\n",
    "\n",
    "# Make a GET request to the local endpoint\n",
    "response = requests.get(endpoint)\n",
    "\n",
    "# Check if the request was successful\n",
    "if response.status_code == 200:\n",
    "    data = response.json()\n",
    "    # Extract the 'data' part\n",
    "    df = pd.DataFrame(data[\"data\"])\n",
    "    # Convert numeric columns from strings to float (if needed)\n",
    "    print(df.head())\n",
    "else:\n",
    "    print(f\"Failed to fetch data. Status code: {response.status_code}\")"
   ]
  },
  {
   "cell_type": "code",
   "execution_count": 114,
   "id": "79ff8af7",
   "metadata": {},
   "outputs": [
    {
     "data": {
      "application/vnd.plotly.v1+json": {
       "config": {
        "plotlyServerURL": "https://plot.ly"
       },
       "data": [
        {
         "hovertemplate": "Date: %{x}<br>Type: %{text}<extra></extra>",
         "marker": {
          "color": "skyblue",
          "size": 20,
          "symbol": "line-ns-open"
         },
         "mode": "markers",
         "showlegend": false,
         "text": [
          "deposit",
          "deposit",
          "sell",
          "buy",
          "buy",
          "fee",
          "fee",
          "buy",
          "fee",
          "buy",
          "fee",
          "fee",
          "fee",
          "fee",
          "fee",
          "fee",
          "buy",
          "fee",
          "fee",
          "deposit",
          "fee",
          "fee",
          "dividend",
          "fee",
          "dividend",
          "deposit",
          "fee",
          "fee",
          "sell",
          "fee",
          "fee",
          "fee",
          "fee",
          "sell",
          "deposit",
          "sell",
          "fee",
          "fee",
          "fee",
          "fee",
          "buy",
          "fee",
          "fee",
          "buy",
          "fee",
          "fee",
          "buy",
          "fee",
          "deposit",
          "fee",
          "fee",
          "buy",
          "fee",
          "fee",
          "buy",
          "dividend",
          "dividend",
          "fee",
          "deposit",
          "dividend",
          "fee",
          "deposit",
          "deposit",
          "dividend",
          "dividend",
          "fee",
          "deposit",
          "dividend",
          "fee",
          "deposit",
          "buy",
          "fee",
          "buy",
          "fee",
          "fee",
          "fee",
          "fee",
          "buy",
          "dividend",
          "fee",
          "dividend",
          "fee",
          "fee",
          "fee",
          "fee",
          "deposit",
          "fee",
          "dividend",
          "fee",
          "deposit",
          "deposit",
          "deposit",
          "dividend",
          "fee",
          "dividend",
          "deposit",
          "fee",
          "fee",
          "buy",
          "fee",
          "sell",
          "fee",
          "fee",
          "buy",
          "buy",
          "fee",
          "buy",
          "fee",
          "fee",
          "buy",
          "fee",
          "fee",
          "fee",
          "fee",
          "dividend",
          "deposit",
          "deposit",
          "dividend",
          "dividend",
          "fee",
          "deposit",
          "dividend",
          "fee",
          "deposit",
          "deposit",
          "dividend",
          "dividend",
          "fee",
          "deposit",
          "dividend",
          "fee",
          "deposit",
          "deposit",
          "buy",
          "fee",
          "fee",
          "fee",
          "fee",
          "buy",
          "dividend",
          "fee",
          "dividend",
          "dividend",
          "fee",
          "deposit",
          "dividend",
          "fee",
          "deposit",
          "fee",
          "fee",
          "fee",
          "fee",
          "sell",
          "sell",
          "fee",
          "fee",
          "fee",
          "deposit",
          "dividend",
          "fee",
          "dividend",
          "deposit",
          "dividend",
          "fee",
          "fee",
          "dividend",
          "deposit",
          "deposit",
          "fee",
          "dividend",
          "dividend",
          "deposit",
          "deposit",
          "deposit",
          "fee",
          "fee",
          "fee",
          "buy",
          "buy",
          "buy",
          "fee",
          "fee",
          "sell",
          "sell",
          "fee",
          "fee",
          "fee",
          "fee",
          "fee",
          "fee",
          "fee",
          "buy",
          "fee",
          "fee",
          "fee",
          "fee",
          "fee",
          "fee",
          "buy",
          "fee",
          "buy",
          "buy",
          "fee",
          "dividend",
          "fee",
          "dividend",
          "fee",
          "dividend",
          "dividend",
          "fee",
          "deposit",
          "deposit",
          "deposit",
          "deposit",
          "dividend",
          "fee",
          "dividend",
          "fee",
          "dividend",
          "dividend",
          "deposit",
          "deposit",
          "fee",
          "dividend",
          "fee",
          "dividend",
          "fee",
          "dividend",
          "fee",
          "dividend",
          "fee",
          "sell",
          "fee",
          "fee",
          "sell",
          "fee",
          "deposit",
          "fee",
          "dividend",
          "deposit",
          "fee",
          "dividend",
          "sell",
          "fee",
          "fee",
          "fee",
          "fee",
          "sell",
          "deposit",
          "deposit",
          "dividend",
          "fee",
          "fee",
          "dividend",
          "fee",
          "dividend",
          "fee",
          "dividend",
          "dividend",
          "dividend",
          "deposit",
          "deposit",
          "fee",
          "dividend",
          "fee",
          "dividend",
          "fee",
          "dividend",
          "fee",
          "dividend",
          "deposit",
          "deposit",
          "fee",
          "fee",
          "fee",
          "fee",
          "fee",
          "fee",
          "fee",
          "fee",
          "sell",
          "fee",
          "fee",
          "sell",
          "deposit",
          "deposit",
          "fee",
          "dividend",
          "dividend",
          "fee",
          "dividend",
          "dividend",
          "fee",
          "dividend",
          "fee",
          "dividend",
          "deposit",
          "deposit",
          "fee",
          "dividend",
          "fee",
          "dividend",
          "dividend",
          "fee",
          "fee",
          "dividend",
          "deposit",
          "deposit"
         ],
         "type": "scatter",
         "x": [
          "2022-02-17T00:00:00.000000000",
          "2022-02-18T00:00:00.000000000",
          "2022-02-21T00:00:00.000000000",
          "2022-02-25T00:00:00.000000000",
          "2022-02-25T00:00:00.000000000",
          "2022-02-25T00:00:00.000000000",
          "2022-02-25T00:00:00.000000000",
          "2022-02-25T00:00:00.000000000",
          "2022-02-25T00:00:00.000000000",
          "2022-02-25T00:00:00.000000000",
          "2022-02-25T00:00:00.000000000",
          "2022-02-25T00:00:00.000000000",
          "2022-02-25T00:00:00.000000000",
          "2022-02-25T00:00:00.000000000",
          "2022-02-25T00:00:00.000000000",
          "2022-02-28T00:00:00.000000000",
          "2022-02-28T00:00:00.000000000",
          "2022-03-02T00:00:00.000000000",
          "2022-03-02T00:00:00.000000000",
          "2022-03-02T00:00:00.000000000",
          "2022-03-02T00:00:00.000000000",
          "2022-03-02T00:00:00.000000000",
          "2022-03-25T00:00:00.000000000",
          "2022-03-25T00:00:00.000000000",
          "2022-03-30T00:00:00.000000000",
          "2022-04-04T00:00:00.000000000",
          "2022-04-12T00:00:00.000000000",
          "2022-04-12T00:00:00.000000000",
          "2022-04-12T00:00:00.000000000",
          "2022-04-21T00:00:00.000000000",
          "2022-04-21T00:00:00.000000000",
          "2022-04-22T00:00:00.000000000",
          "2022-04-22T00:00:00.000000000",
          "2022-04-22T00:00:00.000000000",
          "2022-05-03T00:00:00.000000000",
          "2022-05-27T00:00:00.000000000",
          "2022-05-27T00:00:00.000000000",
          "2022-05-27T00:00:00.000000000",
          "2022-05-30T00:00:00.000000000",
          "2022-05-30T00:00:00.000000000",
          "2022-05-30T00:00:00.000000000",
          "2022-05-31T00:00:00.000000000",
          "2022-05-31T00:00:00.000000000",
          "2022-05-31T00:00:00.000000000",
          "2022-05-31T00:00:00.000000000",
          "2022-05-31T00:00:00.000000000",
          "2022-05-31T00:00:00.000000000",
          "2022-06-01T00:00:00.000000000",
          "2022-06-07T00:00:00.000000000",
          "2022-06-16T00:00:00.000000000",
          "2022-06-16T00:00:00.000000000",
          "2022-06-16T00:00:00.000000000",
          "2022-06-16T00:00:00.000000000",
          "2022-06-16T00:00:00.000000000",
          "2022-06-16T00:00:00.000000000",
          "2022-06-29T00:00:00.000000000",
          "2022-07-04T00:00:00.000000000",
          "2022-07-04T00:00:00.000000000",
          "2022-07-07T00:00:00.000000000",
          "2022-08-01T00:00:00.000000000",
          "2022-08-01T00:00:00.000000000",
          "2022-08-03T00:00:00.000000000",
          "2022-09-07T00:00:00.000000000",
          "2022-09-29T00:00:00.000000000",
          "2022-09-30T00:00:00.000000000",
          "2022-09-30T00:00:00.000000000",
          "2022-10-04T00:00:00.000000000",
          "2022-10-31T00:00:00.000000000",
          "2022-10-31T00:00:00.000000000",
          "2022-11-02T00:00:00.000000000",
          "2022-11-07T00:00:00.000000000",
          "2022-11-07T00:00:00.000000000",
          "2022-11-07T00:00:00.000000000",
          "2022-11-07T00:00:00.000000000",
          "2022-11-07T00:00:00.000000000",
          "2022-11-07T00:00:00.000000000",
          "2022-11-07T00:00:00.000000000",
          "2022-11-07T00:00:00.000000000",
          "2022-12-23T00:00:00.000000000",
          "2022-12-23T00:00:00.000000000",
          "2023-01-02T00:00:00.000000000",
          "2023-01-03T00:00:00.000000000",
          "2023-01-03T00:00:00.000000000",
          "2023-01-03T00:00:00.000000000",
          "2023-01-03T00:00:00.000000000",
          "2023-01-03T00:00:00.000000000",
          "2023-01-03T00:00:00.000000000",
          "2023-01-30T00:00:00.000000000",
          "2023-01-30T00:00:00.000000000",
          "2023-02-02T00:00:00.000000000",
          "2023-02-13T00:00:00.000000000",
          "2023-03-02T00:00:00.000000000",
          "2023-03-29T00:00:00.000000000",
          "2023-03-30T00:00:00.000000000",
          "2023-03-30T00:00:00.000000000",
          "2023-04-04T00:00:00.000000000",
          "2023-04-12T00:00:00.000000000",
          "2023-04-12T00:00:00.000000000",
          "2023-04-12T00:00:00.000000000",
          "2023-04-12T00:00:00.000000000",
          "2023-04-12T00:00:00.000000000",
          "2023-04-12T00:00:00.000000000",
          "2023-04-12T00:00:00.000000000",
          "2023-04-12T00:00:00.000000000",
          "2023-04-12T00:00:00.000000000",
          "2023-04-12T00:00:00.000000000",
          "2023-04-12T00:00:00.000000000",
          "2023-04-12T00:00:00.000000000",
          "2023-04-12T00:00:00.000000000",
          "2023-04-12T00:00:00.000000000",
          "2023-04-12T00:00:00.000000000",
          "2023-04-12T00:00:00.000000000",
          "2023-04-12T00:00:00.000000000",
          "2023-05-01T00:00:00.000000000",
          "2023-05-01T00:00:00.000000000",
          "2023-05-03T00:00:00.000000000",
          "2023-06-05T00:00:00.000000000",
          "2023-06-28T00:00:00.000000000",
          "2023-07-03T00:00:00.000000000",
          "2023-07-03T00:00:00.000000000",
          "2023-07-04T00:00:00.000000000",
          "2023-07-31T00:00:00.000000000",
          "2023-07-31T00:00:00.000000000",
          "2023-08-02T00:00:00.000000000",
          "2023-09-05T00:00:00.000000000",
          "2023-09-27T00:00:00.000000000",
          "2023-09-29T00:00:00.000000000",
          "2023-09-29T00:00:00.000000000",
          "2023-10-03T00:00:00.000000000",
          "2023-10-30T00:00:00.000000000",
          "2023-10-30T00:00:00.000000000",
          "2023-11-02T00:00:00.000000000",
          "2023-12-04T00:00:00.000000000",
          "2023-12-11T00:00:00.000000000",
          "2023-12-11T00:00:00.000000000",
          "2023-12-11T00:00:00.000000000",
          "2023-12-11T00:00:00.000000000",
          "2023-12-11T00:00:00.000000000",
          "2023-12-11T00:00:00.000000000",
          "2023-12-20T00:00:00.000000000",
          "2023-12-20T00:00:00.000000000",
          "2023-12-28T00:00:00.000000000",
          "2023-12-29T00:00:00.000000000",
          "2023-12-29T00:00:00.000000000",
          "2024-01-03T00:00:00.000000000",
          "2024-01-29T00:00:00.000000000",
          "2024-01-29T00:00:00.000000000",
          "2024-02-02T00:00:00.000000000",
          "2024-02-05T00:00:00.000000000",
          "2024-02-05T00:00:00.000000000",
          "2024-02-05T00:00:00.000000000",
          "2024-02-05T00:00:00.000000000",
          "2024-02-23T00:00:00.000000000",
          "2024-02-23T00:00:00.000000000",
          "2024-02-23T00:00:00.000000000",
          "2024-02-23T00:00:00.000000000",
          "2024-02-23T00:00:00.000000000",
          "2024-03-05T00:00:00.000000000",
          "2024-03-27T00:00:00.000000000",
          "2024-03-28T00:00:00.000000000",
          "2024-03-28T00:00:00.000000000",
          "2024-04-03T00:00:00.000000000",
          "2024-04-12T00:00:00.000000000",
          "2024-04-12T00:00:00.000000000",
          "2024-04-29T00:00:00.000000000",
          "2024-04-29T00:00:00.000000000",
          "2024-05-07T00:00:00.000000000",
          "2024-06-04T00:00:00.000000000",
          "2024-07-01T00:00:00.000000000",
          "2024-07-01T00:00:00.000000000",
          "2024-07-03T00:00:00.000000000",
          "2024-07-03T00:00:00.000000000",
          "2024-07-09T00:00:00.000000000",
          "2024-07-09T00:00:00.000000000",
          "2024-07-12T00:00:00.000000000",
          "2024-07-12T00:00:00.000000000",
          "2024-07-12T00:00:00.000000000",
          "2024-07-12T00:00:00.000000000",
          "2024-07-12T00:00:00.000000000",
          "2024-07-12T00:00:00.000000000",
          "2024-07-12T00:00:00.000000000",
          "2024-07-12T00:00:00.000000000",
          "2024-07-12T00:00:00.000000000",
          "2024-07-12T00:00:00.000000000",
          "2024-07-12T00:00:00.000000000",
          "2024-07-12T00:00:00.000000000",
          "2024-07-12T00:00:00.000000000",
          "2024-07-12T00:00:00.000000000",
          "2024-07-12T00:00:00.000000000",
          "2024-07-12T00:00:00.000000000",
          "2024-07-12T00:00:00.000000000",
          "2024-07-12T00:00:00.000000000",
          "2024-07-12T00:00:00.000000000",
          "2024-07-12T00:00:00.000000000",
          "2024-07-12T00:00:00.000000000",
          "2024-07-12T00:00:00.000000000",
          "2024-07-12T00:00:00.000000000",
          "2024-07-12T00:00:00.000000000",
          "2024-07-12T00:00:00.000000000",
          "2024-07-12T00:00:00.000000000",
          "2024-07-12T00:00:00.000000000",
          "2024-07-12T00:00:00.000000000",
          "2024-07-26T00:00:00.000000000",
          "2024-07-26T00:00:00.000000000",
          "2024-07-26T00:00:00.000000000",
          "2024-07-26T00:00:00.000000000",
          "2024-07-29T00:00:00.000000000",
          "2024-07-29T00:00:00.000000000",
          "2024-07-29T00:00:00.000000000",
          "2024-07-29T00:00:00.000000000",
          "2024-08-05T00:00:00.000000000",
          "2024-08-05T00:00:00.000000000",
          "2024-09-04T00:00:00.000000000",
          "2024-09-04T00:00:00.000000000",
          "2024-09-13T00:00:00.000000000",
          "2024-09-13T00:00:00.000000000",
          "2024-09-13T00:00:00.000000000",
          "2024-09-13T00:00:00.000000000",
          "2024-10-02T00:00:00.000000000",
          "2024-10-02T00:00:00.000000000",
          "2024-10-03T00:00:00.000000000",
          "2024-10-03T00:00:00.000000000",
          "2024-10-04T00:00:00.000000000",
          "2024-10-04T00:00:00.000000000",
          "2024-10-04T00:00:00.000000000",
          "2024-10-04T00:00:00.000000000",
          "2024-10-09T00:00:00.000000000",
          "2024-10-09T00:00:00.000000000",
          "2024-10-09T00:00:00.000000000",
          "2024-10-09T00:00:00.000000000",
          "2024-10-21T00:00:00.000000000",
          "2024-10-21T00:00:00.000000000",
          "2024-10-21T00:00:00.000000000",
          "2024-10-21T00:00:00.000000000",
          "2024-10-21T00:00:00.000000000",
          "2024-10-21T00:00:00.000000000",
          "2024-11-04T00:00:00.000000000",
          "2024-11-04T00:00:00.000000000",
          "2024-11-04T00:00:00.000000000",
          "2024-11-04T00:00:00.000000000",
          "2024-11-04T00:00:00.000000000",
          "2024-11-04T00:00:00.000000000",
          "2024-11-27T00:00:00.000000000",
          "2024-11-27T00:00:00.000000000",
          "2024-11-27T00:00:00.000000000",
          "2024-11-27T00:00:00.000000000",
          "2024-11-27T00:00:00.000000000",
          "2024-11-27T00:00:00.000000000",
          "2024-12-03T00:00:00.000000000",
          "2024-12-03T00:00:00.000000000",
          "2024-12-13T00:00:00.000000000",
          "2024-12-13T00:00:00.000000000",
          "2024-12-13T00:00:00.000000000",
          "2024-12-13T00:00:00.000000000",
          "2024-12-30T00:00:00.000000000",
          "2024-12-30T00:00:00.000000000",
          "2024-12-30T00:00:00.000000000",
          "2024-12-30T00:00:00.000000000",
          "2025-01-02T00:00:00.000000000",
          "2025-01-02T00:00:00.000000000",
          "2025-01-03T00:00:00.000000000",
          "2025-01-03T00:00:00.000000000",
          "2025-01-10T00:00:00.000000000",
          "2025-01-10T00:00:00.000000000",
          "2025-01-10T00:00:00.000000000",
          "2025-01-10T00:00:00.000000000",
          "2025-02-03T00:00:00.000000000",
          "2025-02-03T00:00:00.000000000",
          "2025-02-03T00:00:00.000000000",
          "2025-02-03T00:00:00.000000000",
          "2025-02-04T00:00:00.000000000",
          "2025-02-04T00:00:00.000000000",
          "2025-02-06T00:00:00.000000000",
          "2025-02-06T00:00:00.000000000",
          "2025-02-06T00:00:00.000000000",
          "2025-02-06T00:00:00.000000000",
          "2025-02-06T00:00:00.000000000",
          "2025-02-06T00:00:00.000000000",
          "2025-03-04T00:00:00.000000000",
          "2025-03-04T00:00:00.000000000",
          "2025-03-04T00:00:00.000000000",
          "2025-03-04T00:00:00.000000000",
          "2025-03-04T00:00:00.000000000",
          "2025-03-04T00:00:00.000000000",
          "2025-03-05T00:00:00.000000000",
          "2025-03-05T00:00:00.000000000",
          "2025-03-14T00:00:00.000000000",
          "2025-03-14T00:00:00.000000000",
          "2025-03-14T00:00:00.000000000",
          "2025-03-14T00:00:00.000000000",
          "2025-04-02T00:00:00.000000000",
          "2025-04-02T00:00:00.000000000",
          "2025-04-03T00:00:00.000000000",
          "2025-04-03T00:00:00.000000000",
          "2025-04-03T00:00:00.000000000",
          "2025-04-03T00:00:00.000000000",
          "2025-04-08T00:00:00.000000000",
          "2025-04-08T00:00:00.000000000",
          "2025-04-25T00:00:00.000000000",
          "2025-04-25T00:00:00.000000000",
          "2025-04-25T00:00:00.000000000",
          "2025-04-25T00:00:00.000000000",
          "2025-05-01T00:00:00.000000000",
          "2025-05-01T00:00:00.000000000",
          "2025-05-01T00:00:00.000000000",
          "2025-05-01T00:00:00.000000000",
          "2025-05-05T00:00:00.000000000",
          "2025-05-05T00:00:00.000000000"
         ],
         "y": [
          1,
          1,
          1,
          1,
          1,
          1,
          1,
          1,
          1,
          1,
          1,
          1,
          1,
          1,
          1,
          1,
          1,
          1,
          1,
          1,
          1,
          1,
          1,
          1,
          1,
          1,
          1,
          1,
          1,
          1,
          1,
          1,
          1,
          1,
          1,
          1,
          1,
          1,
          1,
          1,
          1,
          1,
          1,
          1,
          1,
          1,
          1,
          1,
          1,
          1,
          1,
          1,
          1,
          1,
          1,
          1,
          1,
          1,
          1,
          1,
          1,
          1,
          1,
          1,
          1,
          1,
          1,
          1,
          1,
          1,
          1,
          1,
          1,
          1,
          1,
          1,
          1,
          1,
          1,
          1,
          1,
          1,
          1,
          1,
          1,
          1,
          1,
          1,
          1,
          1,
          1,
          1,
          1,
          1,
          1,
          1,
          1,
          1,
          1,
          1,
          1,
          1,
          1,
          1,
          1,
          1,
          1,
          1,
          1,
          1,
          1,
          1,
          1,
          1,
          1,
          1,
          1,
          1,
          1,
          1,
          1,
          1,
          1,
          1,
          1,
          1,
          1,
          1,
          1,
          1,
          1,
          1,
          1,
          1,
          1,
          1,
          1,
          1,
          1,
          1,
          1,
          1,
          1,
          1,
          1,
          1,
          1,
          1,
          1,
          1,
          1,
          1,
          1,
          1,
          1,
          1,
          1,
          1,
          1,
          1,
          1,
          1,
          1,
          1,
          1,
          1,
          1,
          1,
          1,
          1,
          1,
          1,
          1,
          1,
          1,
          1,
          1,
          1,
          1,
          1,
          1,
          1,
          1,
          1,
          1,
          1,
          1,
          1,
          1,
          1,
          1,
          1,
          1,
          1,
          1,
          1,
          1,
          1,
          1,
          1,
          1,
          1,
          1,
          1,
          1,
          1,
          1,
          1,
          1,
          1,
          1,
          1,
          1,
          1,
          1,
          1,
          1,
          1,
          1,
          1,
          1,
          1,
          1,
          1,
          1,
          1,
          1,
          1,
          1,
          1,
          1,
          1,
          1,
          1,
          1,
          1,
          1,
          1,
          1,
          1,
          1,
          1,
          1,
          1,
          1,
          1,
          1,
          1,
          1,
          1,
          1,
          1,
          1,
          1,
          1,
          1,
          1,
          1,
          1,
          1,
          1,
          1,
          1,
          1,
          1,
          1,
          1,
          1,
          1,
          1,
          1,
          1,
          1,
          1,
          1,
          1,
          1,
          1,
          1,
          1,
          1,
          1,
          1,
          1,
          1,
          1,
          1,
          1,
          1,
          1,
          1,
          1,
          1,
          1,
          1,
          1,
          1,
          1,
          1,
          1,
          1,
          1,
          1,
          1,
          1,
          1,
          1,
          1
         ]
        }
       ],
       "layout": {
        "annotations": [
         {
          "font": {
           "size": 10
          },
          "showarrow": false,
          "text": "deposit",
          "textangle": 90,
          "x": "2022-02-17T00:00:00",
          "y": 1.02,
          "yanchor": "bottom"
         },
         {
          "font": {
           "size": 10
          },
          "showarrow": false,
          "text": "deposit",
          "textangle": 90,
          "x": "2022-02-18T00:00:00",
          "y": 1.02,
          "yanchor": "bottom"
         },
         {
          "font": {
           "size": 10
          },
          "showarrow": false,
          "text": "sell",
          "textangle": 90,
          "x": "2022-02-21T00:00:00",
          "y": 1.02,
          "yanchor": "bottom"
         },
         {
          "font": {
           "size": 10
          },
          "showarrow": false,
          "text": "buy",
          "textangle": 90,
          "x": "2022-02-25T00:00:00",
          "y": 1.02,
          "yanchor": "bottom"
         },
         {
          "font": {
           "size": 10
          },
          "showarrow": false,
          "text": "buy",
          "textangle": 90,
          "x": "2022-02-25T00:00:00",
          "y": 1.02,
          "yanchor": "bottom"
         },
         {
          "font": {
           "size": 10
          },
          "showarrow": false,
          "text": "fee",
          "textangle": 90,
          "x": "2022-02-25T00:00:00",
          "y": 1.02,
          "yanchor": "bottom"
         },
         {
          "font": {
           "size": 10
          },
          "showarrow": false,
          "text": "fee",
          "textangle": 90,
          "x": "2022-02-25T00:00:00",
          "y": 1.02,
          "yanchor": "bottom"
         },
         {
          "font": {
           "size": 10
          },
          "showarrow": false,
          "text": "buy",
          "textangle": 90,
          "x": "2022-02-25T00:00:00",
          "y": 1.02,
          "yanchor": "bottom"
         },
         {
          "font": {
           "size": 10
          },
          "showarrow": false,
          "text": "fee",
          "textangle": 90,
          "x": "2022-02-25T00:00:00",
          "y": 1.02,
          "yanchor": "bottom"
         },
         {
          "font": {
           "size": 10
          },
          "showarrow": false,
          "text": "buy",
          "textangle": 90,
          "x": "2022-02-25T00:00:00",
          "y": 1.02,
          "yanchor": "bottom"
         },
         {
          "font": {
           "size": 10
          },
          "showarrow": false,
          "text": "fee",
          "textangle": 90,
          "x": "2022-02-25T00:00:00",
          "y": 1.02,
          "yanchor": "bottom"
         },
         {
          "font": {
           "size": 10
          },
          "showarrow": false,
          "text": "fee",
          "textangle": 90,
          "x": "2022-02-25T00:00:00",
          "y": 1.02,
          "yanchor": "bottom"
         },
         {
          "font": {
           "size": 10
          },
          "showarrow": false,
          "text": "fee",
          "textangle": 90,
          "x": "2022-02-25T00:00:00",
          "y": 1.02,
          "yanchor": "bottom"
         },
         {
          "font": {
           "size": 10
          },
          "showarrow": false,
          "text": "fee",
          "textangle": 90,
          "x": "2022-02-25T00:00:00",
          "y": 1.02,
          "yanchor": "bottom"
         },
         {
          "font": {
           "size": 10
          },
          "showarrow": false,
          "text": "fee",
          "textangle": 90,
          "x": "2022-02-25T00:00:00",
          "y": 1.02,
          "yanchor": "bottom"
         },
         {
          "font": {
           "size": 10
          },
          "showarrow": false,
          "text": "fee",
          "textangle": 90,
          "x": "2022-02-28T00:00:00",
          "y": 1.02,
          "yanchor": "bottom"
         },
         {
          "font": {
           "size": 10
          },
          "showarrow": false,
          "text": "buy",
          "textangle": 90,
          "x": "2022-02-28T00:00:00",
          "y": 1.02,
          "yanchor": "bottom"
         },
         {
          "font": {
           "size": 10
          },
          "showarrow": false,
          "text": "fee",
          "textangle": 90,
          "x": "2022-03-02T00:00:00",
          "y": 1.02,
          "yanchor": "bottom"
         },
         {
          "font": {
           "size": 10
          },
          "showarrow": false,
          "text": "fee",
          "textangle": 90,
          "x": "2022-03-02T00:00:00",
          "y": 1.02,
          "yanchor": "bottom"
         },
         {
          "font": {
           "size": 10
          },
          "showarrow": false,
          "text": "deposit",
          "textangle": 90,
          "x": "2022-03-02T00:00:00",
          "y": 1.02,
          "yanchor": "bottom"
         },
         {
          "font": {
           "size": 10
          },
          "showarrow": false,
          "text": "fee",
          "textangle": 90,
          "x": "2022-03-02T00:00:00",
          "y": 1.02,
          "yanchor": "bottom"
         },
         {
          "font": {
           "size": 10
          },
          "showarrow": false,
          "text": "fee",
          "textangle": 90,
          "x": "2022-03-02T00:00:00",
          "y": 1.02,
          "yanchor": "bottom"
         },
         {
          "font": {
           "size": 10
          },
          "showarrow": false,
          "text": "dividend",
          "textangle": 90,
          "x": "2022-03-25T00:00:00",
          "y": 1.02,
          "yanchor": "bottom"
         },
         {
          "font": {
           "size": 10
          },
          "showarrow": false,
          "text": "fee",
          "textangle": 90,
          "x": "2022-03-25T00:00:00",
          "y": 1.02,
          "yanchor": "bottom"
         },
         {
          "font": {
           "size": 10
          },
          "showarrow": false,
          "text": "dividend",
          "textangle": 90,
          "x": "2022-03-30T00:00:00",
          "y": 1.02,
          "yanchor": "bottom"
         },
         {
          "font": {
           "size": 10
          },
          "showarrow": false,
          "text": "deposit",
          "textangle": 90,
          "x": "2022-04-04T00:00:00",
          "y": 1.02,
          "yanchor": "bottom"
         },
         {
          "font": {
           "size": 10
          },
          "showarrow": false,
          "text": "fee",
          "textangle": 90,
          "x": "2022-04-12T00:00:00",
          "y": 1.02,
          "yanchor": "bottom"
         },
         {
          "font": {
           "size": 10
          },
          "showarrow": false,
          "text": "fee",
          "textangle": 90,
          "x": "2022-04-12T00:00:00",
          "y": 1.02,
          "yanchor": "bottom"
         },
         {
          "font": {
           "size": 10
          },
          "showarrow": false,
          "text": "sell",
          "textangle": 90,
          "x": "2022-04-12T00:00:00",
          "y": 1.02,
          "yanchor": "bottom"
         },
         {
          "font": {
           "size": 10
          },
          "showarrow": false,
          "text": "fee",
          "textangle": 90,
          "x": "2022-04-21T00:00:00",
          "y": 1.02,
          "yanchor": "bottom"
         },
         {
          "font": {
           "size": 10
          },
          "showarrow": false,
          "text": "fee",
          "textangle": 90,
          "x": "2022-04-21T00:00:00",
          "y": 1.02,
          "yanchor": "bottom"
         },
         {
          "font": {
           "size": 10
          },
          "showarrow": false,
          "text": "fee",
          "textangle": 90,
          "x": "2022-04-22T00:00:00",
          "y": 1.02,
          "yanchor": "bottom"
         },
         {
          "font": {
           "size": 10
          },
          "showarrow": false,
          "text": "fee",
          "textangle": 90,
          "x": "2022-04-22T00:00:00",
          "y": 1.02,
          "yanchor": "bottom"
         },
         {
          "font": {
           "size": 10
          },
          "showarrow": false,
          "text": "sell",
          "textangle": 90,
          "x": "2022-04-22T00:00:00",
          "y": 1.02,
          "yanchor": "bottom"
         },
         {
          "font": {
           "size": 10
          },
          "showarrow": false,
          "text": "deposit",
          "textangle": 90,
          "x": "2022-05-03T00:00:00",
          "y": 1.02,
          "yanchor": "bottom"
         },
         {
          "font": {
           "size": 10
          },
          "showarrow": false,
          "text": "sell",
          "textangle": 90,
          "x": "2022-05-27T00:00:00",
          "y": 1.02,
          "yanchor": "bottom"
         },
         {
          "font": {
           "size": 10
          },
          "showarrow": false,
          "text": "fee",
          "textangle": 90,
          "x": "2022-05-27T00:00:00",
          "y": 1.02,
          "yanchor": "bottom"
         },
         {
          "font": {
           "size": 10
          },
          "showarrow": false,
          "text": "fee",
          "textangle": 90,
          "x": "2022-05-27T00:00:00",
          "y": 1.02,
          "yanchor": "bottom"
         },
         {
          "font": {
           "size": 10
          },
          "showarrow": false,
          "text": "fee",
          "textangle": 90,
          "x": "2022-05-30T00:00:00",
          "y": 1.02,
          "yanchor": "bottom"
         },
         {
          "font": {
           "size": 10
          },
          "showarrow": false,
          "text": "fee",
          "textangle": 90,
          "x": "2022-05-30T00:00:00",
          "y": 1.02,
          "yanchor": "bottom"
         },
         {
          "font": {
           "size": 10
          },
          "showarrow": false,
          "text": "buy",
          "textangle": 90,
          "x": "2022-05-30T00:00:00",
          "y": 1.02,
          "yanchor": "bottom"
         },
         {
          "font": {
           "size": 10
          },
          "showarrow": false,
          "text": "fee",
          "textangle": 90,
          "x": "2022-05-31T00:00:00",
          "y": 1.02,
          "yanchor": "bottom"
         },
         {
          "font": {
           "size": 10
          },
          "showarrow": false,
          "text": "fee",
          "textangle": 90,
          "x": "2022-05-31T00:00:00",
          "y": 1.02,
          "yanchor": "bottom"
         },
         {
          "font": {
           "size": 10
          },
          "showarrow": false,
          "text": "buy",
          "textangle": 90,
          "x": "2022-05-31T00:00:00",
          "y": 1.02,
          "yanchor": "bottom"
         },
         {
          "font": {
           "size": 10
          },
          "showarrow": false,
          "text": "fee",
          "textangle": 90,
          "x": "2022-05-31T00:00:00",
          "y": 1.02,
          "yanchor": "bottom"
         },
         {
          "font": {
           "size": 10
          },
          "showarrow": false,
          "text": "fee",
          "textangle": 90,
          "x": "2022-05-31T00:00:00",
          "y": 1.02,
          "yanchor": "bottom"
         },
         {
          "font": {
           "size": 10
          },
          "showarrow": false,
          "text": "buy",
          "textangle": 90,
          "x": "2022-05-31T00:00:00",
          "y": 1.02,
          "yanchor": "bottom"
         },
         {
          "font": {
           "size": 10
          },
          "showarrow": false,
          "text": "fee",
          "textangle": 90,
          "x": "2022-06-01T00:00:00",
          "y": 1.02,
          "yanchor": "bottom"
         },
         {
          "font": {
           "size": 10
          },
          "showarrow": false,
          "text": "deposit",
          "textangle": 90,
          "x": "2022-06-07T00:00:00",
          "y": 1.02,
          "yanchor": "bottom"
         },
         {
          "font": {
           "size": 10
          },
          "showarrow": false,
          "text": "fee",
          "textangle": 90,
          "x": "2022-06-16T00:00:00",
          "y": 1.02,
          "yanchor": "bottom"
         },
         {
          "font": {
           "size": 10
          },
          "showarrow": false,
          "text": "fee",
          "textangle": 90,
          "x": "2022-06-16T00:00:00",
          "y": 1.02,
          "yanchor": "bottom"
         },
         {
          "font": {
           "size": 10
          },
          "showarrow": false,
          "text": "buy",
          "textangle": 90,
          "x": "2022-06-16T00:00:00",
          "y": 1.02,
          "yanchor": "bottom"
         },
         {
          "font": {
           "size": 10
          },
          "showarrow": false,
          "text": "fee",
          "textangle": 90,
          "x": "2022-06-16T00:00:00",
          "y": 1.02,
          "yanchor": "bottom"
         },
         {
          "font": {
           "size": 10
          },
          "showarrow": false,
          "text": "fee",
          "textangle": 90,
          "x": "2022-06-16T00:00:00",
          "y": 1.02,
          "yanchor": "bottom"
         },
         {
          "font": {
           "size": 10
          },
          "showarrow": false,
          "text": "buy",
          "textangle": 90,
          "x": "2022-06-16T00:00:00",
          "y": 1.02,
          "yanchor": "bottom"
         },
         {
          "font": {
           "size": 10
          },
          "showarrow": false,
          "text": "dividend",
          "textangle": 90,
          "x": "2022-06-29T00:00:00",
          "y": 1.02,
          "yanchor": "bottom"
         },
         {
          "font": {
           "size": 10
          },
          "showarrow": false,
          "text": "dividend",
          "textangle": 90,
          "x": "2022-07-04T00:00:00",
          "y": 1.02,
          "yanchor": "bottom"
         },
         {
          "font": {
           "size": 10
          },
          "showarrow": false,
          "text": "fee",
          "textangle": 90,
          "x": "2022-07-04T00:00:00",
          "y": 1.02,
          "yanchor": "bottom"
         },
         {
          "font": {
           "size": 10
          },
          "showarrow": false,
          "text": "deposit",
          "textangle": 90,
          "x": "2022-07-07T00:00:00",
          "y": 1.02,
          "yanchor": "bottom"
         },
         {
          "font": {
           "size": 10
          },
          "showarrow": false,
          "text": "dividend",
          "textangle": 90,
          "x": "2022-08-01T00:00:00",
          "y": 1.02,
          "yanchor": "bottom"
         },
         {
          "font": {
           "size": 10
          },
          "showarrow": false,
          "text": "fee",
          "textangle": 90,
          "x": "2022-08-01T00:00:00",
          "y": 1.02,
          "yanchor": "bottom"
         },
         {
          "font": {
           "size": 10
          },
          "showarrow": false,
          "text": "deposit",
          "textangle": 90,
          "x": "2022-08-03T00:00:00",
          "y": 1.02,
          "yanchor": "bottom"
         },
         {
          "font": {
           "size": 10
          },
          "showarrow": false,
          "text": "deposit",
          "textangle": 90,
          "x": "2022-09-07T00:00:00",
          "y": 1.02,
          "yanchor": "bottom"
         },
         {
          "font": {
           "size": 10
          },
          "showarrow": false,
          "text": "dividend",
          "textangle": 90,
          "x": "2022-09-29T00:00:00",
          "y": 1.02,
          "yanchor": "bottom"
         },
         {
          "font": {
           "size": 10
          },
          "showarrow": false,
          "text": "dividend",
          "textangle": 90,
          "x": "2022-09-30T00:00:00",
          "y": 1.02,
          "yanchor": "bottom"
         },
         {
          "font": {
           "size": 10
          },
          "showarrow": false,
          "text": "fee",
          "textangle": 90,
          "x": "2022-09-30T00:00:00",
          "y": 1.02,
          "yanchor": "bottom"
         },
         {
          "font": {
           "size": 10
          },
          "showarrow": false,
          "text": "deposit",
          "textangle": 90,
          "x": "2022-10-04T00:00:00",
          "y": 1.02,
          "yanchor": "bottom"
         },
         {
          "font": {
           "size": 10
          },
          "showarrow": false,
          "text": "dividend",
          "textangle": 90,
          "x": "2022-10-31T00:00:00",
          "y": 1.02,
          "yanchor": "bottom"
         },
         {
          "font": {
           "size": 10
          },
          "showarrow": false,
          "text": "fee",
          "textangle": 90,
          "x": "2022-10-31T00:00:00",
          "y": 1.02,
          "yanchor": "bottom"
         },
         {
          "font": {
           "size": 10
          },
          "showarrow": false,
          "text": "deposit",
          "textangle": 90,
          "x": "2022-11-02T00:00:00",
          "y": 1.02,
          "yanchor": "bottom"
         },
         {
          "font": {
           "size": 10
          },
          "showarrow": false,
          "text": "buy",
          "textangle": 90,
          "x": "2022-11-07T00:00:00",
          "y": 1.02,
          "yanchor": "bottom"
         },
         {
          "font": {
           "size": 10
          },
          "showarrow": false,
          "text": "fee",
          "textangle": 90,
          "x": "2022-11-07T00:00:00",
          "y": 1.02,
          "yanchor": "bottom"
         },
         {
          "font": {
           "size": 10
          },
          "showarrow": false,
          "text": "buy",
          "textangle": 90,
          "x": "2022-11-07T00:00:00",
          "y": 1.02,
          "yanchor": "bottom"
         },
         {
          "font": {
           "size": 10
          },
          "showarrow": false,
          "text": "fee",
          "textangle": 90,
          "x": "2022-11-07T00:00:00",
          "y": 1.02,
          "yanchor": "bottom"
         },
         {
          "font": {
           "size": 10
          },
          "showarrow": false,
          "text": "fee",
          "textangle": 90,
          "x": "2022-11-07T00:00:00",
          "y": 1.02,
          "yanchor": "bottom"
         },
         {
          "font": {
           "size": 10
          },
          "showarrow": false,
          "text": "fee",
          "textangle": 90,
          "x": "2022-11-07T00:00:00",
          "y": 1.02,
          "yanchor": "bottom"
         },
         {
          "font": {
           "size": 10
          },
          "showarrow": false,
          "text": "fee",
          "textangle": 90,
          "x": "2022-11-07T00:00:00",
          "y": 1.02,
          "yanchor": "bottom"
         },
         {
          "font": {
           "size": 10
          },
          "showarrow": false,
          "text": "buy",
          "textangle": 90,
          "x": "2022-11-07T00:00:00",
          "y": 1.02,
          "yanchor": "bottom"
         },
         {
          "font": {
           "size": 10
          },
          "showarrow": false,
          "text": "dividend",
          "textangle": 90,
          "x": "2022-12-23T00:00:00",
          "y": 1.02,
          "yanchor": "bottom"
         },
         {
          "font": {
           "size": 10
          },
          "showarrow": false,
          "text": "fee",
          "textangle": 90,
          "x": "2022-12-23T00:00:00",
          "y": 1.02,
          "yanchor": "bottom"
         },
         {
          "font": {
           "size": 10
          },
          "showarrow": false,
          "text": "dividend",
          "textangle": 90,
          "x": "2023-01-02T00:00:00",
          "y": 1.02,
          "yanchor": "bottom"
         },
         {
          "font": {
           "size": 10
          },
          "showarrow": false,
          "text": "fee",
          "textangle": 90,
          "x": "2023-01-03T00:00:00",
          "y": 1.02,
          "yanchor": "bottom"
         },
         {
          "font": {
           "size": 10
          },
          "showarrow": false,
          "text": "fee",
          "textangle": 90,
          "x": "2023-01-03T00:00:00",
          "y": 1.02,
          "yanchor": "bottom"
         },
         {
          "font": {
           "size": 10
          },
          "showarrow": false,
          "text": "fee",
          "textangle": 90,
          "x": "2023-01-03T00:00:00",
          "y": 1.02,
          "yanchor": "bottom"
         },
         {
          "font": {
           "size": 10
          },
          "showarrow": false,
          "text": "fee",
          "textangle": 90,
          "x": "2023-01-03T00:00:00",
          "y": 1.02,
          "yanchor": "bottom"
         },
         {
          "font": {
           "size": 10
          },
          "showarrow": false,
          "text": "deposit",
          "textangle": 90,
          "x": "2023-01-03T00:00:00",
          "y": 1.02,
          "yanchor": "bottom"
         },
         {
          "font": {
           "size": 10
          },
          "showarrow": false,
          "text": "fee",
          "textangle": 90,
          "x": "2023-01-03T00:00:00",
          "y": 1.02,
          "yanchor": "bottom"
         },
         {
          "font": {
           "size": 10
          },
          "showarrow": false,
          "text": "dividend",
          "textangle": 90,
          "x": "2023-01-30T00:00:00",
          "y": 1.02,
          "yanchor": "bottom"
         },
         {
          "font": {
           "size": 10
          },
          "showarrow": false,
          "text": "fee",
          "textangle": 90,
          "x": "2023-01-30T00:00:00",
          "y": 1.02,
          "yanchor": "bottom"
         },
         {
          "font": {
           "size": 10
          },
          "showarrow": false,
          "text": "deposit",
          "textangle": 90,
          "x": "2023-02-02T00:00:00",
          "y": 1.02,
          "yanchor": "bottom"
         },
         {
          "font": {
           "size": 10
          },
          "showarrow": false,
          "text": "deposit",
          "textangle": 90,
          "x": "2023-02-13T00:00:00",
          "y": 1.02,
          "yanchor": "bottom"
         },
         {
          "font": {
           "size": 10
          },
          "showarrow": false,
          "text": "deposit",
          "textangle": 90,
          "x": "2023-03-02T00:00:00",
          "y": 1.02,
          "yanchor": "bottom"
         },
         {
          "font": {
           "size": 10
          },
          "showarrow": false,
          "text": "dividend",
          "textangle": 90,
          "x": "2023-03-29T00:00:00",
          "y": 1.02,
          "yanchor": "bottom"
         },
         {
          "font": {
           "size": 10
          },
          "showarrow": false,
          "text": "fee",
          "textangle": 90,
          "x": "2023-03-30T00:00:00",
          "y": 1.02,
          "yanchor": "bottom"
         },
         {
          "font": {
           "size": 10
          },
          "showarrow": false,
          "text": "dividend",
          "textangle": 90,
          "x": "2023-03-30T00:00:00",
          "y": 1.02,
          "yanchor": "bottom"
         },
         {
          "font": {
           "size": 10
          },
          "showarrow": false,
          "text": "deposit",
          "textangle": 90,
          "x": "2023-04-04T00:00:00",
          "y": 1.02,
          "yanchor": "bottom"
         },
         {
          "font": {
           "size": 10
          },
          "showarrow": false,
          "text": "fee",
          "textangle": 90,
          "x": "2023-04-12T00:00:00",
          "y": 1.02,
          "yanchor": "bottom"
         },
         {
          "font": {
           "size": 10
          },
          "showarrow": false,
          "text": "fee",
          "textangle": 90,
          "x": "2023-04-12T00:00:00",
          "y": 1.02,
          "yanchor": "bottom"
         },
         {
          "font": {
           "size": 10
          },
          "showarrow": false,
          "text": "buy",
          "textangle": 90,
          "x": "2023-04-12T00:00:00",
          "y": 1.02,
          "yanchor": "bottom"
         },
         {
          "font": {
           "size": 10
          },
          "showarrow": false,
          "text": "fee",
          "textangle": 90,
          "x": "2023-04-12T00:00:00",
          "y": 1.02,
          "yanchor": "bottom"
         },
         {
          "font": {
           "size": 10
          },
          "showarrow": false,
          "text": "sell",
          "textangle": 90,
          "x": "2023-04-12T00:00:00",
          "y": 1.02,
          "yanchor": "bottom"
         },
         {
          "font": {
           "size": 10
          },
          "showarrow": false,
          "text": "fee",
          "textangle": 90,
          "x": "2023-04-12T00:00:00",
          "y": 1.02,
          "yanchor": "bottom"
         },
         {
          "font": {
           "size": 10
          },
          "showarrow": false,
          "text": "fee",
          "textangle": 90,
          "x": "2023-04-12T00:00:00",
          "y": 1.02,
          "yanchor": "bottom"
         },
         {
          "font": {
           "size": 10
          },
          "showarrow": false,
          "text": "buy",
          "textangle": 90,
          "x": "2023-04-12T00:00:00",
          "y": 1.02,
          "yanchor": "bottom"
         },
         {
          "font": {
           "size": 10
          },
          "showarrow": false,
          "text": "buy",
          "textangle": 90,
          "x": "2023-04-12T00:00:00",
          "y": 1.02,
          "yanchor": "bottom"
         },
         {
          "font": {
           "size": 10
          },
          "showarrow": false,
          "text": "fee",
          "textangle": 90,
          "x": "2023-04-12T00:00:00",
          "y": 1.02,
          "yanchor": "bottom"
         },
         {
          "font": {
           "size": 10
          },
          "showarrow": false,
          "text": "buy",
          "textangle": 90,
          "x": "2023-04-12T00:00:00",
          "y": 1.02,
          "yanchor": "bottom"
         },
         {
          "font": {
           "size": 10
          },
          "showarrow": false,
          "text": "fee",
          "textangle": 90,
          "x": "2023-04-12T00:00:00",
          "y": 1.02,
          "yanchor": "bottom"
         },
         {
          "font": {
           "size": 10
          },
          "showarrow": false,
          "text": "fee",
          "textangle": 90,
          "x": "2023-04-12T00:00:00",
          "y": 1.02,
          "yanchor": "bottom"
         },
         {
          "font": {
           "size": 10
          },
          "showarrow": false,
          "text": "buy",
          "textangle": 90,
          "x": "2023-04-12T00:00:00",
          "y": 1.02,
          "yanchor": "bottom"
         },
         {
          "font": {
           "size": 10
          },
          "showarrow": false,
          "text": "fee",
          "textangle": 90,
          "x": "2023-04-12T00:00:00",
          "y": 1.02,
          "yanchor": "bottom"
         },
         {
          "font": {
           "size": 10
          },
          "showarrow": false,
          "text": "fee",
          "textangle": 90,
          "x": "2023-04-12T00:00:00",
          "y": 1.02,
          "yanchor": "bottom"
         },
         {
          "font": {
           "size": 10
          },
          "showarrow": false,
          "text": "fee",
          "textangle": 90,
          "x": "2023-04-12T00:00:00",
          "y": 1.02,
          "yanchor": "bottom"
         },
         {
          "font": {
           "size": 10
          },
          "showarrow": false,
          "text": "fee",
          "textangle": 90,
          "x": "2023-05-01T00:00:00",
          "y": 1.02,
          "yanchor": "bottom"
         },
         {
          "font": {
           "size": 10
          },
          "showarrow": false,
          "text": "dividend",
          "textangle": 90,
          "x": "2023-05-01T00:00:00",
          "y": 1.02,
          "yanchor": "bottom"
         },
         {
          "font": {
           "size": 10
          },
          "showarrow": false,
          "text": "deposit",
          "textangle": 90,
          "x": "2023-05-03T00:00:00",
          "y": 1.02,
          "yanchor": "bottom"
         },
         {
          "font": {
           "size": 10
          },
          "showarrow": false,
          "text": "deposit",
          "textangle": 90,
          "x": "2023-06-05T00:00:00",
          "y": 1.02,
          "yanchor": "bottom"
         },
         {
          "font": {
           "size": 10
          },
          "showarrow": false,
          "text": "dividend",
          "textangle": 90,
          "x": "2023-06-28T00:00:00",
          "y": 1.02,
          "yanchor": "bottom"
         },
         {
          "font": {
           "size": 10
          },
          "showarrow": false,
          "text": "dividend",
          "textangle": 90,
          "x": "2023-07-03T00:00:00",
          "y": 1.02,
          "yanchor": "bottom"
         },
         {
          "font": {
           "size": 10
          },
          "showarrow": false,
          "text": "fee",
          "textangle": 90,
          "x": "2023-07-03T00:00:00",
          "y": 1.02,
          "yanchor": "bottom"
         },
         {
          "font": {
           "size": 10
          },
          "showarrow": false,
          "text": "deposit",
          "textangle": 90,
          "x": "2023-07-04T00:00:00",
          "y": 1.02,
          "yanchor": "bottom"
         },
         {
          "font": {
           "size": 10
          },
          "showarrow": false,
          "text": "dividend",
          "textangle": 90,
          "x": "2023-07-31T00:00:00",
          "y": 1.02,
          "yanchor": "bottom"
         },
         {
          "font": {
           "size": 10
          },
          "showarrow": false,
          "text": "fee",
          "textangle": 90,
          "x": "2023-07-31T00:00:00",
          "y": 1.02,
          "yanchor": "bottom"
         },
         {
          "font": {
           "size": 10
          },
          "showarrow": false,
          "text": "deposit",
          "textangle": 90,
          "x": "2023-08-02T00:00:00",
          "y": 1.02,
          "yanchor": "bottom"
         },
         {
          "font": {
           "size": 10
          },
          "showarrow": false,
          "text": "deposit",
          "textangle": 90,
          "x": "2023-09-05T00:00:00",
          "y": 1.02,
          "yanchor": "bottom"
         },
         {
          "font": {
           "size": 10
          },
          "showarrow": false,
          "text": "dividend",
          "textangle": 90,
          "x": "2023-09-27T00:00:00",
          "y": 1.02,
          "yanchor": "bottom"
         },
         {
          "font": {
           "size": 10
          },
          "showarrow": false,
          "text": "dividend",
          "textangle": 90,
          "x": "2023-09-29T00:00:00",
          "y": 1.02,
          "yanchor": "bottom"
         },
         {
          "font": {
           "size": 10
          },
          "showarrow": false,
          "text": "fee",
          "textangle": 90,
          "x": "2023-09-29T00:00:00",
          "y": 1.02,
          "yanchor": "bottom"
         },
         {
          "font": {
           "size": 10
          },
          "showarrow": false,
          "text": "deposit",
          "textangle": 90,
          "x": "2023-10-03T00:00:00",
          "y": 1.02,
          "yanchor": "bottom"
         },
         {
          "font": {
           "size": 10
          },
          "showarrow": false,
          "text": "dividend",
          "textangle": 90,
          "x": "2023-10-30T00:00:00",
          "y": 1.02,
          "yanchor": "bottom"
         },
         {
          "font": {
           "size": 10
          },
          "showarrow": false,
          "text": "fee",
          "textangle": 90,
          "x": "2023-10-30T00:00:00",
          "y": 1.02,
          "yanchor": "bottom"
         },
         {
          "font": {
           "size": 10
          },
          "showarrow": false,
          "text": "deposit",
          "textangle": 90,
          "x": "2023-11-02T00:00:00",
          "y": 1.02,
          "yanchor": "bottom"
         },
         {
          "font": {
           "size": 10
          },
          "showarrow": false,
          "text": "deposit",
          "textangle": 90,
          "x": "2023-12-04T00:00:00",
          "y": 1.02,
          "yanchor": "bottom"
         },
         {
          "font": {
           "size": 10
          },
          "showarrow": false,
          "text": "buy",
          "textangle": 90,
          "x": "2023-12-11T00:00:00",
          "y": 1.02,
          "yanchor": "bottom"
         },
         {
          "font": {
           "size": 10
          },
          "showarrow": false,
          "text": "fee",
          "textangle": 90,
          "x": "2023-12-11T00:00:00",
          "y": 1.02,
          "yanchor": "bottom"
         },
         {
          "font": {
           "size": 10
          },
          "showarrow": false,
          "text": "fee",
          "textangle": 90,
          "x": "2023-12-11T00:00:00",
          "y": 1.02,
          "yanchor": "bottom"
         },
         {
          "font": {
           "size": 10
          },
          "showarrow": false,
          "text": "fee",
          "textangle": 90,
          "x": "2023-12-11T00:00:00",
          "y": 1.02,
          "yanchor": "bottom"
         },
         {
          "font": {
           "size": 10
          },
          "showarrow": false,
          "text": "fee",
          "textangle": 90,
          "x": "2023-12-11T00:00:00",
          "y": 1.02,
          "yanchor": "bottom"
         },
         {
          "font": {
           "size": 10
          },
          "showarrow": false,
          "text": "buy",
          "textangle": 90,
          "x": "2023-12-11T00:00:00",
          "y": 1.02,
          "yanchor": "bottom"
         },
         {
          "font": {
           "size": 10
          },
          "showarrow": false,
          "text": "dividend",
          "textangle": 90,
          "x": "2023-12-20T00:00:00",
          "y": 1.02,
          "yanchor": "bottom"
         },
         {
          "font": {
           "size": 10
          },
          "showarrow": false,
          "text": "fee",
          "textangle": 90,
          "x": "2023-12-20T00:00:00",
          "y": 1.02,
          "yanchor": "bottom"
         },
         {
          "font": {
           "size": 10
          },
          "showarrow": false,
          "text": "dividend",
          "textangle": 90,
          "x": "2023-12-28T00:00:00",
          "y": 1.02,
          "yanchor": "bottom"
         },
         {
          "font": {
           "size": 10
          },
          "showarrow": false,
          "text": "dividend",
          "textangle": 90,
          "x": "2023-12-29T00:00:00",
          "y": 1.02,
          "yanchor": "bottom"
         },
         {
          "font": {
           "size": 10
          },
          "showarrow": false,
          "text": "fee",
          "textangle": 90,
          "x": "2023-12-29T00:00:00",
          "y": 1.02,
          "yanchor": "bottom"
         },
         {
          "font": {
           "size": 10
          },
          "showarrow": false,
          "text": "deposit",
          "textangle": 90,
          "x": "2024-01-03T00:00:00",
          "y": 1.02,
          "yanchor": "bottom"
         },
         {
          "font": {
           "size": 10
          },
          "showarrow": false,
          "text": "dividend",
          "textangle": 90,
          "x": "2024-01-29T00:00:00",
          "y": 1.02,
          "yanchor": "bottom"
         },
         {
          "font": {
           "size": 10
          },
          "showarrow": false,
          "text": "fee",
          "textangle": 90,
          "x": "2024-01-29T00:00:00",
          "y": 1.02,
          "yanchor": "bottom"
         },
         {
          "font": {
           "size": 10
          },
          "showarrow": false,
          "text": "deposit",
          "textangle": 90,
          "x": "2024-02-02T00:00:00",
          "y": 1.02,
          "yanchor": "bottom"
         },
         {
          "font": {
           "size": 10
          },
          "showarrow": false,
          "text": "fee",
          "textangle": 90,
          "x": "2024-02-05T00:00:00",
          "y": 1.02,
          "yanchor": "bottom"
         },
         {
          "font": {
           "size": 10
          },
          "showarrow": false,
          "text": "fee",
          "textangle": 90,
          "x": "2024-02-05T00:00:00",
          "y": 1.02,
          "yanchor": "bottom"
         },
         {
          "font": {
           "size": 10
          },
          "showarrow": false,
          "text": "fee",
          "textangle": 90,
          "x": "2024-02-05T00:00:00",
          "y": 1.02,
          "yanchor": "bottom"
         },
         {
          "font": {
           "size": 10
          },
          "showarrow": false,
          "text": "fee",
          "textangle": 90,
          "x": "2024-02-05T00:00:00",
          "y": 1.02,
          "yanchor": "bottom"
         },
         {
          "font": {
           "size": 10
          },
          "showarrow": false,
          "text": "sell",
          "textangle": 90,
          "x": "2024-02-23T00:00:00",
          "y": 1.02,
          "yanchor": "bottom"
         },
         {
          "font": {
           "size": 10
          },
          "showarrow": false,
          "text": "sell",
          "textangle": 90,
          "x": "2024-02-23T00:00:00",
          "y": 1.02,
          "yanchor": "bottom"
         },
         {
          "font": {
           "size": 10
          },
          "showarrow": false,
          "text": "fee",
          "textangle": 90,
          "x": "2024-02-23T00:00:00",
          "y": 1.02,
          "yanchor": "bottom"
         },
         {
          "font": {
           "size": 10
          },
          "showarrow": false,
          "text": "fee",
          "textangle": 90,
          "x": "2024-02-23T00:00:00",
          "y": 1.02,
          "yanchor": "bottom"
         },
         {
          "font": {
           "size": 10
          },
          "showarrow": false,
          "text": "fee",
          "textangle": 90,
          "x": "2024-02-23T00:00:00",
          "y": 1.02,
          "yanchor": "bottom"
         },
         {
          "font": {
           "size": 10
          },
          "showarrow": false,
          "text": "deposit",
          "textangle": 90,
          "x": "2024-03-05T00:00:00",
          "y": 1.02,
          "yanchor": "bottom"
         },
         {
          "font": {
           "size": 10
          },
          "showarrow": false,
          "text": "dividend",
          "textangle": 90,
          "x": "2024-03-27T00:00:00",
          "y": 1.02,
          "yanchor": "bottom"
         },
         {
          "font": {
           "size": 10
          },
          "showarrow": false,
          "text": "fee",
          "textangle": 90,
          "x": "2024-03-28T00:00:00",
          "y": 1.02,
          "yanchor": "bottom"
         },
         {
          "font": {
           "size": 10
          },
          "showarrow": false,
          "text": "dividend",
          "textangle": 90,
          "x": "2024-03-28T00:00:00",
          "y": 1.02,
          "yanchor": "bottom"
         },
         {
          "font": {
           "size": 10
          },
          "showarrow": false,
          "text": "deposit",
          "textangle": 90,
          "x": "2024-04-03T00:00:00",
          "y": 1.02,
          "yanchor": "bottom"
         },
         {
          "font": {
           "size": 10
          },
          "showarrow": false,
          "text": "dividend",
          "textangle": 90,
          "x": "2024-04-12T00:00:00",
          "y": 1.02,
          "yanchor": "bottom"
         },
         {
          "font": {
           "size": 10
          },
          "showarrow": false,
          "text": "fee",
          "textangle": 90,
          "x": "2024-04-12T00:00:00",
          "y": 1.02,
          "yanchor": "bottom"
         },
         {
          "font": {
           "size": 10
          },
          "showarrow": false,
          "text": "fee",
          "textangle": 90,
          "x": "2024-04-29T00:00:00",
          "y": 1.02,
          "yanchor": "bottom"
         },
         {
          "font": {
           "size": 10
          },
          "showarrow": false,
          "text": "dividend",
          "textangle": 90,
          "x": "2024-04-29T00:00:00",
          "y": 1.02,
          "yanchor": "bottom"
         },
         {
          "font": {
           "size": 10
          },
          "showarrow": false,
          "text": "deposit",
          "textangle": 90,
          "x": "2024-05-07T00:00:00",
          "y": 1.02,
          "yanchor": "bottom"
         },
         {
          "font": {
           "size": 10
          },
          "showarrow": false,
          "text": "deposit",
          "textangle": 90,
          "x": "2024-06-04T00:00:00",
          "y": 1.02,
          "yanchor": "bottom"
         },
         {
          "font": {
           "size": 10
          },
          "showarrow": false,
          "text": "fee",
          "textangle": 90,
          "x": "2024-07-01T00:00:00",
          "y": 1.02,
          "yanchor": "bottom"
         },
         {
          "font": {
           "size": 10
          },
          "showarrow": false,
          "text": "dividend",
          "textangle": 90,
          "x": "2024-07-01T00:00:00",
          "y": 1.02,
          "yanchor": "bottom"
         },
         {
          "font": {
           "size": 10
          },
          "showarrow": false,
          "text": "dividend",
          "textangle": 90,
          "x": "2024-07-03T00:00:00",
          "y": 1.02,
          "yanchor": "bottom"
         },
         {
          "font": {
           "size": 10
          },
          "showarrow": false,
          "text": "deposit",
          "textangle": 90,
          "x": "2024-07-03T00:00:00",
          "y": 1.02,
          "yanchor": "bottom"
         },
         {
          "font": {
           "size": 10
          },
          "showarrow": false,
          "text": "deposit",
          "textangle": 90,
          "x": "2024-07-09T00:00:00",
          "y": 1.02,
          "yanchor": "bottom"
         },
         {
          "font": {
           "size": 10
          },
          "showarrow": false,
          "text": "deposit",
          "textangle": 90,
          "x": "2024-07-09T00:00:00",
          "y": 1.02,
          "yanchor": "bottom"
         },
         {
          "font": {
           "size": 10
          },
          "showarrow": false,
          "text": "fee",
          "textangle": 90,
          "x": "2024-07-12T00:00:00",
          "y": 1.02,
          "yanchor": "bottom"
         },
         {
          "font": {
           "size": 10
          },
          "showarrow": false,
          "text": "fee",
          "textangle": 90,
          "x": "2024-07-12T00:00:00",
          "y": 1.02,
          "yanchor": "bottom"
         },
         {
          "font": {
           "size": 10
          },
          "showarrow": false,
          "text": "fee",
          "textangle": 90,
          "x": "2024-07-12T00:00:00",
          "y": 1.02,
          "yanchor": "bottom"
         },
         {
          "font": {
           "size": 10
          },
          "showarrow": false,
          "text": "buy",
          "textangle": 90,
          "x": "2024-07-12T00:00:00",
          "y": 1.02,
          "yanchor": "bottom"
         },
         {
          "font": {
           "size": 10
          },
          "showarrow": false,
          "text": "buy",
          "textangle": 90,
          "x": "2024-07-12T00:00:00",
          "y": 1.02,
          "yanchor": "bottom"
         },
         {
          "font": {
           "size": 10
          },
          "showarrow": false,
          "text": "buy",
          "textangle": 90,
          "x": "2024-07-12T00:00:00",
          "y": 1.02,
          "yanchor": "bottom"
         },
         {
          "font": {
           "size": 10
          },
          "showarrow": false,
          "text": "fee",
          "textangle": 90,
          "x": "2024-07-12T00:00:00",
          "y": 1.02,
          "yanchor": "bottom"
         },
         {
          "font": {
           "size": 10
          },
          "showarrow": false,
          "text": "fee",
          "textangle": 90,
          "x": "2024-07-12T00:00:00",
          "y": 1.02,
          "yanchor": "bottom"
         },
         {
          "font": {
           "size": 10
          },
          "showarrow": false,
          "text": "sell",
          "textangle": 90,
          "x": "2024-07-12T00:00:00",
          "y": 1.02,
          "yanchor": "bottom"
         },
         {
          "font": {
           "size": 10
          },
          "showarrow": false,
          "text": "sell",
          "textangle": 90,
          "x": "2024-07-12T00:00:00",
          "y": 1.02,
          "yanchor": "bottom"
         },
         {
          "font": {
           "size": 10
          },
          "showarrow": false,
          "text": "fee",
          "textangle": 90,
          "x": "2024-07-12T00:00:00",
          "y": 1.02,
          "yanchor": "bottom"
         },
         {
          "font": {
           "size": 10
          },
          "showarrow": false,
          "text": "fee",
          "textangle": 90,
          "x": "2024-07-12T00:00:00",
          "y": 1.02,
          "yanchor": "bottom"
         },
         {
          "font": {
           "size": 10
          },
          "showarrow": false,
          "text": "fee",
          "textangle": 90,
          "x": "2024-07-12T00:00:00",
          "y": 1.02,
          "yanchor": "bottom"
         },
         {
          "font": {
           "size": 10
          },
          "showarrow": false,
          "text": "fee",
          "textangle": 90,
          "x": "2024-07-12T00:00:00",
          "y": 1.02,
          "yanchor": "bottom"
         },
         {
          "font": {
           "size": 10
          },
          "showarrow": false,
          "text": "fee",
          "textangle": 90,
          "x": "2024-07-12T00:00:00",
          "y": 1.02,
          "yanchor": "bottom"
         },
         {
          "font": {
           "size": 10
          },
          "showarrow": false,
          "text": "fee",
          "textangle": 90,
          "x": "2024-07-12T00:00:00",
          "y": 1.02,
          "yanchor": "bottom"
         },
         {
          "font": {
           "size": 10
          },
          "showarrow": false,
          "text": "fee",
          "textangle": 90,
          "x": "2024-07-12T00:00:00",
          "y": 1.02,
          "yanchor": "bottom"
         },
         {
          "font": {
           "size": 10
          },
          "showarrow": false,
          "text": "buy",
          "textangle": 90,
          "x": "2024-07-12T00:00:00",
          "y": 1.02,
          "yanchor": "bottom"
         },
         {
          "font": {
           "size": 10
          },
          "showarrow": false,
          "text": "fee",
          "textangle": 90,
          "x": "2024-07-12T00:00:00",
          "y": 1.02,
          "yanchor": "bottom"
         },
         {
          "font": {
           "size": 10
          },
          "showarrow": false,
          "text": "fee",
          "textangle": 90,
          "x": "2024-07-12T00:00:00",
          "y": 1.02,
          "yanchor": "bottom"
         },
         {
          "font": {
           "size": 10
          },
          "showarrow": false,
          "text": "fee",
          "textangle": 90,
          "x": "2024-07-12T00:00:00",
          "y": 1.02,
          "yanchor": "bottom"
         },
         {
          "font": {
           "size": 10
          },
          "showarrow": false,
          "text": "fee",
          "textangle": 90,
          "x": "2024-07-12T00:00:00",
          "y": 1.02,
          "yanchor": "bottom"
         },
         {
          "font": {
           "size": 10
          },
          "showarrow": false,
          "text": "fee",
          "textangle": 90,
          "x": "2024-07-12T00:00:00",
          "y": 1.02,
          "yanchor": "bottom"
         },
         {
          "font": {
           "size": 10
          },
          "showarrow": false,
          "text": "fee",
          "textangle": 90,
          "x": "2024-07-12T00:00:00",
          "y": 1.02,
          "yanchor": "bottom"
         },
         {
          "font": {
           "size": 10
          },
          "showarrow": false,
          "text": "buy",
          "textangle": 90,
          "x": "2024-07-12T00:00:00",
          "y": 1.02,
          "yanchor": "bottom"
         },
         {
          "font": {
           "size": 10
          },
          "showarrow": false,
          "text": "fee",
          "textangle": 90,
          "x": "2024-07-12T00:00:00",
          "y": 1.02,
          "yanchor": "bottom"
         },
         {
          "font": {
           "size": 10
          },
          "showarrow": false,
          "text": "buy",
          "textangle": 90,
          "x": "2024-07-12T00:00:00",
          "y": 1.02,
          "yanchor": "bottom"
         },
         {
          "font": {
           "size": 10
          },
          "showarrow": false,
          "text": "buy",
          "textangle": 90,
          "x": "2024-07-12T00:00:00",
          "y": 1.02,
          "yanchor": "bottom"
         },
         {
          "font": {
           "size": 10
          },
          "showarrow": false,
          "text": "fee",
          "textangle": 90,
          "x": "2024-07-26T00:00:00",
          "y": 1.02,
          "yanchor": "bottom"
         },
         {
          "font": {
           "size": 10
          },
          "showarrow": false,
          "text": "dividend",
          "textangle": 90,
          "x": "2024-07-26T00:00:00",
          "y": 1.02,
          "yanchor": "bottom"
         },
         {
          "font": {
           "size": 10
          },
          "showarrow": false,
          "text": "fee",
          "textangle": 90,
          "x": "2024-07-26T00:00:00",
          "y": 1.02,
          "yanchor": "bottom"
         },
         {
          "font": {
           "size": 10
          },
          "showarrow": false,
          "text": "dividend",
          "textangle": 90,
          "x": "2024-07-26T00:00:00",
          "y": 1.02,
          "yanchor": "bottom"
         },
         {
          "font": {
           "size": 10
          },
          "showarrow": false,
          "text": "fee",
          "textangle": 90,
          "x": "2024-07-29T00:00:00",
          "y": 1.02,
          "yanchor": "bottom"
         },
         {
          "font": {
           "size": 10
          },
          "showarrow": false,
          "text": "dividend",
          "textangle": 90,
          "x": "2024-07-29T00:00:00",
          "y": 1.02,
          "yanchor": "bottom"
         },
         {
          "font": {
           "size": 10
          },
          "showarrow": false,
          "text": "dividend",
          "textangle": 90,
          "x": "2024-07-29T00:00:00",
          "y": 1.02,
          "yanchor": "bottom"
         },
         {
          "font": {
           "size": 10
          },
          "showarrow": false,
          "text": "fee",
          "textangle": 90,
          "x": "2024-07-29T00:00:00",
          "y": 1.02,
          "yanchor": "bottom"
         },
         {
          "font": {
           "size": 10
          },
          "showarrow": false,
          "text": "deposit",
          "textangle": 90,
          "x": "2024-08-05T00:00:00",
          "y": 1.02,
          "yanchor": "bottom"
         },
         {
          "font": {
           "size": 10
          },
          "showarrow": false,
          "text": "deposit",
          "textangle": 90,
          "x": "2024-08-05T00:00:00",
          "y": 1.02,
          "yanchor": "bottom"
         },
         {
          "font": {
           "size": 10
          },
          "showarrow": false,
          "text": "deposit",
          "textangle": 90,
          "x": "2024-09-04T00:00:00",
          "y": 1.02,
          "yanchor": "bottom"
         },
         {
          "font": {
           "size": 10
          },
          "showarrow": false,
          "text": "deposit",
          "textangle": 90,
          "x": "2024-09-04T00:00:00",
          "y": 1.02,
          "yanchor": "bottom"
         },
         {
          "font": {
           "size": 10
          },
          "showarrow": false,
          "text": "dividend",
          "textangle": 90,
          "x": "2024-09-13T00:00:00",
          "y": 1.02,
          "yanchor": "bottom"
         },
         {
          "font": {
           "size": 10
          },
          "showarrow": false,
          "text": "fee",
          "textangle": 90,
          "x": "2024-09-13T00:00:00",
          "y": 1.02,
          "yanchor": "bottom"
         },
         {
          "font": {
           "size": 10
          },
          "showarrow": false,
          "text": "dividend",
          "textangle": 90,
          "x": "2024-09-13T00:00:00",
          "y": 1.02,
          "yanchor": "bottom"
         },
         {
          "font": {
           "size": 10
          },
          "showarrow": false,
          "text": "fee",
          "textangle": 90,
          "x": "2024-09-13T00:00:00",
          "y": 1.02,
          "yanchor": "bottom"
         },
         {
          "font": {
           "size": 10
          },
          "showarrow": false,
          "text": "dividend",
          "textangle": 90,
          "x": "2024-10-02T00:00:00",
          "y": 1.02,
          "yanchor": "bottom"
         },
         {
          "font": {
           "size": 10
          },
          "showarrow": false,
          "text": "dividend",
          "textangle": 90,
          "x": "2024-10-02T00:00:00",
          "y": 1.02,
          "yanchor": "bottom"
         },
         {
          "font": {
           "size": 10
          },
          "showarrow": false,
          "text": "deposit",
          "textangle": 90,
          "x": "2024-10-03T00:00:00",
          "y": 1.02,
          "yanchor": "bottom"
         },
         {
          "font": {
           "size": 10
          },
          "showarrow": false,
          "text": "deposit",
          "textangle": 90,
          "x": "2024-10-03T00:00:00",
          "y": 1.02,
          "yanchor": "bottom"
         },
         {
          "font": {
           "size": 10
          },
          "showarrow": false,
          "text": "fee",
          "textangle": 90,
          "x": "2024-10-04T00:00:00",
          "y": 1.02,
          "yanchor": "bottom"
         },
         {
          "font": {
           "size": 10
          },
          "showarrow": false,
          "text": "dividend",
          "textangle": 90,
          "x": "2024-10-04T00:00:00",
          "y": 1.02,
          "yanchor": "bottom"
         },
         {
          "font": {
           "size": 10
          },
          "showarrow": false,
          "text": "fee",
          "textangle": 90,
          "x": "2024-10-04T00:00:00",
          "y": 1.02,
          "yanchor": "bottom"
         },
         {
          "font": {
           "size": 10
          },
          "showarrow": false,
          "text": "dividend",
          "textangle": 90,
          "x": "2024-10-04T00:00:00",
          "y": 1.02,
          "yanchor": "bottom"
         },
         {
          "font": {
           "size": 10
          },
          "showarrow": false,
          "text": "fee",
          "textangle": 90,
          "x": "2024-10-09T00:00:00",
          "y": 1.02,
          "yanchor": "bottom"
         },
         {
          "font": {
           "size": 10
          },
          "showarrow": false,
          "text": "dividend",
          "textangle": 90,
          "x": "2024-10-09T00:00:00",
          "y": 1.02,
          "yanchor": "bottom"
         },
         {
          "font": {
           "size": 10
          },
          "showarrow": false,
          "text": "fee",
          "textangle": 90,
          "x": "2024-10-09T00:00:00",
          "y": 1.02,
          "yanchor": "bottom"
         },
         {
          "font": {
           "size": 10
          },
          "showarrow": false,
          "text": "dividend",
          "textangle": 90,
          "x": "2024-10-09T00:00:00",
          "y": 1.02,
          "yanchor": "bottom"
         },
         {
          "font": {
           "size": 10
          },
          "showarrow": false,
          "text": "fee",
          "textangle": 90,
          "x": "2024-10-21T00:00:00",
          "y": 1.02,
          "yanchor": "bottom"
         },
         {
          "font": {
           "size": 10
          },
          "showarrow": false,
          "text": "sell",
          "textangle": 90,
          "x": "2024-10-21T00:00:00",
          "y": 1.02,
          "yanchor": "bottom"
         },
         {
          "font": {
           "size": 10
          },
          "showarrow": false,
          "text": "fee",
          "textangle": 90,
          "x": "2024-10-21T00:00:00",
          "y": 1.02,
          "yanchor": "bottom"
         },
         {
          "font": {
           "size": 10
          },
          "showarrow": false,
          "text": "fee",
          "textangle": 90,
          "x": "2024-10-21T00:00:00",
          "y": 1.02,
          "yanchor": "bottom"
         },
         {
          "font": {
           "size": 10
          },
          "showarrow": false,
          "text": "sell",
          "textangle": 90,
          "x": "2024-10-21T00:00:00",
          "y": 1.02,
          "yanchor": "bottom"
         },
         {
          "font": {
           "size": 10
          },
          "showarrow": false,
          "text": "fee",
          "textangle": 90,
          "x": "2024-10-21T00:00:00",
          "y": 1.02,
          "yanchor": "bottom"
         },
         {
          "font": {
           "size": 10
          },
          "showarrow": false,
          "text": "deposit",
          "textangle": 90,
          "x": "2024-11-04T00:00:00",
          "y": 1.02,
          "yanchor": "bottom"
         },
         {
          "font": {
           "size": 10
          },
          "showarrow": false,
          "text": "fee",
          "textangle": 90,
          "x": "2024-11-04T00:00:00",
          "y": 1.02,
          "yanchor": "bottom"
         },
         {
          "font": {
           "size": 10
          },
          "showarrow": false,
          "text": "dividend",
          "textangle": 90,
          "x": "2024-11-04T00:00:00",
          "y": 1.02,
          "yanchor": "bottom"
         },
         {
          "font": {
           "size": 10
          },
          "showarrow": false,
          "text": "deposit",
          "textangle": 90,
          "x": "2024-11-04T00:00:00",
          "y": 1.02,
          "yanchor": "bottom"
         },
         {
          "font": {
           "size": 10
          },
          "showarrow": false,
          "text": "fee",
          "textangle": 90,
          "x": "2024-11-04T00:00:00",
          "y": 1.02,
          "yanchor": "bottom"
         },
         {
          "font": {
           "size": 10
          },
          "showarrow": false,
          "text": "dividend",
          "textangle": 90,
          "x": "2024-11-04T00:00:00",
          "y": 1.02,
          "yanchor": "bottom"
         },
         {
          "font": {
           "size": 10
          },
          "showarrow": false,
          "text": "sell",
          "textangle": 90,
          "x": "2024-11-27T00:00:00",
          "y": 1.02,
          "yanchor": "bottom"
         },
         {
          "font": {
           "size": 10
          },
          "showarrow": false,
          "text": "fee",
          "textangle": 90,
          "x": "2024-11-27T00:00:00",
          "y": 1.02,
          "yanchor": "bottom"
         },
         {
          "font": {
           "size": 10
          },
          "showarrow": false,
          "text": "fee",
          "textangle": 90,
          "x": "2024-11-27T00:00:00",
          "y": 1.02,
          "yanchor": "bottom"
         },
         {
          "font": {
           "size": 10
          },
          "showarrow": false,
          "text": "fee",
          "textangle": 90,
          "x": "2024-11-27T00:00:00",
          "y": 1.02,
          "yanchor": "bottom"
         },
         {
          "font": {
           "size": 10
          },
          "showarrow": false,
          "text": "fee",
          "textangle": 90,
          "x": "2024-11-27T00:00:00",
          "y": 1.02,
          "yanchor": "bottom"
         },
         {
          "font": {
           "size": 10
          },
          "showarrow": false,
          "text": "sell",
          "textangle": 90,
          "x": "2024-11-27T00:00:00",
          "y": 1.02,
          "yanchor": "bottom"
         },
         {
          "font": {
           "size": 10
          },
          "showarrow": false,
          "text": "deposit",
          "textangle": 90,
          "x": "2024-12-03T00:00:00",
          "y": 1.02,
          "yanchor": "bottom"
         },
         {
          "font": {
           "size": 10
          },
          "showarrow": false,
          "text": "deposit",
          "textangle": 90,
          "x": "2024-12-03T00:00:00",
          "y": 1.02,
          "yanchor": "bottom"
         },
         {
          "font": {
           "size": 10
          },
          "showarrow": false,
          "text": "dividend",
          "textangle": 90,
          "x": "2024-12-13T00:00:00",
          "y": 1.02,
          "yanchor": "bottom"
         },
         {
          "font": {
           "size": 10
          },
          "showarrow": false,
          "text": "fee",
          "textangle": 90,
          "x": "2024-12-13T00:00:00",
          "y": 1.02,
          "yanchor": "bottom"
         },
         {
          "font": {
           "size": 10
          },
          "showarrow": false,
          "text": "fee",
          "textangle": 90,
          "x": "2024-12-13T00:00:00",
          "y": 1.02,
          "yanchor": "bottom"
         },
         {
          "font": {
           "size": 10
          },
          "showarrow": false,
          "text": "dividend",
          "textangle": 90,
          "x": "2024-12-13T00:00:00",
          "y": 1.02,
          "yanchor": "bottom"
         },
         {
          "font": {
           "size": 10
          },
          "showarrow": false,
          "text": "fee",
          "textangle": 90,
          "x": "2024-12-30T00:00:00",
          "y": 1.02,
          "yanchor": "bottom"
         },
         {
          "font": {
           "size": 10
          },
          "showarrow": false,
          "text": "dividend",
          "textangle": 90,
          "x": "2024-12-30T00:00:00",
          "y": 1.02,
          "yanchor": "bottom"
         },
         {
          "font": {
           "size": 10
          },
          "showarrow": false,
          "text": "fee",
          "textangle": 90,
          "x": "2024-12-30T00:00:00",
          "y": 1.02,
          "yanchor": "bottom"
         },
         {
          "font": {
           "size": 10
          },
          "showarrow": false,
          "text": "dividend",
          "textangle": 90,
          "x": "2024-12-30T00:00:00",
          "y": 1.02,
          "yanchor": "bottom"
         },
         {
          "font": {
           "size": 10
          },
          "showarrow": false,
          "text": "dividend",
          "textangle": 90,
          "x": "2025-01-02T00:00:00",
          "y": 1.02,
          "yanchor": "bottom"
         },
         {
          "font": {
           "size": 10
          },
          "showarrow": false,
          "text": "dividend",
          "textangle": 90,
          "x": "2025-01-02T00:00:00",
          "y": 1.02,
          "yanchor": "bottom"
         },
         {
          "font": {
           "size": 10
          },
          "showarrow": false,
          "text": "deposit",
          "textangle": 90,
          "x": "2025-01-03T00:00:00",
          "y": 1.02,
          "yanchor": "bottom"
         },
         {
          "font": {
           "size": 10
          },
          "showarrow": false,
          "text": "deposit",
          "textangle": 90,
          "x": "2025-01-03T00:00:00",
          "y": 1.02,
          "yanchor": "bottom"
         },
         {
          "font": {
           "size": 10
          },
          "showarrow": false,
          "text": "fee",
          "textangle": 90,
          "x": "2025-01-10T00:00:00",
          "y": 1.02,
          "yanchor": "bottom"
         },
         {
          "font": {
           "size": 10
          },
          "showarrow": false,
          "text": "dividend",
          "textangle": 90,
          "x": "2025-01-10T00:00:00",
          "y": 1.02,
          "yanchor": "bottom"
         },
         {
          "font": {
           "size": 10
          },
          "showarrow": false,
          "text": "fee",
          "textangle": 90,
          "x": "2025-01-10T00:00:00",
          "y": 1.02,
          "yanchor": "bottom"
         },
         {
          "font": {
           "size": 10
          },
          "showarrow": false,
          "text": "dividend",
          "textangle": 90,
          "x": "2025-01-10T00:00:00",
          "y": 1.02,
          "yanchor": "bottom"
         },
         {
          "font": {
           "size": 10
          },
          "showarrow": false,
          "text": "fee",
          "textangle": 90,
          "x": "2025-02-03T00:00:00",
          "y": 1.02,
          "yanchor": "bottom"
         },
         {
          "font": {
           "size": 10
          },
          "showarrow": false,
          "text": "dividend",
          "textangle": 90,
          "x": "2025-02-03T00:00:00",
          "y": 1.02,
          "yanchor": "bottom"
         },
         {
          "font": {
           "size": 10
          },
          "showarrow": false,
          "text": "fee",
          "textangle": 90,
          "x": "2025-02-03T00:00:00",
          "y": 1.02,
          "yanchor": "bottom"
         },
         {
          "font": {
           "size": 10
          },
          "showarrow": false,
          "text": "dividend",
          "textangle": 90,
          "x": "2025-02-03T00:00:00",
          "y": 1.02,
          "yanchor": "bottom"
         },
         {
          "font": {
           "size": 10
          },
          "showarrow": false,
          "text": "deposit",
          "textangle": 90,
          "x": "2025-02-04T00:00:00",
          "y": 1.02,
          "yanchor": "bottom"
         },
         {
          "font": {
           "size": 10
          },
          "showarrow": false,
          "text": "deposit",
          "textangle": 90,
          "x": "2025-02-04T00:00:00",
          "y": 1.02,
          "yanchor": "bottom"
         },
         {
          "font": {
           "size": 10
          },
          "showarrow": false,
          "text": "fee",
          "textangle": 90,
          "x": "2025-02-06T00:00:00",
          "y": 1.02,
          "yanchor": "bottom"
         },
         {
          "font": {
           "size": 10
          },
          "showarrow": false,
          "text": "fee",
          "textangle": 90,
          "x": "2025-02-06T00:00:00",
          "y": 1.02,
          "yanchor": "bottom"
         },
         {
          "font": {
           "size": 10
          },
          "showarrow": false,
          "text": "fee",
          "textangle": 90,
          "x": "2025-02-06T00:00:00",
          "y": 1.02,
          "yanchor": "bottom"
         },
         {
          "font": {
           "size": 10
          },
          "showarrow": false,
          "text": "fee",
          "textangle": 90,
          "x": "2025-02-06T00:00:00",
          "y": 1.02,
          "yanchor": "bottom"
         },
         {
          "font": {
           "size": 10
          },
          "showarrow": false,
          "text": "fee",
          "textangle": 90,
          "x": "2025-02-06T00:00:00",
          "y": 1.02,
          "yanchor": "bottom"
         },
         {
          "font": {
           "size": 10
          },
          "showarrow": false,
          "text": "fee",
          "textangle": 90,
          "x": "2025-02-06T00:00:00",
          "y": 1.02,
          "yanchor": "bottom"
         },
         {
          "font": {
           "size": 10
          },
          "showarrow": false,
          "text": "fee",
          "textangle": 90,
          "x": "2025-03-04T00:00:00",
          "y": 1.02,
          "yanchor": "bottom"
         },
         {
          "font": {
           "size": 10
          },
          "showarrow": false,
          "text": "fee",
          "textangle": 90,
          "x": "2025-03-04T00:00:00",
          "y": 1.02,
          "yanchor": "bottom"
         },
         {
          "font": {
           "size": 10
          },
          "showarrow": false,
          "text": "sell",
          "textangle": 90,
          "x": "2025-03-04T00:00:00",
          "y": 1.02,
          "yanchor": "bottom"
         },
         {
          "font": {
           "size": 10
          },
          "showarrow": false,
          "text": "fee",
          "textangle": 90,
          "x": "2025-03-04T00:00:00",
          "y": 1.02,
          "yanchor": "bottom"
         },
         {
          "font": {
           "size": 10
          },
          "showarrow": false,
          "text": "fee",
          "textangle": 90,
          "x": "2025-03-04T00:00:00",
          "y": 1.02,
          "yanchor": "bottom"
         },
         {
          "font": {
           "size": 10
          },
          "showarrow": false,
          "text": "sell",
          "textangle": 90,
          "x": "2025-03-04T00:00:00",
          "y": 1.02,
          "yanchor": "bottom"
         },
         {
          "font": {
           "size": 10
          },
          "showarrow": false,
          "text": "deposit",
          "textangle": 90,
          "x": "2025-03-05T00:00:00",
          "y": 1.02,
          "yanchor": "bottom"
         },
         {
          "font": {
           "size": 10
          },
          "showarrow": false,
          "text": "deposit",
          "textangle": 90,
          "x": "2025-03-05T00:00:00",
          "y": 1.02,
          "yanchor": "bottom"
         },
         {
          "font": {
           "size": 10
          },
          "showarrow": false,
          "text": "fee",
          "textangle": 90,
          "x": "2025-03-14T00:00:00",
          "y": 1.02,
          "yanchor": "bottom"
         },
         {
          "font": {
           "size": 10
          },
          "showarrow": false,
          "text": "dividend",
          "textangle": 90,
          "x": "2025-03-14T00:00:00",
          "y": 1.02,
          "yanchor": "bottom"
         },
         {
          "font": {
           "size": 10
          },
          "showarrow": false,
          "text": "dividend",
          "textangle": 90,
          "x": "2025-03-14T00:00:00",
          "y": 1.02,
          "yanchor": "bottom"
         },
         {
          "font": {
           "size": 10
          },
          "showarrow": false,
          "text": "fee",
          "textangle": 90,
          "x": "2025-03-14T00:00:00",
          "y": 1.02,
          "yanchor": "bottom"
         },
         {
          "font": {
           "size": 10
          },
          "showarrow": false,
          "text": "dividend",
          "textangle": 90,
          "x": "2025-04-02T00:00:00",
          "y": 1.02,
          "yanchor": "bottom"
         },
         {
          "font": {
           "size": 10
          },
          "showarrow": false,
          "text": "dividend",
          "textangle": 90,
          "x": "2025-04-02T00:00:00",
          "y": 1.02,
          "yanchor": "bottom"
         },
         {
          "font": {
           "size": 10
          },
          "showarrow": false,
          "text": "fee",
          "textangle": 90,
          "x": "2025-04-03T00:00:00",
          "y": 1.02,
          "yanchor": "bottom"
         },
         {
          "font": {
           "size": 10
          },
          "showarrow": false,
          "text": "dividend",
          "textangle": 90,
          "x": "2025-04-03T00:00:00",
          "y": 1.02,
          "yanchor": "bottom"
         },
         {
          "font": {
           "size": 10
          },
          "showarrow": false,
          "text": "fee",
          "textangle": 90,
          "x": "2025-04-03T00:00:00",
          "y": 1.02,
          "yanchor": "bottom"
         },
         {
          "font": {
           "size": 10
          },
          "showarrow": false,
          "text": "dividend",
          "textangle": 90,
          "x": "2025-04-03T00:00:00",
          "y": 1.02,
          "yanchor": "bottom"
         },
         {
          "font": {
           "size": 10
          },
          "showarrow": false,
          "text": "deposit",
          "textangle": 90,
          "x": "2025-04-08T00:00:00",
          "y": 1.02,
          "yanchor": "bottom"
         },
         {
          "font": {
           "size": 10
          },
          "showarrow": false,
          "text": "deposit",
          "textangle": 90,
          "x": "2025-04-08T00:00:00",
          "y": 1.02,
          "yanchor": "bottom"
         },
         {
          "font": {
           "size": 10
          },
          "showarrow": false,
          "text": "fee",
          "textangle": 90,
          "x": "2025-04-25T00:00:00",
          "y": 1.02,
          "yanchor": "bottom"
         },
         {
          "font": {
           "size": 10
          },
          "showarrow": false,
          "text": "dividend",
          "textangle": 90,
          "x": "2025-04-25T00:00:00",
          "y": 1.02,
          "yanchor": "bottom"
         },
         {
          "font": {
           "size": 10
          },
          "showarrow": false,
          "text": "fee",
          "textangle": 90,
          "x": "2025-04-25T00:00:00",
          "y": 1.02,
          "yanchor": "bottom"
         },
         {
          "font": {
           "size": 10
          },
          "showarrow": false,
          "text": "dividend",
          "textangle": 90,
          "x": "2025-04-25T00:00:00",
          "y": 1.02,
          "yanchor": "bottom"
         },
         {
          "font": {
           "size": 10
          },
          "showarrow": false,
          "text": "dividend",
          "textangle": 90,
          "x": "2025-05-01T00:00:00",
          "y": 1.02,
          "yanchor": "bottom"
         },
         {
          "font": {
           "size": 10
          },
          "showarrow": false,
          "text": "fee",
          "textangle": 90,
          "x": "2025-05-01T00:00:00",
          "y": 1.02,
          "yanchor": "bottom"
         },
         {
          "font": {
           "size": 10
          },
          "showarrow": false,
          "text": "fee",
          "textangle": 90,
          "x": "2025-05-01T00:00:00",
          "y": 1.02,
          "yanchor": "bottom"
         },
         {
          "font": {
           "size": 10
          },
          "showarrow": false,
          "text": "dividend",
          "textangle": 90,
          "x": "2025-05-01T00:00:00",
          "y": 1.02,
          "yanchor": "bottom"
         },
         {
          "font": {
           "size": 10
          },
          "showarrow": false,
          "text": "deposit",
          "textangle": 90,
          "x": "2025-05-05T00:00:00",
          "y": 1.02,
          "yanchor": "bottom"
         },
         {
          "font": {
           "size": 10
          },
          "showarrow": false,
          "text": "deposit",
          "textangle": 90,
          "x": "2025-05-05T00:00:00",
          "y": 1.02,
          "yanchor": "bottom"
         }
        ],
        "height": 200,
        "margin": {
         "b": 20,
         "l": 20,
         "r": 20,
         "t": 40
        },
        "template": {
         "data": {
          "bar": [
           {
            "error_x": {
             "color": "#2a3f5f"
            },
            "error_y": {
             "color": "#2a3f5f"
            },
            "marker": {
             "line": {
              "color": "#E5ECF6",
              "width": 0.5
             },
             "pattern": {
              "fillmode": "overlay",
              "size": 10,
              "solidity": 0.2
             }
            },
            "type": "bar"
           }
          ],
          "barpolar": [
           {
            "marker": {
             "line": {
              "color": "#E5ECF6",
              "width": 0.5
             },
             "pattern": {
              "fillmode": "overlay",
              "size": 10,
              "solidity": 0.2
             }
            },
            "type": "barpolar"
           }
          ],
          "carpet": [
           {
            "aaxis": {
             "endlinecolor": "#2a3f5f",
             "gridcolor": "white",
             "linecolor": "white",
             "minorgridcolor": "white",
             "startlinecolor": "#2a3f5f"
            },
            "baxis": {
             "endlinecolor": "#2a3f5f",
             "gridcolor": "white",
             "linecolor": "white",
             "minorgridcolor": "white",
             "startlinecolor": "#2a3f5f"
            },
            "type": "carpet"
           }
          ],
          "choropleth": [
           {
            "colorbar": {
             "outlinewidth": 0,
             "ticks": ""
            },
            "type": "choropleth"
           }
          ],
          "contour": [
           {
            "colorbar": {
             "outlinewidth": 0,
             "ticks": ""
            },
            "colorscale": [
             [
              0,
              "#0d0887"
             ],
             [
              0.1111111111111111,
              "#46039f"
             ],
             [
              0.2222222222222222,
              "#7201a8"
             ],
             [
              0.3333333333333333,
              "#9c179e"
             ],
             [
              0.4444444444444444,
              "#bd3786"
             ],
             [
              0.5555555555555556,
              "#d8576b"
             ],
             [
              0.6666666666666666,
              "#ed7953"
             ],
             [
              0.7777777777777778,
              "#fb9f3a"
             ],
             [
              0.8888888888888888,
              "#fdca26"
             ],
             [
              1,
              "#f0f921"
             ]
            ],
            "type": "contour"
           }
          ],
          "contourcarpet": [
           {
            "colorbar": {
             "outlinewidth": 0,
             "ticks": ""
            },
            "type": "contourcarpet"
           }
          ],
          "heatmap": [
           {
            "colorbar": {
             "outlinewidth": 0,
             "ticks": ""
            },
            "colorscale": [
             [
              0,
              "#0d0887"
             ],
             [
              0.1111111111111111,
              "#46039f"
             ],
             [
              0.2222222222222222,
              "#7201a8"
             ],
             [
              0.3333333333333333,
              "#9c179e"
             ],
             [
              0.4444444444444444,
              "#bd3786"
             ],
             [
              0.5555555555555556,
              "#d8576b"
             ],
             [
              0.6666666666666666,
              "#ed7953"
             ],
             [
              0.7777777777777778,
              "#fb9f3a"
             ],
             [
              0.8888888888888888,
              "#fdca26"
             ],
             [
              1,
              "#f0f921"
             ]
            ],
            "type": "heatmap"
           }
          ],
          "histogram": [
           {
            "marker": {
             "pattern": {
              "fillmode": "overlay",
              "size": 10,
              "solidity": 0.2
             }
            },
            "type": "histogram"
           }
          ],
          "histogram2d": [
           {
            "colorbar": {
             "outlinewidth": 0,
             "ticks": ""
            },
            "colorscale": [
             [
              0,
              "#0d0887"
             ],
             [
              0.1111111111111111,
              "#46039f"
             ],
             [
              0.2222222222222222,
              "#7201a8"
             ],
             [
              0.3333333333333333,
              "#9c179e"
             ],
             [
              0.4444444444444444,
              "#bd3786"
             ],
             [
              0.5555555555555556,
              "#d8576b"
             ],
             [
              0.6666666666666666,
              "#ed7953"
             ],
             [
              0.7777777777777778,
              "#fb9f3a"
             ],
             [
              0.8888888888888888,
              "#fdca26"
             ],
             [
              1,
              "#f0f921"
             ]
            ],
            "type": "histogram2d"
           }
          ],
          "histogram2dcontour": [
           {
            "colorbar": {
             "outlinewidth": 0,
             "ticks": ""
            },
            "colorscale": [
             [
              0,
              "#0d0887"
             ],
             [
              0.1111111111111111,
              "#46039f"
             ],
             [
              0.2222222222222222,
              "#7201a8"
             ],
             [
              0.3333333333333333,
              "#9c179e"
             ],
             [
              0.4444444444444444,
              "#bd3786"
             ],
             [
              0.5555555555555556,
              "#d8576b"
             ],
             [
              0.6666666666666666,
              "#ed7953"
             ],
             [
              0.7777777777777778,
              "#fb9f3a"
             ],
             [
              0.8888888888888888,
              "#fdca26"
             ],
             [
              1,
              "#f0f921"
             ]
            ],
            "type": "histogram2dcontour"
           }
          ],
          "mesh3d": [
           {
            "colorbar": {
             "outlinewidth": 0,
             "ticks": ""
            },
            "type": "mesh3d"
           }
          ],
          "parcoords": [
           {
            "line": {
             "colorbar": {
              "outlinewidth": 0,
              "ticks": ""
             }
            },
            "type": "parcoords"
           }
          ],
          "pie": [
           {
            "automargin": true,
            "type": "pie"
           }
          ],
          "scatter": [
           {
            "fillpattern": {
             "fillmode": "overlay",
             "size": 10,
             "solidity": 0.2
            },
            "type": "scatter"
           }
          ],
          "scatter3d": [
           {
            "line": {
             "colorbar": {
              "outlinewidth": 0,
              "ticks": ""
             }
            },
            "marker": {
             "colorbar": {
              "outlinewidth": 0,
              "ticks": ""
             }
            },
            "type": "scatter3d"
           }
          ],
          "scattercarpet": [
           {
            "marker": {
             "colorbar": {
              "outlinewidth": 0,
              "ticks": ""
             }
            },
            "type": "scattercarpet"
           }
          ],
          "scattergeo": [
           {
            "marker": {
             "colorbar": {
              "outlinewidth": 0,
              "ticks": ""
             }
            },
            "type": "scattergeo"
           }
          ],
          "scattergl": [
           {
            "marker": {
             "colorbar": {
              "outlinewidth": 0,
              "ticks": ""
             }
            },
            "type": "scattergl"
           }
          ],
          "scattermap": [
           {
            "marker": {
             "colorbar": {
              "outlinewidth": 0,
              "ticks": ""
             }
            },
            "type": "scattermap"
           }
          ],
          "scattermapbox": [
           {
            "marker": {
             "colorbar": {
              "outlinewidth": 0,
              "ticks": ""
             }
            },
            "type": "scattermapbox"
           }
          ],
          "scatterpolar": [
           {
            "marker": {
             "colorbar": {
              "outlinewidth": 0,
              "ticks": ""
             }
            },
            "type": "scatterpolar"
           }
          ],
          "scatterpolargl": [
           {
            "marker": {
             "colorbar": {
              "outlinewidth": 0,
              "ticks": ""
             }
            },
            "type": "scatterpolargl"
           }
          ],
          "scatterternary": [
           {
            "marker": {
             "colorbar": {
              "outlinewidth": 0,
              "ticks": ""
             }
            },
            "type": "scatterternary"
           }
          ],
          "surface": [
           {
            "colorbar": {
             "outlinewidth": 0,
             "ticks": ""
            },
            "colorscale": [
             [
              0,
              "#0d0887"
             ],
             [
              0.1111111111111111,
              "#46039f"
             ],
             [
              0.2222222222222222,
              "#7201a8"
             ],
             [
              0.3333333333333333,
              "#9c179e"
             ],
             [
              0.4444444444444444,
              "#bd3786"
             ],
             [
              0.5555555555555556,
              "#d8576b"
             ],
             [
              0.6666666666666666,
              "#ed7953"
             ],
             [
              0.7777777777777778,
              "#fb9f3a"
             ],
             [
              0.8888888888888888,
              "#fdca26"
             ],
             [
              1,
              "#f0f921"
             ]
            ],
            "type": "surface"
           }
          ],
          "table": [
           {
            "cells": {
             "fill": {
              "color": "#EBF0F8"
             },
             "line": {
              "color": "white"
             }
            },
            "header": {
             "fill": {
              "color": "#C8D4E3"
             },
             "line": {
              "color": "white"
             }
            },
            "type": "table"
           }
          ]
         },
         "layout": {
          "annotationdefaults": {
           "arrowcolor": "#2a3f5f",
           "arrowhead": 0,
           "arrowwidth": 1
          },
          "autotypenumbers": "strict",
          "coloraxis": {
           "colorbar": {
            "outlinewidth": 0,
            "ticks": ""
           }
          },
          "colorscale": {
           "diverging": [
            [
             0,
             "#8e0152"
            ],
            [
             0.1,
             "#c51b7d"
            ],
            [
             0.2,
             "#de77ae"
            ],
            [
             0.3,
             "#f1b6da"
            ],
            [
             0.4,
             "#fde0ef"
            ],
            [
             0.5,
             "#f7f7f7"
            ],
            [
             0.6,
             "#e6f5d0"
            ],
            [
             0.7,
             "#b8e186"
            ],
            [
             0.8,
             "#7fbc41"
            ],
            [
             0.9,
             "#4d9221"
            ],
            [
             1,
             "#276419"
            ]
           ],
           "sequential": [
            [
             0,
             "#0d0887"
            ],
            [
             0.1111111111111111,
             "#46039f"
            ],
            [
             0.2222222222222222,
             "#7201a8"
            ],
            [
             0.3333333333333333,
             "#9c179e"
            ],
            [
             0.4444444444444444,
             "#bd3786"
            ],
            [
             0.5555555555555556,
             "#d8576b"
            ],
            [
             0.6666666666666666,
             "#ed7953"
            ],
            [
             0.7777777777777778,
             "#fb9f3a"
            ],
            [
             0.8888888888888888,
             "#fdca26"
            ],
            [
             1,
             "#f0f921"
            ]
           ],
           "sequentialminus": [
            [
             0,
             "#0d0887"
            ],
            [
             0.1111111111111111,
             "#46039f"
            ],
            [
             0.2222222222222222,
             "#7201a8"
            ],
            [
             0.3333333333333333,
             "#9c179e"
            ],
            [
             0.4444444444444444,
             "#bd3786"
            ],
            [
             0.5555555555555556,
             "#d8576b"
            ],
            [
             0.6666666666666666,
             "#ed7953"
            ],
            [
             0.7777777777777778,
             "#fb9f3a"
            ],
            [
             0.8888888888888888,
             "#fdca26"
            ],
            [
             1,
             "#f0f921"
            ]
           ]
          },
          "colorway": [
           "#636efa",
           "#EF553B",
           "#00cc96",
           "#ab63fa",
           "#FFA15A",
           "#19d3f3",
           "#FF6692",
           "#B6E880",
           "#FF97FF",
           "#FECB52"
          ],
          "font": {
           "color": "#2a3f5f"
          },
          "geo": {
           "bgcolor": "white",
           "lakecolor": "white",
           "landcolor": "#E5ECF6",
           "showlakes": true,
           "showland": true,
           "subunitcolor": "white"
          },
          "hoverlabel": {
           "align": "left"
          },
          "hovermode": "closest",
          "mapbox": {
           "style": "light"
          },
          "paper_bgcolor": "white",
          "plot_bgcolor": "#E5ECF6",
          "polar": {
           "angularaxis": {
            "gridcolor": "white",
            "linecolor": "white",
            "ticks": ""
           },
           "bgcolor": "#E5ECF6",
           "radialaxis": {
            "gridcolor": "white",
            "linecolor": "white",
            "ticks": ""
           }
          },
          "scene": {
           "xaxis": {
            "backgroundcolor": "#E5ECF6",
            "gridcolor": "white",
            "gridwidth": 2,
            "linecolor": "white",
            "showbackground": true,
            "ticks": "",
            "zerolinecolor": "white"
           },
           "yaxis": {
            "backgroundcolor": "#E5ECF6",
            "gridcolor": "white",
            "gridwidth": 2,
            "linecolor": "white",
            "showbackground": true,
            "ticks": "",
            "zerolinecolor": "white"
           },
           "zaxis": {
            "backgroundcolor": "#E5ECF6",
            "gridcolor": "white",
            "gridwidth": 2,
            "linecolor": "white",
            "showbackground": true,
            "ticks": "",
            "zerolinecolor": "white"
           }
          },
          "shapedefaults": {
           "line": {
            "color": "#2a3f5f"
           }
          },
          "ternary": {
           "aaxis": {
            "gridcolor": "white",
            "linecolor": "white",
            "ticks": ""
           },
           "baxis": {
            "gridcolor": "white",
            "linecolor": "white",
            "ticks": ""
           },
           "bgcolor": "#E5ECF6",
           "caxis": {
            "gridcolor": "white",
            "linecolor": "white",
            "ticks": ""
           }
          },
          "title": {
           "x": 0.05
          },
          "xaxis": {
           "automargin": true,
           "gridcolor": "white",
           "linecolor": "white",
           "ticks": "",
           "title": {
            "standoff": 15
           },
           "zerolinecolor": "white",
           "zerolinewidth": 2
          },
          "yaxis": {
           "automargin": true,
           "gridcolor": "white",
           "linecolor": "white",
           "ticks": "",
           "title": {
            "standoff": 15
           },
           "zerolinecolor": "white",
           "zerolinewidth": 2
          }
         }
        },
        "title": {
         "text": "Transaction Type Timeline"
        },
        "xaxis": {
         "title": {
          "text": "Date"
         }
        },
        "yaxis": {
         "visible": false
        }
       }
      }
     },
     "metadata": {},
     "output_type": "display_data"
    }
   ],
   "source": [
    "import plotly.graph_objects as go\n",
    "\n",
    "# Ensure 'date' is datetime (already done in your df)\n",
    "df['date'] = pd.to_datetime(df['date'])\n",
    "\n",
    "# Sort by date (already done in df_sorted)\n",
    "df_sorted = df.sort_values('date')\n",
    "\n",
    "fig = go.Figure()\n",
    "\n",
    "# Add timeline markers\n",
    "fig.add_trace(go.Scatter(\n",
    "    x=df_sorted['date'],\n",
    "    y=[1]*len(df_sorted),\n",
    "    mode='markers',\n",
    "    marker=dict(symbol='line-ns-open', size=20, color='skyblue'),\n",
    "    text=df_sorted['type'],\n",
    "    hovertemplate='Date: %{x}<br>Type: %{text}<extra></extra>',\n",
    "    showlegend=False\n",
    "))\n",
    "\n",
    "# Annotate each event type above the marker\n",
    "for d, t in zip(df_sorted['date'], df_sorted['type']):\n",
    "    fig.add_annotation(\n",
    "        x=d, y=1.02, text=str(t),\n",
    "        showarrow=False, yanchor='bottom', textangle=90, font=dict(size=10)\n",
    "    )\n",
    "\n",
    "fig.update_yaxes(visible=False)\n",
    "fig.update_layout(\n",
    "    height=200,\n",
    "    xaxis_title='Date',\n",
    "    title='Transaction Type Timeline',\n",
    "    margin=dict(l=20, r=20, t=40, b=20)\n",
    ")\n",
    "\n",
    "fig.show()"
   ]
  }
 ],
 "metadata": {
  "kernelspec": {
   "display_name": "umbrella",
   "language": "python",
   "name": "python3"
  },
  "language_info": {
   "codemirror_mode": {
    "name": "ipython",
    "version": 3
   },
   "file_extension": ".py",
   "mimetype": "text/x-python",
   "name": "python",
   "nbconvert_exporter": "python",
   "pygments_lexer": "ipython3",
   "version": "3.10.16"
  }
 },
 "nbformat": 4,
 "nbformat_minor": 5
}
